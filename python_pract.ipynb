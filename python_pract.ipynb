{
 "cells": [
  {
   "cell_type": "markdown",
   "id": "f38aa2f9",
   "metadata": {},
   "source": [
    "### 2. Variables types"
   ]
  },
  {
   "cell_type": "code",
   "execution_count": 11,
   "id": "deb61264",
   "metadata": {},
   "outputs": [
    {
     "name": "stdout",
     "output_type": "stream",
     "text": [
      "hello my name is Lixing. my favourite food is pizza and my email is Lixing123@gmail.com.\n"
     ]
    }
   ],
   "source": [
    "first_name = \"Lixing\"\n",
    "food = \"pizza\"\n",
    "email = \"Lixing123@gmail.com\"\n",
    "\n",
    "print(f\"hello my name is {first_name}. my favourite food is {food} and my email is {email}.\")"
   ]
  },
  {
   "cell_type": "code",
   "execution_count": 12,
   "id": "963230be",
   "metadata": {},
   "outputs": [
    {
     "name": "stdout",
     "output_type": "stream",
     "text": [
      "the price of pizza is 100 dollars, my gpa is 4.0, and the distance between us is 5.5\n"
     ]
    }
   ],
   "source": [
    "price = 100\n",
    "gpa = 4.0\n",
    "distance = 5.5\n",
    "print(f\"the price of {food} is {price} dollars, my gpa is {gpa}, and the distance between us is {distance}\")"
   ]
  },
  {
   "cell_type": "code",
   "execution_count": null,
   "id": "80cdddd7",
   "metadata": {},
   "outputs": [
    {
     "name": "stdout",
     "output_type": "stream",
     "text": [
      "Are you a student?: True True pizza\n"
     ]
    }
   ],
   "source": [
    "is_student = True\n",
    "if is_student:\n",
    "    print(\"you are a student\")\n",
    "else:\n",
    "    print(\"you are not a student \")"
   ]
  },
  {
   "cell_type": "markdown",
   "id": "27a4b2af",
   "metadata": {},
   "source": [
    "### 3. Type casting"
   ]
  },
  {
   "cell_type": "code",
   "execution_count": 18,
   "id": "0aa5c65f",
   "metadata": {},
   "outputs": [
    {
     "name": "stdout",
     "output_type": "stream",
     "text": [
      "<class 'str'>\n",
      "<class 'int'>\n",
      "<class 'float'>\n",
      "<class 'bool'>\n"
     ]
    }
   ],
   "source": [
    "name = \"Lixing\"\n",
    "age = 25\n",
    "gpa = 3.2\n",
    "is_student = True\n",
    "\n",
    "print(type(name))\n",
    "print(type(age))\n",
    "print(type(gpa))\n",
    "print(type(is_student))"
   ]
  },
  {
   "cell_type": "code",
   "execution_count": 19,
   "id": "339fbe36",
   "metadata": {},
   "outputs": [
    {
     "name": "stdout",
     "output_type": "stream",
     "text": [
      "3\n"
     ]
    }
   ],
   "source": [
    "gpa = int(gpa)\n",
    "print(gpa)"
   ]
  },
  {
   "cell_type": "code",
   "execution_count": null,
   "id": "1ae40874",
   "metadata": {},
   "outputs": [
    {
     "name": "stdout",
     "output_type": "stream",
     "text": [
      "<class 'str'>\n"
     ]
    }
   ],
   "source": [
    "age = str(age)\n",
    "print(type(age))"
   ]
  },
  {
   "cell_type": "code",
   "execution_count": null,
   "id": "f3682ddb",
   "metadata": {},
   "outputs": [
    {
     "name": "stdout",
     "output_type": "stream",
     "text": [
      "True\n"
     ]
    }
   ],
   "source": [
    "# will be false if name is emtpy string\n",
    "name = bool(name)\n",
    "print(name)"
   ]
  },
  {
   "cell_type": "code",
   "execution_count": 22,
   "id": "76f25436",
   "metadata": {},
   "outputs": [
    {
     "name": "stdout",
     "output_type": "stream",
     "text": [
      "False\n"
     ]
    }
   ],
   "source": [
    "name = \"\"\n",
    "print(bool(name))"
   ]
  },
  {
   "cell_type": "markdown",
   "id": "0a092a5f",
   "metadata": {},
   "source": [
    "### 4. User input"
   ]
  },
  {
   "cell_type": "code",
   "execution_count": 24,
   "id": "a5a7a9ca",
   "metadata": {},
   "outputs": [
    {
     "name": "stdout",
     "output_type": "stream",
     "text": [
      "Hi i am lixing and i am 24 years old\n"
     ]
    }
   ],
   "source": [
    "name  = input(\"What is your name?\")\n",
    "age = input(\"how old are you\")\n",
    "\n",
    "print(f\"Hi i am {name} and i am {age} years old\")"
   ]
  },
  {
   "cell_type": "code",
   "execution_count": 26,
   "id": "c0ef1910",
   "metadata": {},
   "outputs": [
    {
     "name": "stdout",
     "output_type": "stream",
     "text": [
      "24242424\n"
     ]
    }
   ],
   "source": [
    "age += age\n",
    "print(age)"
   ]
  },
  {
   "cell_type": "code",
   "execution_count": null,
   "id": "d80932f9",
   "metadata": {},
   "outputs": [
    {
     "name": "stdout",
     "output_type": "stream",
     "text": [
      "the twice of your age is 50\n"
     ]
    }
   ],
   "source": [
    "age = int(input(\"how old are you? \"))\n",
    "\n",
    "age += age\n",
    "print(f\"the twice of your age is {age}\")"
   ]
  },
  {
   "cell_type": "code",
   "execution_count": null,
   "id": "7541fb68",
   "metadata": {},
   "outputs": [
    {
     "name": "stdout",
     "output_type": "stream",
     "text": [
      "The area is: 25.0cm square\n"
     ]
    }
   ],
   "source": [
    "# Exercise 1 -- Area calculation\n",
    "length = float(input(\"enter the length: \"))\n",
    "width = float(input(\"enter the width: \")) \n",
    "area = length * width\n",
    "\n",
    "print(f\"The area is: {area}cm square\")"
   ]
  },
  {
   "cell_type": "code",
   "execution_count": 33,
   "id": "eb23f709",
   "metadata": {},
   "outputs": [
    {
     "name": "stdout",
     "output_type": "stream",
     "text": [
      "You have bought 10 sushi, the total amount spent is 10.0\n"
     ]
    }
   ],
   "source": [
    "# Exercise 2 -- shopping cart program\n",
    "\n",
    "item = input(\"what item do you want to buy?\")\n",
    "price = float(input(\"what is the price?: \"))\n",
    "quantity = int(input(\"How many are you going to buy?: \"))\n",
    "total = price * quantity\n",
    "\n",
    "print(f\"You have bought {quantity} {item}, the total amount spent is {total}\")"
   ]
  },
  {
   "cell_type": "markdown",
   "id": "31c3b8f9",
   "metadata": {},
   "source": [
    "### 5. Madlibs game"
   ]
  },
  {
   "cell_type": "code",
   "execution_count": 35,
   "id": "d56099c0",
   "metadata": {},
   "outputs": [
    {
     "name": "stdout",
     "output_type": "stream",
     "text": [
      "today i went to to a expensive zoo.\n",
      "In an exhibit, I saw a zebra\n",
      "zebra was cute  and running around\n",
      "I was delightex!\n"
     ]
    }
   ],
   "source": [
    "adjective1 = input(\"Enter an adjective\")\n",
    "noun1 = input(\"Enter a noun (Person, place, thing): \")\n",
    "adjective2 = input(\"Enter an adjective (description): \")\n",
    "verb1 = input(\"Enter a verb ending with ing: \")\n",
    "adjective3 = input(\"Enter another adjective\")\n",
    "\n",
    "print(f\"today i went to to a {adjective1} zoo.\")\n",
    "print(f\"In an exhibit, I saw a {noun1}\")\n",
    "print(f\"{noun1} was {adjective2} and {verb1}\")\n",
    "print(f\"I was {adjective3}!\")"
   ]
  },
  {
   "cell_type": "markdown",
   "id": "980feea2",
   "metadata": {},
   "source": [
    "### 6. Math"
   ]
  },
  {
   "cell_type": "code",
   "execution_count": null,
   "id": "8783188e",
   "metadata": {},
   "outputs": [
    {
     "name": "stdout",
     "output_type": "stream",
     "text": [
      "22500.0\n"
     ]
    }
   ],
   "source": [
    "money = 100\n",
    "money += 2\n",
    "money -=2\n",
    "money *= 3\n",
    "money /= 2\n",
    "money **= 2\n",
    "money %= 17\n",
    "\n",
    "print(money)"
   ]
  },
  {
   "cell_type": "code",
   "execution_count": 52,
   "id": "3a562af3",
   "metadata": {},
   "outputs": [
    {
     "name": "stdout",
     "output_type": "stream",
     "text": [
      "4\n",
      "4\n",
      "64\n",
      "5\n",
      "-4\n"
     ]
    }
   ],
   "source": [
    "x = 3.74\n",
    "y = -4\n",
    "z = 5\n",
    "\n",
    "result = round(x)\n",
    "result2 = abs(y)\n",
    "result3 = pow(4, 3) # same as 4 ** 3\n",
    "result4 = max(x, y, z)\n",
    "result5 = min(x, y, z)\n",
    "\n",
    "print(result)\n",
    "print(result2)\n",
    "print(result3)\n",
    "print(result4)\n",
    "print(result5)"
   ]
  },
  {
   "cell_type": "code",
   "execution_count": 58,
   "id": "3eade579",
   "metadata": {},
   "outputs": [
    {
     "name": "stdout",
     "output_type": "stream",
     "text": [
      "3.141592653589793\n",
      "2.718281828459045\n",
      "2.0\n",
      "10\n",
      "9\n"
     ]
    }
   ],
   "source": [
    "import math\n",
    "\n",
    "x = 4\n",
    "\n",
    "print(math.pi)\n",
    "print(math.e)\n",
    "print(math.sqrt(x))\n",
    "\n",
    "y = 9.7\n",
    "\n",
    "print(math.ceil(y))\n",
    "print(math.floor(y))"
   ]
  },
  {
   "cell_type": "code",
   "execution_count": 71,
   "id": "3a8d8506",
   "metadata": {},
   "outputs": [
    {
     "name": "stdout",
     "output_type": "stream",
     "text": [
      "The circumference is 31.42 cm\n",
      "The area of the circle is: 78.54\n"
     ]
    }
   ],
   "source": [
    "import math\n",
    "\n",
    "radius = float(input(\"Enter a radius of a circle\"))\n",
    "\n",
    "circumference = 2 * math.pi * radius\n",
    "print(f\"The circumference is {round(circumference, 2)} cm\")\n",
    "\n",
    "area = math.pi * pow(radius, 2)\n",
    "print(f\"The area of the circle is: {round(area, 2)} cm square\")"
   ]
  },
  {
   "cell_type": "code",
   "execution_count": 73,
   "id": "3c2dc7af",
   "metadata": {},
   "outputs": [
    {
     "name": "stdout",
     "output_type": "stream",
     "text": [
      "Side C = 5.66\n"
     ]
    }
   ],
   "source": [
    "import math\n",
    "\n",
    "a = float(input(\"Enter side A: \"))\n",
    "b = float(input(\"Enter side B: \"))\n",
    "c =  math.sqrt(pow(a, 2) + pow(b, 2))\n",
    "print(f\"Side C = {round(c, 2)}\")\n"
   ]
  },
  {
   "cell_type": "markdown",
   "id": "afc2e7d0",
   "metadata": {},
   "source": [
    "### 7. if statements"
   ]
  },
  {
   "cell_type": "code",
   "execution_count": null,
   "id": "07ff6ff8",
   "metadata": {},
   "outputs": [
    {
     "name": "stdout",
     "output_type": "stream",
     "text": [
      "You are underage\n"
     ]
    }
   ],
   "source": [
    "age = int(input(\"Enter your age\"))\n",
    "\n",
    "if age > 21:\n",
    "    print(\"You are an adult\")\n",
    "elif age < 0:\n",
    "    print(\"You are not born\")\n",
    "else:\n",
    "    print(\"You are underage\")\n",
    "    \n"
   ]
  },
  {
   "cell_type": "code",
   "execution_count": 79,
   "id": "2f32a6b8",
   "metadata": {},
   "outputs": [
    {
     "name": "stdout",
     "output_type": "stream",
     "text": [
      "OK goodbye!\n"
     ]
    }
   ],
   "source": [
    "response = input(\"Would you like food (y/n) ?:\")\n",
    "\n",
    "if response == \"y\":\n",
    "    print(\"I'll get you some food!\")\n",
    "else:\n",
    "    print(\"OK goodbye!\")"
   ]
  },
  {
   "cell_type": "code",
   "execution_count": null,
   "id": "8f4d1ec3",
   "metadata": {},
   "outputs": [
    {
     "name": "stdout",
     "output_type": "stream",
     "text": [
      "Hello Lixing\n"
     ]
    }
   ],
   "source": [
    "name = input(\"Enter your name\")\n",
    "\n",
    "if name == \"\":\n",
    "    print(\"You did not type in your name\")\n",
    "else:\n",
    "    print(f\"Hello {name}\")"
   ]
  },
  {
   "cell_type": "code",
   "execution_count": 86,
   "id": "7ca1b4a7",
   "metadata": {},
   "outputs": [
    {
     "name": "stdout",
     "output_type": "stream",
     "text": [
      "True\n",
      "The item is for sale\n"
     ]
    }
   ],
   "source": [
    "for_sale = True\n",
    "\n",
    "print(for_sale == True)\n",
    "\n",
    "if for_sale == True:   \n",
    "    print(\"The item is for sale\")\n",
    "else:\n",
    "    print(\"This item is not for sale\")"
   ]
  },
  {
   "cell_type": "markdown",
   "id": "52cae78d",
   "metadata": {},
   "source": [
    "### 8. python calculator"
   ]
  },
  {
   "cell_type": "code",
   "execution_count": 97,
   "id": "28a60c78",
   "metadata": {},
   "outputs": [
    {
     "name": "stdout",
     "output_type": "stream",
     "text": [
      "pizza is not a valid operator !!\n"
     ]
    }
   ],
   "source": [
    "operator = input(\"Enter an operator (+ - * /): \")\n",
    "num1 = int(input(\"Enter the first number\"))\n",
    "num2 = int(input(\"Enter the second number\"))\n",
    "result = 0 \n",
    "\n",
    "if operator == \"+\":\n",
    "    result = round(num1 + num2)\n",
    "    print(result)\n",
    "elif operator == \"-\":\n",
    "    result = round(num1 - num2)\n",
    "    print(result)\n",
    "elif operator == \"*\":\n",
    "    result = round(num1 * num2)\n",
    "    print(result)\n",
    "elif operator == \"/\":\n",
    "    result = round(num1 / num2)\n",
    "    print(result)\n",
    "else:\n",
    "    print(f\"{operator} is not a valid operator !!\")\n",
    "    \n"
   ]
  },
  {
   "cell_type": "markdown",
   "metadata": {},
   "source": [
    "### 9. Weight converter"
   ]
  },
  {
   "cell_type": "code",
   "execution_count": null,
   "id": "ab013947",
   "metadata": {},
   "outputs": [
    {
     "name": "stdout",
     "output_type": "stream",
     "text": [
      "your weight is: 132.3 kg\n"
     ]
    }
   ],
   "source": [
    "## Python weight converter\n",
    "weight = float(input(\"Enter your weight: \"))\n",
    "unit = input(\"Kilograms or Pounds? (K or L): \")\n",
    "\n",
    "if unit == \"K\":\n",
    "    weight = weight * 2.205\n",
    "    unit = \"lbs\"\n",
    "    print(f\"your weight is: {weight} {unit}\")\n",
    "elif unit == \"L\":\n",
    "    weight = weight / 2.205\n",
    "    unit = \"kg\"\n",
    "    print(f\"your weight is: {weight} {unit}\")\n",
    "else: \n",
    "    print(\"invalid unit\")\n",
    "    "
   ]
  },
  {
   "cell_type": "markdown",
   "id": "0b3442f3",
   "metadata": {},
   "source": [
    "### 10. Temperature conversion"
   ]
  },
  {
   "cell_type": "code",
   "execution_count": 4,
   "id": "bb096721",
   "metadata": {},
   "outputs": [
    {
     "name": "stdout",
     "output_type": "stream",
     "text": [
      "The temperature in Farenheit is 50.0 farenheit\n"
     ]
    }
   ],
   "source": [
    "unit = input(\"Temp in Celcius or Fabrenheit (C/F)\")\n",
    "temp = float(input(\"What is the current temperature?\"))\n",
    "\n",
    "if unit == \"C\":\n",
    "    temp = round((9 * temp) / 5 + 32, 1)\n",
    "    print(f\"The temperature in Farenheit is {temp} farenheit\")\n",
    "elif unit == \"F\":\n",
    "    temp = round((temp - 32) * 5 / 9, 1)\n",
    "    print(f\"THe temp in Celcius is {temp} deg celcius\")\n",
    "else:\n",
    "    print(f\"{unit} is not valid\")"
   ]
  },
  {
   "cell_type": "markdown",
   "id": "249cc063",
   "metadata": {},
   "source": [
    "### 11. Logical operators"
   ]
  },
  {
   "cell_type": "code",
   "execution_count": 5,
   "id": "af308856",
   "metadata": {},
   "outputs": [
    {
     "name": "stdout",
     "output_type": "stream",
     "text": [
      "The outdoor event is still scheduled\n"
     ]
    }
   ],
   "source": [
    "temp = 25\n",
    "is_raining = False\n",
    "\n",
    "if temp > 35 or temp < 0 or is_raining:\n",
    "    print(\"The outdoor event is cancelled\")\n",
    "else:\n",
    "    print(\"The outdoor event is still scheduled\")"
   ]
  },
  {
   "cell_type": "code",
   "execution_count": null,
   "id": "3229fa11",
   "metadata": {},
   "outputs": [],
   "source": [
    "temp = 30\n",
    "is_sunny = True\n",
    "\n",
    "if temp >= 28 and is_sunny:\n",
    "    print(\"It is hot outside\")\n",
    "    print(\"It is sunny\")\n",
    "elif temp <= 0 and is_sunny:\n",
    "    print(\"It is cold outside\")\n",
    "    print(\"It is sunny\")\n",
    "elif 28 > temp > 0 and is_sunny:\n",
    "    print(\"It is warm outside\")\n",
    "    print(\"It is sunny\")\n",
    "elif temp >= 28 and not is_sunny:\n",
    "    print(\"it is hot outside\")\n",
    "    print(\"It is cloudy\")\n",
    "elif temp <= 0 and not is_sunny:\n",
    "    print(\"it is hot outside\")\n",
    "    print(\"It is cloudy\")\n",
    "elif 28 > temp > 0 and not is_sunny:\n",
    "    print(\"it is warm outside\")\n",
    "    print(\"It is cloudy\")\n"
   ]
  },
  {
   "cell_type": "markdown",
   "id": "10982170",
   "metadata": {},
   "source": [
    "### 12. Conditional expressions/ ternary operator "
   ]
  },
  {
   "cell_type": "code",
   "execution_count": 20,
   "id": "ee33167c",
   "metadata": {},
   "outputs": [
    {
     "name": "stdout",
     "output_type": "stream",
     "text": [
      "Positive\n",
      "Odd\n",
      "10\n",
      "5\n",
      "Adult\n",
      "hot\n",
      "Full access\n"
     ]
    }
   ],
   "source": [
    "num1 = 5\n",
    "num2 = 10\n",
    "age = 25\n",
    "temperature = 30\n",
    "role = \"admin\"\n",
    "\n",
    "print(\"Positive\" if num1 > 0 else \"Negative\")\n",
    "is_even = \"Even\" if num1 * 2 == 0 else \"Odd\"\n",
    "print(is_even)\n",
    "\n",
    "max_num = num1 if num1 > num2 else num2\n",
    "min_num = num1 if num1 < num2 else num2\n",
    "\n",
    "print(max_num)\n",
    "print(min_num)\n",
    "\n",
    "status = \"Adult\" if age > 21 else \"child\"\n",
    "print(status)\n",
    "\n",
    "weather = \"hot\" if temperature > 28 else \"cold\"\n",
    "print(weather)\n",
    "\n",
    "access_level = \"Full access\" if role == \"admin\" else \"limited access\"\n",
    "print(access_level)"
   ]
  },
  {
   "cell_type": "markdown",
   "id": "6adeb80f",
   "metadata": {},
   "source": [
    "### 13. String methods"
   ]
  },
  {
   "cell_type": "code",
   "execution_count": 45,
   "id": "a64ce3b3",
   "metadata": {},
   "outputs": [
    {
     "name": "stdout",
     "output_type": "stream",
     "text": [
      "False\n",
      "True\n",
      "5\n",
      "Lixing\n",
      "LIXING\n",
      "lixing\n",
      "False\n",
      "True\n"
     ]
    }
   ],
   "source": [
    "name = input(\"Enter your full name\")\n",
    "result = len(name)\n",
    "result2 = name.find(\"in\")\n",
    "result3 = name.rfind(\"g\")      # finding last occurence\n",
    "name2 = name.capitalize()      #Capitalize first char\n",
    "name3 = name.upper()\n",
    "name4 = name3.lower()\n",
    "\n",
    "result = name.isdigit()        # if string only has digits... dont need to typecast\n",
    "result2 = name.isalpha()        # cannot contain space\n",
    "\n",
    "print(result)\n",
    "print(result2)\n",
    "print(result3)\n",
    "\n",
    "print(name2)\n",
    "print(name3)\n",
    "print(name4)\n",
    "\n",
    "print(result)\n",
    "print(result2)"
   ]
  },
  {
   "cell_type": "code",
   "execution_count": 51,
   "id": "9a3c7429",
   "metadata": {},
   "outputs": [
    {
     "name": "stdout",
     "output_type": "stream",
     "text": [
      "2\n",
      "123=123=123\n"
     ]
    }
   ],
   "source": [
    "phone_number = input(\"Enter phone number\")\n",
    "result = phone_number.count(\"-\")\n",
    "result2 = phone_number.replace(\"-\", \"=\")\n",
    "\n",
    "print(result)\n",
    "print(result2)"
   ]
  },
  {
   "cell_type": "markdown",
   "id": "134bdf9b",
   "metadata": {},
   "source": [
    "### Enter a username"
   ]
  },
  {
   "cell_type": "code",
   "execution_count": null,
   "id": "cc0d94b6",
   "metadata": {},
   "outputs": [
    {
     "name": "stdout",
     "output_type": "stream",
     "text": [
      "username cannot contain space\n"
     ]
    }
   ],
   "source": [
    "username = input(\"Enter a username\")\n",
    "\n",
    "if len(username) > 12:\n",
    "    print(\"Username cannot be more than 12 characters\")\n",
    "elif username.find(\" \") != -1:\n",
    "    print(\"username cannot contain space\")\n",
    "elif not username.isalpha():\n",
    "    print(\"Your username cannot contain numbers\")\n",
    "else:\n",
    "    print(f\"Welcome {username}\")"
   ]
  },
  {
   "cell_type": "markdown",
   "id": "6c7f9736",
   "metadata": {},
   "source": [
    "### 14. String indexing"
   ]
  },
  {
   "cell_type": "code",
   "execution_count": 92,
   "id": "f23c2c15",
   "metadata": {},
   "outputs": [
    {
     "name": "stdout",
     "output_type": "stream",
     "text": [
      "4\n",
      "123-\n",
      "123-\n",
      "456\n",
      "456-789\n",
      "9\n",
      "134679\n",
      "-789\n",
      "987-654-321\n",
      "54-321\n"
     ]
    }
   ],
   "source": [
    "###  [start:end:step]\n",
    "\n",
    "credit_number = \"123-456-789\"\n",
    "print(credit_number[4])\n",
    "print(credit_number[0: 4])  #ending step is exclusive\n",
    "print(credit_number[:4])    # assume start is 0    \n",
    "print(credit_number[4:7])\n",
    "print(credit_number[4:])    # assume until this end\n",
    "print(credit_number[-1])    # start from back... -1\n",
    "print(credit_number[::2])   # skip 2 char\n",
    "\n",
    "last_3_digits = credit_number[-4:]\n",
    "print(last_3_digits)\n",
    "\n",
    "reverse_credit_number = credit_number[::-1]   \n",
    "reverse_subset = credit_number[5::-1]     # to reverse subset... start must be greater than end\n",
    "print(reverse_credit_number)\n",
    "print(reverse_subset)"
   ]
  },
  {
   "cell_type": "markdown",
   "id": "100951ba",
   "metadata": {},
   "source": [
    "### 15 format specifier"
   ]
  },
  {
   "cell_type": "code",
   "execution_count": null,
   "id": "3b3eb3e4",
   "metadata": {},
   "outputs": [
    {
     "name": "stdout",
     "output_type": "stream",
     "text": [
      "Price 1 is 3.14\n",
      "Price 2 is -987.65\n",
      "Price 3 is 12.34\n",
      "Price 1 is       3.14\n",
      "Price 2 is    -987.65\n",
      "Price 3 is      12.34\n",
      "Price 1 is 3.14      \n",
      "Price 2 is -987.65   \n",
      "Price 3 is 12.34     \n",
      "Price 1 is    3.14   \n",
      "Price 2 is -987.65000\n",
      "Price 3 is   12.34   \n",
      "Price 1 is      +3.14\n",
      "Price 2 is   -987.650\n",
      "Price 3 is  +12.34000\n",
      "Price 1 is  3.14159\n",
      "Price 2 is -987.65\n",
      "Price 3 is  12.34\n",
      "Price 4 is +10,000,000.99\n"
     ]
    }
   ],
   "source": [
    "price1 = 3.14159\n",
    "price2 = -987.65\n",
    "price3 = 12.34\n",
    "price4 = 10000000.987654\n",
    "\n",
    "print(f\"Price 1 is {price1:.2f}\")\n",
    "print(f\"Price 2 is {price2:.2f}\")\n",
    "print(f\"Price 3 is {price3:.2f}\")\n",
    "\n",
    "# right justify\n",
    "print(f\"Price 1 is {price1:10.2f}\")\n",
    "print(f\"Price 2 is {price2:10}\")\n",
    "print(f\"Price 3 is {price3:10}\")\n",
    "\n",
    "# left justify \n",
    "print(f\"Price 1 is {price1:<10.2f}\")\n",
    "print(f\"Price 2 is {price2:<10}\")\n",
    "print(f\"Price 3 is {price3:<10}\")\n",
    "\n",
    "# center justify\n",
    "print(f\"Price 1 is {price1:^10.2f}\")\n",
    "print(f\"Price 2 is {price2:^10.5f}\")\n",
    "print(f\"Price 3 is {price3:^10}\")\n",
    "\n",
    "\n",
    "# adding plus or negative signs\n",
    "print(f\"Price 1 is {price1:+10.2f}\")\n",
    "print(f\"Price 2 is {price2:+10.3f}\")\n",
    "print(f\"Price 3 is {price3:+10.5f}\")\n",
    "\n",
    "# only a space\n",
    "print(f\"Price 1 is {price1: }\")\n",
    "print(f\"Price 2 is {price2: }\")\n",
    "print(f\"Price 3 is {price3: }\")\n",
    "\n",
    "\n",
    "print(f\"Price 4 is {price4:+,.2f}\")\n",
    "\n"
   ]
  },
  {
   "cell_type": "markdown",
   "id": "4490a793",
   "metadata": {},
   "source": [
    "### 16. while loops"
   ]
  },
  {
   "cell_type": "code",
   "execution_count": null,
   "id": "16853ccb",
   "metadata": {},
   "outputs": [
    {
     "name": "stdout",
     "output_type": "stream",
     "text": [
      "Hello 123\n"
     ]
    },
    {
     "data": {
      "text/plain": [
       "str"
      ]
     },
     "execution_count": 144,
     "metadata": {},
     "output_type": "execute_result"
    }
   ],
   "source": [
    "name = input(\"Enter your name\")\n",
    "\n",
    "while name == \"\":\n",
    "    print(\"You did not enter your name \")\n",
    "    name = input(\"Enter your name\")\n",
    "\n",
    "print(f\"Hello {name}\")"
   ]
  },
  {
   "cell_type": "code",
   "execution_count": 8,
   "id": "adacbfb5",
   "metadata": {},
   "outputs": [
    {
     "name": "stdout",
     "output_type": "stream",
     "text": [
      "age cannot be negative\n",
      "your age is 123\n"
     ]
    }
   ],
   "source": [
    "age = int(input(\"Enter your age\"))\n",
    "\n",
    "while age < 0 :\n",
    "    print(\"age cannot be negative\")\n",
    "    age = int(input(\"Enter your age\"))\n",
    "    \n",
    "print(f\"your age is {age}\")"
   ]
  },
  {
   "cell_type": "code",
   "execution_count": 13,
   "id": "ff07816a",
   "metadata": {},
   "outputs": [
    {
     "name": "stdout",
     "output_type": "stream",
     "text": [
      "you like pizza\n",
      "you like james\n",
      "you like lily\n",
      "you like \n",
      "you like \n",
      "bye\n"
     ]
    }
   ],
   "source": [
    "food = input(\"Enter your favourite food\")\n",
    "\n",
    "while not food == \"q\":\n",
    "    print(f\"you like {food}\")\n",
    "    food = input(\"Enter another food you like (press q to quit): \")\n",
    "    \n",
    "print(\"bye\")q\n",
    "\n"
   ]
  },
  {
   "cell_type": "code",
   "execution_count": 15,
   "id": "afcd7fa3",
   "metadata": {},
   "outputs": [
    {
     "name": "stdout",
     "output_type": "stream",
     "text": [
      "123 is not valid\n",
      "123 is not valid\n",
      "12312312312312 is not valid\n",
      "your number is 2\n"
     ]
    }
   ],
   "source": [
    "num = int(input(\"Enter number between 1-10:\" ))\n",
    "\n",
    "while num <1 or num > 10:\n",
    "    print(f\"{num } is not valid\")\n",
    "    num = int(input(\"must be in between 1-10\"))\n",
    "    \n",
    "print(f\"your number is {num}\")"
   ]
  },
  {
   "cell_type": "code",
   "execution_count": null,
   "id": "3a1c5497",
   "metadata": {},
   "outputs": [],
   "source": []
  }
 ],
 "metadata": {
  "kernelspec": {
   "display_name": "python_practice",
   "language": "python",
   "name": "python3"
  },
  "language_info": {
   "codemirror_mode": {
    "name": "ipython",
    "version": 3
   },
   "file_extension": ".py",
   "mimetype": "text/x-python",
   "name": "python",
   "nbconvert_exporter": "python",
   "pygments_lexer": "ipython3",
   "version": "3.10.16"
  }
 },
 "nbformat": 4,
 "nbformat_minor": 5
}
