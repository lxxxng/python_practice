{
 "cells": [
  {
   "cell_type": "markdown",
   "id": "f38aa2f9",
   "metadata": {},
   "source": [
    "### 2. Variables types"
   ]
  },
  {
   "cell_type": "code",
   "execution_count": 11,
   "id": "deb61264",
   "metadata": {},
   "outputs": [
    {
     "name": "stdout",
     "output_type": "stream",
     "text": [
      "hello my name is Lixing. my favourite food is pizza and my email is Lixing123@gmail.com.\n"
     ]
    }
   ],
   "source": [
    "first_name = \"Lixing\"\n",
    "food = \"pizza\"\n",
    "email = \"Lixing123@gmail.com\"\n",
    "\n",
    "print(f\"hello my name is {first_name}. my favourite food is {food} and my email is {email}.\")"
   ]
  },
  {
   "cell_type": "code",
   "execution_count": 12,
   "id": "963230be",
   "metadata": {},
   "outputs": [
    {
     "name": "stdout",
     "output_type": "stream",
     "text": [
      "the price of pizza is 100 dollars, my gpa is 4.0, and the distance between us is 5.5\n"
     ]
    }
   ],
   "source": [
    "price = 100\n",
    "gpa = 4.0\n",
    "distance = 5.5\n",
    "print(f\"the price of {food} is {price} dollars, my gpa is {gpa}, and the distance between us is {distance}\")"
   ]
  },
  {
   "cell_type": "code",
   "execution_count": null,
   "id": "80cdddd7",
   "metadata": {},
   "outputs": [
    {
     "name": "stdout",
     "output_type": "stream",
     "text": [
      "Are you a student?: True True pizza\n"
     ]
    }
   ],
   "source": [
    "is_student = True\n",
    "if is_student:\n",
    "    print(\"you are a student\")\n",
    "else:\n",
    "    print(\"you are not a student \")"
   ]
  },
  {
   "cell_type": "markdown",
   "id": "27a4b2af",
   "metadata": {},
   "source": [
    "### 3. Type casting"
   ]
  },
  {
   "cell_type": "code",
   "execution_count": 18,
   "id": "0aa5c65f",
   "metadata": {},
   "outputs": [
    {
     "name": "stdout",
     "output_type": "stream",
     "text": [
      "<class 'str'>\n",
      "<class 'int'>\n",
      "<class 'float'>\n",
      "<class 'bool'>\n"
     ]
    }
   ],
   "source": [
    "name = \"Lixing\"\n",
    "age = 25\n",
    "gpa = 3.2\n",
    "is_student = True\n",
    "\n",
    "print(type(name))\n",
    "print(type(age))\n",
    "print(type(gpa))\n",
    "print(type(is_student))"
   ]
  },
  {
   "cell_type": "code",
   "execution_count": 19,
   "id": "339fbe36",
   "metadata": {},
   "outputs": [
    {
     "name": "stdout",
     "output_type": "stream",
     "text": [
      "3\n"
     ]
    }
   ],
   "source": [
    "gpa = int(gpa)\n",
    "print(gpa)"
   ]
  },
  {
   "cell_type": "code",
   "execution_count": null,
   "id": "1ae40874",
   "metadata": {},
   "outputs": [
    {
     "name": "stdout",
     "output_type": "stream",
     "text": [
      "<class 'str'>\n"
     ]
    }
   ],
   "source": [
    "age = str(age)\n",
    "print(type(age))"
   ]
  },
  {
   "cell_type": "code",
   "execution_count": null,
   "id": "f3682ddb",
   "metadata": {},
   "outputs": [
    {
     "name": "stdout",
     "output_type": "stream",
     "text": [
      "True\n"
     ]
    }
   ],
   "source": [
    "# will be false if name is emtpy string\n",
    "name = bool(name)\n",
    "print(name)"
   ]
  },
  {
   "cell_type": "code",
   "execution_count": 22,
   "id": "76f25436",
   "metadata": {},
   "outputs": [
    {
     "name": "stdout",
     "output_type": "stream",
     "text": [
      "False\n"
     ]
    }
   ],
   "source": [
    "name = \"\"\n",
    "print(bool(name))"
   ]
  },
  {
   "cell_type": "markdown",
   "id": "0a092a5f",
   "metadata": {},
   "source": [
    "### 4. User input"
   ]
  },
  {
   "cell_type": "code",
   "execution_count": 24,
   "id": "a5a7a9ca",
   "metadata": {},
   "outputs": [
    {
     "name": "stdout",
     "output_type": "stream",
     "text": [
      "Hi i am lixing and i am 24 years old\n"
     ]
    }
   ],
   "source": [
    "name  = input(\"What is your name?\")\n",
    "age = input(\"how old are you\")\n",
    "\n",
    "print(f\"Hi i am {name} and i am {age} years old\")"
   ]
  },
  {
   "cell_type": "code",
   "execution_count": 26,
   "id": "c0ef1910",
   "metadata": {},
   "outputs": [
    {
     "name": "stdout",
     "output_type": "stream",
     "text": [
      "24242424\n"
     ]
    }
   ],
   "source": [
    "age += age\n",
    "print(age)"
   ]
  },
  {
   "cell_type": "code",
   "execution_count": null,
   "id": "d80932f9",
   "metadata": {},
   "outputs": [
    {
     "name": "stdout",
     "output_type": "stream",
     "text": [
      "the twice of your age is 50\n"
     ]
    }
   ],
   "source": [
    "age = int(input(\"how old are you? \"))\n",
    "\n",
    "age += age\n",
    "print(f\"the twice of your age is {age}\")"
   ]
  },
  {
   "cell_type": "code",
   "execution_count": null,
   "id": "7541fb68",
   "metadata": {},
   "outputs": [
    {
     "name": "stdout",
     "output_type": "stream",
     "text": [
      "The area is: 25.0cm square\n"
     ]
    }
   ],
   "source": [
    "# Exercise 1 -- Area calculation\n",
    "length = float(input(\"enter the length: \"))\n",
    "width = float(input(\"enter the width: \")) \n",
    "area = length * width\n",
    "\n",
    "print(f\"The area is: {area}cm square\")"
   ]
  },
  {
   "cell_type": "code",
   "execution_count": 33,
   "id": "eb23f709",
   "metadata": {},
   "outputs": [
    {
     "name": "stdout",
     "output_type": "stream",
     "text": [
      "You have bought 10 sushi, the total amount spent is 10.0\n"
     ]
    }
   ],
   "source": [
    "# Exercise 2 -- shopping cart program\n",
    "\n",
    "item = input(\"what item do you want to buy?\")\n",
    "price = float(input(\"what is the price?: \"))\n",
    "quantity = int(input(\"How many are you going to buy?: \"))\n",
    "total = price * quantity\n",
    "\n",
    "print(f\"You have bought {quantity} {item}, the total amount spent is {total}\")"
   ]
  },
  {
   "cell_type": "markdown",
   "id": "31c3b8f9",
   "metadata": {},
   "source": [
    "### 5. Madlibs game"
   ]
  },
  {
   "cell_type": "code",
   "execution_count": 35,
   "id": "d56099c0",
   "metadata": {},
   "outputs": [
    {
     "name": "stdout",
     "output_type": "stream",
     "text": [
      "today i went to to a expensive zoo.\n",
      "In an exhibit, I saw a zebra\n",
      "zebra was cute  and running around\n",
      "I was delightex!\n"
     ]
    }
   ],
   "source": [
    "adjective1 = input(\"Enter an adjective\")\n",
    "noun1 = input(\"Enter a noun (Person, place, thing): \")\n",
    "adjective2 = input(\"Enter an adjective (description): \")\n",
    "verb1 = input(\"Enter a verb ending with ing: \")\n",
    "adjective3 = input(\"Enter another adjective\")\n",
    "\n",
    "print(f\"today i went to to a {adjective1} zoo.\")\n",
    "print(f\"In an exhibit, I saw a {noun1}\")\n",
    "print(f\"{noun1} was {adjective2} and {verb1}\")\n",
    "print(f\"I was {adjective3}!\")"
   ]
  },
  {
   "cell_type": "markdown",
   "id": "980feea2",
   "metadata": {},
   "source": [
    "### 6. Math"
   ]
  },
  {
   "cell_type": "code",
   "execution_count": null,
   "id": "8783188e",
   "metadata": {},
   "outputs": [
    {
     "name": "stdout",
     "output_type": "stream",
     "text": [
      "22500.0\n"
     ]
    }
   ],
   "source": [
    "money = 100\n",
    "money += 2\n",
    "money -=2\n",
    "money *= 3\n",
    "money /= 2\n",
    "money **= 2\n",
    "money %= 17\n",
    "\n",
    "print(money)"
   ]
  },
  {
   "cell_type": "code",
   "execution_count": 52,
   "id": "3a562af3",
   "metadata": {},
   "outputs": [
    {
     "name": "stdout",
     "output_type": "stream",
     "text": [
      "4\n",
      "4\n",
      "64\n",
      "5\n",
      "-4\n"
     ]
    }
   ],
   "source": [
    "x = 3.74\n",
    "y = -4\n",
    "z = 5\n",
    "\n",
    "result = round(x)\n",
    "result2 = abs(y)\n",
    "result3 = pow(4, 3) # same as 4 ** 3\n",
    "result4 = max(x, y, z)\n",
    "result5 = min(x, y, z)\n",
    "\n",
    "print(result)\n",
    "print(result2)\n",
    "print(result3)\n",
    "print(result4)\n",
    "print(result5)"
   ]
  },
  {
   "cell_type": "code",
   "execution_count": 58,
   "id": "3eade579",
   "metadata": {},
   "outputs": [
    {
     "name": "stdout",
     "output_type": "stream",
     "text": [
      "3.141592653589793\n",
      "2.718281828459045\n",
      "2.0\n",
      "10\n",
      "9\n"
     ]
    }
   ],
   "source": [
    "import math\n",
    "\n",
    "x = 4\n",
    "\n",
    "print(math.pi)\n",
    "print(math.e)\n",
    "print(math.sqrt(x))\n",
    "\n",
    "y = 9.7\n",
    "\n",
    "print(math.ceil(y))\n",
    "print(math.floor(y))"
   ]
  },
  {
   "cell_type": "code",
   "execution_count": 71,
   "id": "3a8d8506",
   "metadata": {},
   "outputs": [
    {
     "name": "stdout",
     "output_type": "stream",
     "text": [
      "The circumference is 31.42 cm\n",
      "The area of the circle is: 78.54\n"
     ]
    }
   ],
   "source": [
    "import math\n",
    "\n",
    "radius = float(input(\"Enter a radius of a circle\"))\n",
    "\n",
    "circumference = 2 * math.pi * radius\n",
    "print(f\"The circumference is {round(circumference, 2)} cm\")\n",
    "\n",
    "area = math.pi * pow(radius, 2)\n",
    "print(f\"The area of the circle is: {round(area, 2)} cm square\")"
   ]
  },
  {
   "cell_type": "code",
   "execution_count": 73,
   "id": "3c2dc7af",
   "metadata": {},
   "outputs": [
    {
     "name": "stdout",
     "output_type": "stream",
     "text": [
      "Side C = 5.66\n"
     ]
    }
   ],
   "source": [
    "import math\n",
    "\n",
    "a = float(input(\"Enter side A: \"))\n",
    "b = float(input(\"Enter side B: \"))\n",
    "c =  math.sqrt(pow(a, 2) + pow(b, 2))\n",
    "print(f\"Side C = {round(c, 2)}\")\n"
   ]
  },
  {
   "cell_type": "markdown",
   "id": "afc2e7d0",
   "metadata": {},
   "source": [
    "### 7. if statements"
   ]
  },
  {
   "cell_type": "code",
   "execution_count": null,
   "id": "07ff6ff8",
   "metadata": {},
   "outputs": [
    {
     "name": "stdout",
     "output_type": "stream",
     "text": [
      "You are underage\n"
     ]
    }
   ],
   "source": [
    "age = int(input(\"Enter your age\"))\n",
    "\n",
    "if age > 21:\n",
    "    print(\"You are an adult\")\n",
    "elif age < 0:\n",
    "    print(\"You are not born\")\n",
    "else:\n",
    "    print(\"You are underage\")\n",
    "    \n"
   ]
  },
  {
   "cell_type": "code",
   "execution_count": 79,
   "id": "2f32a6b8",
   "metadata": {},
   "outputs": [
    {
     "name": "stdout",
     "output_type": "stream",
     "text": [
      "OK goodbye!\n"
     ]
    }
   ],
   "source": [
    "response = input(\"Would you like food (y/n) ?:\")\n",
    "\n",
    "if response == \"y\":\n",
    "    print(\"I'll get you some food!\")\n",
    "else:\n",
    "    print(\"OK goodbye!\")"
   ]
  },
  {
   "cell_type": "code",
   "execution_count": null,
   "id": "8f4d1ec3",
   "metadata": {},
   "outputs": [
    {
     "name": "stdout",
     "output_type": "stream",
     "text": [
      "Hello Lixing\n"
     ]
    }
   ],
   "source": [
    "name = input(\"Enter your name\")\n",
    "\n",
    "if name == \"\":\n",
    "    print(\"You did not type in your name\")\n",
    "else:\n",
    "    print(f\"Hello {name}\")"
   ]
  },
  {
   "cell_type": "code",
   "execution_count": 86,
   "id": "7ca1b4a7",
   "metadata": {},
   "outputs": [
    {
     "name": "stdout",
     "output_type": "stream",
     "text": [
      "True\n",
      "The item is for sale\n"
     ]
    }
   ],
   "source": [
    "for_sale = True\n",
    "\n",
    "print(for_sale == True)\n",
    "\n",
    "if for_sale == True:   \n",
    "    print(\"The item is for sale\")\n",
    "else:\n",
    "    print(\"This item is not for sale\")"
   ]
  },
  {
   "cell_type": "markdown",
   "id": "52cae78d",
   "metadata": {},
   "source": [
    "### 8. python calculator"
   ]
  },
  {
   "cell_type": "code",
   "execution_count": 97,
   "id": "28a60c78",
   "metadata": {},
   "outputs": [
    {
     "name": "stdout",
     "output_type": "stream",
     "text": [
      "pizza is not a valid operator !!\n"
     ]
    }
   ],
   "source": [
    "operator = input(\"Enter an operator (+ - * /): \")\n",
    "num1 = int(input(\"Enter the first number\"))\n",
    "num2 = int(input(\"Enter the second number\"))\n",
    "result = 0 \n",
    "\n",
    "if operator == \"+\":\n",
    "    result = round(num1 + num2)\n",
    "    print(result)\n",
    "elif operator == \"-\":\n",
    "    result = round(num1 - num2)\n",
    "    print(result)\n",
    "elif operator == \"*\":\n",
    "    result = round(num1 * num2)\n",
    "    print(result)\n",
    "elif operator == \"/\":\n",
    "    result = round(num1 / num2)\n",
    "    print(result)\n",
    "else:\n",
    "    print(f\"{operator} is not a valid operator !!\")\n",
    "    \n"
   ]
  },
  {
   "cell_type": "markdown",
   "metadata": {},
   "source": [
    "### 9. Weight converter"
   ]
  },
  {
   "cell_type": "code",
   "execution_count": null,
   "id": "ab013947",
   "metadata": {},
   "outputs": [
    {
     "name": "stdout",
     "output_type": "stream",
     "text": [
      "your weight is: 132.3 kg\n"
     ]
    }
   ],
   "source": [
    "## Python weight converter\n",
    "weight = float(input(\"Enter your weight: \"))\n",
    "unit = input(\"Kilograms or Pounds? (K or L): \")\n",
    "\n",
    "if unit == \"K\":\n",
    "    weight = weight * 2.205\n",
    "    unit = \"lbs\"\n",
    "    print(f\"your weight is: {weight} {unit}\")\n",
    "elif unit == \"L\":\n",
    "    weight = weight / 2.205\n",
    "    unit = \"kg\"\n",
    "    print(f\"your weight is: {weight} {unit}\")\n",
    "else: \n",
    "    print(\"invalid unit\")\n",
    "    "
   ]
  },
  {
   "cell_type": "markdown",
   "id": "0b3442f3",
   "metadata": {},
   "source": [
    "### 10. Temperature conversion"
   ]
  },
  {
   "cell_type": "code",
   "execution_count": 4,
   "id": "bb096721",
   "metadata": {},
   "outputs": [
    {
     "name": "stdout",
     "output_type": "stream",
     "text": [
      "The temperature in Farenheit is 50.0 farenheit\n"
     ]
    }
   ],
   "source": [
    "unit = input(\"Temp in Celcius or Fabrenheit (C/F)\")\n",
    "temp = float(input(\"What is the current temperature?\"))\n",
    "\n",
    "if unit == \"C\":\n",
    "    temp = round((9 * temp) / 5 + 32, 1)\n",
    "    print(f\"The temperature in Farenheit is {temp} farenheit\")\n",
    "elif unit == \"F\":\n",
    "    temp = round((temp - 32) * 5 / 9, 1)\n",
    "    print(f\"THe temp in Celcius is {temp} deg celcius\")\n",
    "else:\n",
    "    print(f\"{unit} is not valid\")"
   ]
  },
  {
   "cell_type": "markdown",
   "id": "249cc063",
   "metadata": {},
   "source": [
    "### 11. Logical operators"
   ]
  },
  {
   "cell_type": "code",
   "execution_count": 5,
   "id": "af308856",
   "metadata": {},
   "outputs": [
    {
     "name": "stdout",
     "output_type": "stream",
     "text": [
      "The outdoor event is still scheduled\n"
     ]
    }
   ],
   "source": [
    "temp = 25\n",
    "is_raining = False\n",
    "\n",
    "if temp > 35 or temp < 0 or is_raining:\n",
    "    print(\"The outdoor event is cancelled\")\n",
    "else:\n",
    "    print(\"The outdoor event is still scheduled\")"
   ]
  },
  {
   "cell_type": "code",
   "execution_count": null,
   "id": "3229fa11",
   "metadata": {},
   "outputs": [],
   "source": [
    "temp = 30\n",
    "is_sunny = True\n",
    "\n",
    "if temp >= 28 and is_sunny:\n",
    "    print(\"It is hot outside\")\n",
    "    print(\"It is sunny\")\n",
    "elif temp <= 0 and is_sunny:\n",
    "    print(\"It is cold outside\")\n",
    "    print(\"It is sunny\")\n",
    "elif 28 > temp > 0 and is_sunny:\n",
    "    print(\"It is warm outside\")\n",
    "    print(\"It is sunny\")\n",
    "elif temp >= 28 and not is_sunny:\n",
    "    print(\"it is hot outside\")\n",
    "    print(\"It is cloudy\")\n",
    "elif temp <= 0 and not is_sunny:\n",
    "    print(\"it is hot outside\")\n",
    "    print(\"It is cloudy\")\n",
    "elif 28 > temp > 0 and not is_sunny:\n",
    "    print(\"it is warm outside\")\n",
    "    print(\"It is cloudy\")\n"
   ]
  },
  {
   "cell_type": "markdown",
   "id": "10982170",
   "metadata": {},
   "source": [
    "### 12. Conditional expressions/ ternary operator "
   ]
  },
  {
   "cell_type": "code",
   "execution_count": 20,
   "id": "ee33167c",
   "metadata": {},
   "outputs": [
    {
     "name": "stdout",
     "output_type": "stream",
     "text": [
      "Positive\n",
      "Odd\n",
      "10\n",
      "5\n",
      "Adult\n",
      "hot\n",
      "Full access\n"
     ]
    }
   ],
   "source": [
    "num1 = 5\n",
    "num2 = 10\n",
    "age = 25\n",
    "temperature = 30\n",
    "role = \"admin\"\n",
    "\n",
    "print(\"Positive\" if num1 > 0 else \"Negative\")\n",
    "is_even = \"Even\" if num1 * 2 == 0 else \"Odd\"\n",
    "print(is_even)\n",
    "\n",
    "max_num = num1 if num1 > num2 else num2\n",
    "min_num = num1 if num1 < num2 else num2\n",
    "\n",
    "print(max_num)\n",
    "print(min_num)\n",
    "\n",
    "status = \"Adult\" if age > 21 else \"child\"\n",
    "print(status)\n",
    "\n",
    "weather = \"hot\" if temperature > 28 else \"cold\"\n",
    "print(weather)\n",
    "\n",
    "access_level = \"Full access\" if role == \"admin\" else \"limited access\"\n",
    "print(access_level)"
   ]
  },
  {
   "cell_type": "markdown",
   "id": "6adeb80f",
   "metadata": {},
   "source": [
    "### 13. String methods"
   ]
  },
  {
   "cell_type": "code",
   "execution_count": 45,
   "id": "a64ce3b3",
   "metadata": {},
   "outputs": [
    {
     "name": "stdout",
     "output_type": "stream",
     "text": [
      "False\n",
      "True\n",
      "5\n",
      "Lixing\n",
      "LIXING\n",
      "lixing\n",
      "False\n",
      "True\n"
     ]
    }
   ],
   "source": [
    "name = input(\"Enter your full name\")\n",
    "result = len(name)\n",
    "result2 = name.find(\"in\")\n",
    "result3 = name.rfind(\"g\")      # finding last occurence\n",
    "name2 = name.capitalize()      #Capitalize first char\n",
    "name3 = name.upper()\n",
    "name4 = name3.lower()\n",
    "\n",
    "result = name.isdigit()        # if string only has digits... dont need to typecast\n",
    "result2 = name.isalpha()        # cannot contain space\n",
    "\n",
    "print(result)\n",
    "print(result2)\n",
    "print(result3)\n",
    "\n",
    "print(name2)\n",
    "print(name3)\n",
    "print(name4)\n",
    "\n",
    "print(result)\n",
    "print(result2)"
   ]
  },
  {
   "cell_type": "code",
   "execution_count": 51,
   "id": "9a3c7429",
   "metadata": {},
   "outputs": [
    {
     "name": "stdout",
     "output_type": "stream",
     "text": [
      "2\n",
      "123=123=123\n"
     ]
    }
   ],
   "source": [
    "phone_number = input(\"Enter phone number\")\n",
    "result = phone_number.count(\"-\")\n",
    "result2 = phone_number.replace(\"-\", \"=\")\n",
    "\n",
    "print(result)\n",
    "print(result2)"
   ]
  },
  {
   "cell_type": "markdown",
   "id": "134bdf9b",
   "metadata": {},
   "source": [
    "### Enter a username"
   ]
  },
  {
   "cell_type": "code",
   "execution_count": null,
   "id": "cc0d94b6",
   "metadata": {},
   "outputs": [
    {
     "name": "stdout",
     "output_type": "stream",
     "text": [
      "username cannot contain space\n"
     ]
    }
   ],
   "source": [
    "username = input(\"Enter a username\")\n",
    "\n",
    "if len(username) > 12:\n",
    "    print(\"Username cannot be more than 12 characters\")\n",
    "elif username.find(\" \") != -1:\n",
    "    print(\"username cannot contain space\")\n",
    "elif not username.isalpha():\n",
    "    print(\"Your username cannot contain numbers\")\n",
    "else:\n",
    "    print(f\"Welcome {username}\")"
   ]
  },
  {
   "cell_type": "markdown",
   "id": "6c7f9736",
   "metadata": {},
   "source": [
    "### 14. String indexing"
   ]
  },
  {
   "cell_type": "code",
   "execution_count": 92,
   "id": "f23c2c15",
   "metadata": {},
   "outputs": [
    {
     "name": "stdout",
     "output_type": "stream",
     "text": [
      "4\n",
      "123-\n",
      "123-\n",
      "456\n",
      "456-789\n",
      "9\n",
      "134679\n",
      "-789\n",
      "987-654-321\n",
      "54-321\n"
     ]
    }
   ],
   "source": [
    "###  [start:end:step]\n",
    "\n",
    "credit_number = \"123-456-789\"\n",
    "print(credit_number[4])\n",
    "print(credit_number[0: 4])  #ending step is exclusive\n",
    "print(credit_number[:4])    # assume start is 0    \n",
    "print(credit_number[4:7])\n",
    "print(credit_number[4:])    # assume until this end\n",
    "print(credit_number[-1])    # start from back... -1\n",
    "print(credit_number[::2])   # skip 2 char\n",
    "\n",
    "last_3_digits = credit_number[-4:]\n",
    "print(last_3_digits)\n",
    "\n",
    "reverse_credit_number = credit_number[::-1]   \n",
    "reverse_subset = credit_number[5::-1]     # to reverse subset... start must be greater than end\n",
    "print(reverse_credit_number)\n",
    "print(reverse_subset)"
   ]
  },
  {
   "cell_type": "markdown",
   "id": "100951ba",
   "metadata": {},
   "source": [
    "### 15 format specifier"
   ]
  },
  {
   "cell_type": "code",
   "execution_count": null,
   "id": "3b3eb3e4",
   "metadata": {},
   "outputs": [
    {
     "name": "stdout",
     "output_type": "stream",
     "text": [
      "Price 1 is 3.14\n",
      "Price 2 is -987.65\n",
      "Price 3 is 12.34\n",
      "Price 1 is       3.14\n",
      "Price 2 is    -987.65\n",
      "Price 3 is      12.34\n",
      "Price 1 is 3.14      \n",
      "Price 2 is -987.65   \n",
      "Price 3 is 12.34     \n",
      "Price 1 is    3.14   \n",
      "Price 2 is -987.65000\n",
      "Price 3 is   12.34   \n",
      "Price 1 is      +3.14\n",
      "Price 2 is   -987.650\n",
      "Price 3 is  +12.34000\n",
      "Price 1 is  3.14159\n",
      "Price 2 is -987.65\n",
      "Price 3 is  12.34\n",
      "Price 4 is +10,000,000.99\n"
     ]
    }
   ],
   "source": [
    "price1 = 3.14159\n",
    "price2 = -987.65\n",
    "price3 = 12.34\n",
    "price4 = 10000000.987654\n",
    "\n",
    "print(f\"Price 1 is {price1:.2f}\")\n",
    "print(f\"Price 2 is {price2:.2f}\")\n",
    "print(f\"Price 3 is {price3:.2f}\")\n",
    "\n",
    "# right justify\n",
    "print(f\"Price 1 is {price1:10.2f}\")\n",
    "print(f\"Price 2 is {price2:10}\")\n",
    "print(f\"Price 3 is {price3:10}\")\n",
    "\n",
    "# left justify \n",
    "print(f\"Price 1 is {price1:<10.2f}\")\n",
    "print(f\"Price 2 is {price2:<10}\")\n",
    "print(f\"Price 3 is {price3:<10}\")\n",
    "\n",
    "# center justify\n",
    "print(f\"Price 1 is {price1:^10.2f}\")\n",
    "print(f\"Price 2 is {price2:^10.5f}\")\n",
    "print(f\"Price 3 is {price3:^10}\")\n",
    "\n",
    "\n",
    "# adding plus or negative signs\n",
    "print(f\"Price 1 is {price1:+10.2f}\")\n",
    "print(f\"Price 2 is {price2:+10.3f}\")\n",
    "print(f\"Price 3 is {price3:+10.5f}\")\n",
    "\n",
    "# only a space\n",
    "print(f\"Price 1 is {price1: }\")\n",
    "print(f\"Price 2 is {price2: }\")\n",
    "print(f\"Price 3 is {price3: }\")\n",
    "\n",
    "\n",
    "print(f\"Price 4 is {price4:+,.2f}\")\n",
    "\n"
   ]
  },
  {
   "cell_type": "markdown",
   "id": "4490a793",
   "metadata": {},
   "source": [
    "### 16. while loops"
   ]
  },
  {
   "cell_type": "code",
   "execution_count": null,
   "id": "16853ccb",
   "metadata": {},
   "outputs": [
    {
     "name": "stdout",
     "output_type": "stream",
     "text": [
      "Hello 123\n"
     ]
    },
    {
     "data": {
      "text/plain": [
       "str"
      ]
     },
     "execution_count": 144,
     "metadata": {},
     "output_type": "execute_result"
    }
   ],
   "source": [
    "name = input(\"Enter your name\")\n",
    "\n",
    "while name == \"\":\n",
    "    print(\"You did not enter your name \")\n",
    "    name = input(\"Enter your name\")\n",
    "\n",
    "print(f\"Hello {name}\")"
   ]
  },
  {
   "cell_type": "code",
   "execution_count": 8,
   "id": "adacbfb5",
   "metadata": {},
   "outputs": [
    {
     "name": "stdout",
     "output_type": "stream",
     "text": [
      "age cannot be negative\n",
      "your age is 123\n"
     ]
    }
   ],
   "source": [
    "age = int(input(\"Enter your age\"))\n",
    "\n",
    "while age < 0 :\n",
    "    print(\"age cannot be negative\")\n",
    "    age = int(input(\"Enter your age\"))\n",
    "    \n",
    "print(f\"your age is {age}\")"
   ]
  },
  {
   "cell_type": "code",
   "execution_count": 13,
   "id": "ff07816a",
   "metadata": {},
   "outputs": [
    {
     "name": "stdout",
     "output_type": "stream",
     "text": [
      "you like pizza\n",
      "you like james\n",
      "you like lily\n",
      "you like \n",
      "you like \n",
      "bye\n"
     ]
    }
   ],
   "source": [
    "food = input(\"Enter your favourite food\")\n",
    "\n",
    "while not food == \"q\":\n",
    "    print(f\"you like {food}\")\n",
    "    food = input(\"Enter another food you like (press q to quit): \")\n",
    "    \n",
    "print(\"bye\")q\n",
    "\n"
   ]
  },
  {
   "cell_type": "code",
   "execution_count": 15,
   "id": "afcd7fa3",
   "metadata": {},
   "outputs": [
    {
     "name": "stdout",
     "output_type": "stream",
     "text": [
      "123 is not valid\n",
      "123 is not valid\n",
      "12312312312312 is not valid\n",
      "your number is 2\n"
     ]
    }
   ],
   "source": [
    "num = int(input(\"Enter number between 1-10:\" ))\n",
    "\n",
    "while num <1 or num > 10:\n",
    "    print(f\"{num } is not valid\")\n",
    "    num = int(input(\"must be in between 1-10\"))\n",
    "    \n",
    "print(f\"your number is {num}\")"
   ]
  },
  {
   "cell_type": "markdown",
   "id": "b7a16585",
   "metadata": {},
   "source": [
    "### 17. compound interest calculator"
   ]
  },
  {
   "cell_type": "code",
   "execution_count": 11,
   "id": "3a1c5497",
   "metadata": {},
   "outputs": [
    {
     "name": "stdout",
     "output_type": "stream",
     "text": [
      "Balance after 1 years: $1.01\n"
     ]
    }
   ],
   "source": [
    "principle = 0\n",
    "rate = 0\n",
    "time = 0 \n",
    "\n",
    "while True:\n",
    "    principle = float(input(\"Enter the principle amount\"))\n",
    "    if principle < 0:\n",
    "        print(\"Principle cant be less than  0 \")\n",
    "    else:\n",
    "        break\n",
    "        \n",
    "        \n",
    "while True:\n",
    "    rate = float(input(\"Enter interest rate: \"))\n",
    "    if rate < 0:\n",
    "        print(\"INterest rate cant be less than0\")\n",
    "    else:\n",
    "        break\n",
    "        \n",
    "while True:\n",
    "    time = int(input(\"Enter time in years\"))\n",
    "    if time < 0:\n",
    "        print(\"time cannot be less than  0\")\n",
    "    else:\n",
    "        break\n",
    "        \n",
    "total = principle * pow((1 + rate /100), time)\n",
    "print(f\"Balance after {time} years: ${total:.2f}\")"
   ]
  },
  {
   "cell_type": "markdown",
   "id": "b9aefd21",
   "metadata": {},
   "source": [
    "### 18. for loop "
   ]
  },
  {
   "cell_type": "code",
   "execution_count": 21,
   "id": "f267b633",
   "metadata": {},
   "outputs": [
    {
     "name": "stdout",
     "output_type": "stream",
     "text": [
      "9\n",
      "7\n",
      "5\n",
      "3\n",
      "1\n",
      "Happy new year\n"
     ]
    }
   ],
   "source": [
    "for x in reversed(range(1, 11, 2)):\n",
    "    print(x)\n",
    "print(\"Happy new year\")"
   ]
  },
  {
   "cell_type": "code",
   "execution_count": 15,
   "id": "7738d871",
   "metadata": {},
   "outputs": [
    {
     "name": "stdout",
     "output_type": "stream",
     "text": [
      "1\n",
      "2\n",
      "3\n",
      "-\n",
      "4\n",
      "5\n",
      "6\n",
      "-\n",
      "7\n",
      "8\n",
      "9\n"
     ]
    }
   ],
   "source": [
    "credit_card = '123-456-789'\n",
    "for x in credit_card:\n",
    "    print(x)"
   ]
  },
  {
   "cell_type": "code",
   "execution_count": 17,
   "id": "9c479cd4",
   "metadata": {},
   "outputs": [
    {
     "name": "stdout",
     "output_type": "stream",
     "text": [
      "1\n",
      "2\n",
      "3\n",
      "4\n",
      "5\n",
      "6\n",
      "7\n",
      "8\n",
      "9\n",
      "10\n",
      "11\n",
      "12\n",
      "14\n",
      "15\n",
      "16\n",
      "17\n",
      "18\n",
      "19\n",
      "20\n"
     ]
    }
   ],
   "source": [
    "for x in range(1, 21):\n",
    "    if x == 13:\n",
    "        continue\n",
    "    print(x)"
   ]
  },
  {
   "cell_type": "code",
   "execution_count": 18,
   "id": "60e05b32",
   "metadata": {},
   "outputs": [
    {
     "name": "stdout",
     "output_type": "stream",
     "text": [
      "1\n",
      "2\n",
      "3\n",
      "4\n",
      "5\n",
      "6\n",
      "7\n",
      "8\n",
      "9\n",
      "10\n",
      "11\n",
      "12\n"
     ]
    }
   ],
   "source": [
    "for x in range(1, 21):\n",
    "    if x == 13:\n",
    "        break\n",
    "    print(x)"
   ]
  },
  {
   "cell_type": "markdown",
   "id": "8c1558a6",
   "metadata": {},
   "source": [
    "### 19. countdown timer"
   ]
  },
  {
   "cell_type": "code",
   "execution_count": 25,
   "id": "cb10449c",
   "metadata": {},
   "outputs": [
    {
     "name": "stdout",
     "output_type": "stream",
     "text": [
      "0\n",
      "1\n",
      "2\n",
      "times up\n"
     ]
    }
   ],
   "source": [
    "import time\n",
    "\n",
    "my_time = int(input(\"Enter the time in seconds: \"))\n",
    "\n",
    "for x in range(0, my_time):\n",
    "    print(x)\n",
    "    time.sleep(1)\n",
    "    \n",
    "print(\"times up\")"
   ]
  },
  {
   "cell_type": "code",
   "execution_count": null,
   "id": "986a906a",
   "metadata": {},
   "outputs": [],
   "source": [
    "for x in range(3600, 0, -1):          ### can also use reversed()\n",
    "    seconds = x % 60\n",
    "    minutes = int(x / 60) % 60\n",
    "    hours = int(x/3600)\n",
    "    \n",
    "    print(f\"{hours:02}:{minutes:02}:{seconds:02}\")        ## display 2 digits, pad it with 0 \n",
    "    time.sleep(1)\n",
    "    \n",
    "print(\"times up\")"
   ]
  },
  {
   "cell_type": "markdown",
   "id": "1cd27c69",
   "metadata": {},
   "source": [
    "### 20. nested loop"
   ]
  },
  {
   "cell_type": "code",
   "execution_count": null,
   "id": "8dcb43dd",
   "metadata": {},
   "outputs": [
    {
     "name": "stdout",
     "output_type": "stream",
     "text": [
      "123456789\n",
      "123456789\n",
      "123456789\n"
     ]
    }
   ],
   "source": [
    "for x in range(0, 3):\n",
    "    for y in range(1, 10):\n",
    "        print(x, end=\"\")\n",
    "    print()"
   ]
  },
  {
   "cell_type": "code",
   "execution_count": 56,
   "id": "571acd23",
   "metadata": {},
   "outputs": [
    {
     "name": "stdout",
     "output_type": "stream",
     "text": [
      "*******\n",
      "*******\n",
      "*******\n"
     ]
    }
   ],
   "source": [
    "rows = int(input(\"Enter number of rows\"))\n",
    "columns = int(input(\"Enter number of columns\"))\n",
    "symbol = input(\"Enter a symbol\")\n",
    "\n",
    "for i in range(0, rows):\n",
    "    for k in range(0, columns):\n",
    "        print(symbol, end=\"\")\n",
    "    print()"
   ]
  },
  {
   "cell_type": "markdown",
   "id": "bb64644a",
   "metadata": {},
   "source": [
    "### 21. list set tuple\n",
    "\n",
    "collection = single 'variable' that stores multiple values\n",
    "1. list = [] ordered and changable. Duplicates OK\n",
    "2. set = {} unordered and immutable. No Duplicates. Can add and remove.\n",
    "3. Tuple = () ordered, unchangeable. Duplicates OK. Faster. CANNOT ADD OR REMOVE elements.. can concantenate/slice but must assign to new varibale"
   ]
  },
  {
   "cell_type": "code",
   "execution_count": 115,
   "id": "1330d421",
   "metadata": {},
   "outputs": [
    {
     "name": "stdout",
     "output_type": "stream",
     "text": [
      "['coconut']\n",
      "apple\n",
      "orange\n",
      "banana\n",
      "coconut\n",
      "['pineapple', 'orange', 'banana', 'coconut']\n",
      "['pineapple', 'orange', 'banana', 'coconut', 'strawberry']\n",
      "['orange', 'banana', 'coconut', 'strawberry']\n",
      "['orange', 'banana', 'kiwi', 'coconut', 'strawberry']\n",
      "['banana', 'coconut', 'kiwi', 'orange', 'strawberry']\n",
      "['strawberry', 'orange', 'kiwi', 'coconut', 'banana']\n",
      "banana\n"
     ]
    }
   ],
   "source": [
    "fruits = [\"apple\", \"orange\", \"banana\", \"coconut\"]\n",
    "\n",
    "fruits2 = fruits[4:2:-1]\n",
    "print(fruits2)\n",
    "\n",
    "for fruit in fruits:\n",
    "    print(fruit)\n",
    "    \n",
    "len(fruits)\n",
    "\n",
    "\"apple\" in fruits\n",
    "\n",
    "fruits[0] = \"pineapple\"\n",
    "print(fruits)\n",
    "\n",
    "fruits.append(\"strawberry\")\n",
    "print(fruits)\n",
    "\n",
    "fruits.remove(\"pineapple\")\n",
    "print(fruits)\n",
    "\n",
    "fruits.insert(2, \"kiwi\")\n",
    "print(fruits)\n",
    "\n",
    "fruits.sort()\n",
    "print(fruits)\n",
    "\n",
    "fruits.reverse()\n",
    "print(fruits)\n",
    "\n",
    "# fruits.clear()\n",
    "fruits.index(\"kiwi\")\n",
    "\n",
    "fruits.count(\"banana\")\n",
    "\n",
    "x = fruits.pop()\n",
    "print(x)"
   ]
  },
  {
   "cell_type": "code",
   "execution_count": 121,
   "id": "0ad16223",
   "metadata": {},
   "outputs": [
    {
     "name": "stdout",
     "output_type": "stream",
     "text": [
      "{'coconut', 'apple'}\n",
      "False\n",
      "{'kiwi', 'coconut', 'apple'}\n",
      "{'kiwi', 'apple'}\n",
      "kiwi\n"
     ]
    }
   ],
   "source": [
    "fruits_set = {\"apple\", \"coconut\", \"coconut\", \"coconut\"}\n",
    "print(fruits_set)\n",
    "\n",
    "print(\"pineapple\" in fruits_set)\n",
    "\n",
    "fruits_set.add(\"kiwi\")\n",
    "print(fruits_set)\n",
    "\n",
    "fruits_set.remove(\"coconut\")\n",
    "print(fruits_set)\n",
    "\n",
    "x = fruits_set.pop()       # not sure which will pop because unordered\n",
    "print(x)\n",
    "\n",
    "## print(fruits_set[0])    error because unordered"
   ]
  },
  {
   "cell_type": "code",
   "execution_count": 137,
   "id": "bb6bcb93",
   "metadata": {},
   "outputs": [
    {
     "name": "stdout",
     "output_type": "stream",
     "text": [
      "1\n",
      "1\n"
     ]
    }
   ],
   "source": [
    "fruits = (\"apple\", \"banana\", \"orange\")\n",
    "print(fruits.index(\"banana\"))\n",
    "print(fruits.count(\"banana\"))"
   ]
  },
  {
   "cell_type": "markdown",
   "id": "dee64d52",
   "metadata": {},
   "source": [
    "### 22. Shopping cart program"
   ]
  },
  {
   "cell_type": "code",
   "execution_count": 170,
   "id": "1d32a806",
   "metadata": {},
   "outputs": [
    {
     "name": "stdout",
     "output_type": "stream",
     "text": [
      "--- Your cart ---\n",
      "pizza      $20.00\n",
      "hotdog     $5.99\n",
      "burger     $7.00\n",
      "--------------\n",
      "Your total is: $ 32.99\n"
     ]
    }
   ],
   "source": [
    "foods = []\n",
    "prices = []\n",
    "total = 0\n",
    "\n",
    "while True:\n",
    "    food = input(\"Enter a food to buy, press 'q' to quit: \")\n",
    "    if food.lower() == \"q\":\n",
    "        break\n",
    "    else:\n",
    "        price = float(input(\"Enter the price of {food}: $\"))\n",
    "        foods.append(food)\n",
    "        prices.append(price)\n",
    "        \n",
    "for price in prices:\n",
    "    total += price\n",
    "        \n",
    "print(\"--- Your cart ---\")\n",
    "\n",
    "for i in range(0, len(foods)):\n",
    "    print(f\"{foods[i]:<10}\", end=\" \")\n",
    "    print(f\"${prices[i]:.2f}\")\n",
    "\n",
    "print('--------------')\n",
    "print (\"Your total is: $\", total)\n",
    "    "
   ]
  },
  {
   "cell_type": "markdown",
   "id": "72302233",
   "metadata": {},
   "source": [
    "### 23 2D collections"
   ]
  },
  {
   "cell_type": "code",
   "execution_count": 185,
   "id": "f34c39a7",
   "metadata": {},
   "outputs": [
    {
     "name": "stdout",
     "output_type": "stream",
     "text": [
      "[['apple', 'coconut', 'banana'], ['celery', 'carrots', 'potatoes'], ['chicken', 'fish', 'turkey']]\n",
      "[['apple', 'banana'], ['celery', 'carrot', 'potato'], ['chicken', 'fish', 'duck']]\n",
      "apple, banana, \n",
      "celery, carrot, potato, \n",
      "chicken, fish, duck, \n"
     ]
    }
   ],
   "source": [
    "fruits = [\"apple\", \"coconut\", \"banana\"]\n",
    "vegetables = [\"celery\", \"carrots\", \"potatoes\"]\n",
    "meats = [\"chicken\", \"fish\", \"turkey\"]\n",
    "\n",
    "groceries = [fruits, vegetables, meats]\n",
    "\n",
    "print(groceries)\n",
    "groceries[0][0]\n",
    "\n",
    "\n",
    "groceries = [[\"apple\", \"banana\"],\n",
    "             [\"celery\", \"carrot\", \"potato\"],\n",
    "             [\"chicken\", \"fish\", \"duck\"]]\n",
    "print(groceries)\n",
    "\n",
    "for food_type in groceries:\n",
    "    for item in food_type:\n",
    "        print(item, end=\", \")\n",
    "    print()"
   ]
  },
  {
   "cell_type": "code",
   "execution_count": 189,
   "id": "b8a93db3",
   "metadata": {},
   "outputs": [
    {
     "name": "stdout",
     "output_type": "stream",
     "text": [
      "1 2 3 \n",
      "4 5 6 \n",
      "7 8 9 \n",
      "* 0 # \n"
     ]
    }
   ],
   "source": [
    "numpad = ((1, 2, 3), \n",
    "          (4, 5, 6),\n",
    "          (7, 8, 9),\n",
    "          (\"*\", 0, \"#\")\n",
    "          )\n",
    "\n",
    "for row in numpad:\n",
    "    for num in row:\n",
    "        print(num, end=\" \")\n",
    "    print()"
   ]
  },
  {
   "cell_type": "markdown",
   "id": "d9752f13",
   "metadata": {},
   "source": [
    "### 24. quiz game"
   ]
  },
  {
   "cell_type": "code",
   "execution_count": null,
   "id": "2c726ff3",
   "metadata": {},
   "outputs": [
    {
     "name": "stdout",
     "output_type": "stream",
     "text": [
      "------------------------------\n",
      "How many elemnts in periodic table?: \n",
      "A. 116\n",
      "B. 117\n",
      "C. 118\n",
      "D. 119\n",
      "-------------------------------\n",
      "Incorrect\n",
      "C is the correct answer !\n",
      "------------------------------\n",
      "Which animal lays the largest eggs?: \n",
      "A. Whale\n",
      "B. Crodocile\n",
      "C. Elephant\n",
      "D. Ostrich\n",
      "-------------------------------\n",
      "Incorrect\n",
      "D is the correct answer !\n",
      "------------------------------\n",
      "WHat is the most abundant gas in earth's atmosphere?: \n",
      "A. Nitrogen\n",
      "B. Oxygen\n",
      "C. CO2\n",
      "D. Hydrogen\n",
      "-------------------------------\n",
      "CORRECT !\n",
      "------------------------------\n",
      "how many bones are there in the human body?: \n",
      "A. 206\n",
      "B. 208 \n",
      "C. 207\n",
      "D. 209\n",
      "-------------------------------\n",
      "CORRECT !\n",
      "------------------------------\n",
      "Which planet in the solar system in the hottest?: \n",
      "A. Mercury\n",
      "B. Venus\n",
      "C. Earth\n",
      "D. Mars\n",
      "-------------------------------\n",
      "Incorrect\n",
      "B is the correct answer !\n",
      "-------------------------------\n",
      "---------- Results  -----------\n",
      "-------------------------------\n",
      "answers: C D A A B \n",
      "guesses: A A A A A \n",
      "Your total score is .... 40.0 /100 !\n"
     ]
    }
   ],
   "source": [
    "questions = (\"How many elemnts in periodic table?: \",\n",
    "            \"Which animal lays the largest eggs?: \",\n",
    "            \"WHat is the most abundant gas in earth's atmosphere?: \",\n",
    "            \"how many bones are there in the human body?: \",\n",
    "            \"Which planet in the solar system in the hottest?: \")\n",
    "\n",
    "options = ((\"A. 116\", \"B. 117\", \"C. 118\", \"D. 119\"),\n",
    "            (\"A. Whale\", \"B. Crodocile\", \"C. Elephant\", \"D. Ostrich\"),\n",
    "            (\"A. Nitrogen\", \"B. Oxygen\", \"C. CO2\", \"D. Hydrogen\"),\n",
    "            (\"A. 206\", \"B. 208 \", \"C. 207\", \"D. 209\"),\n",
    "            (\"A. Mercury\", \"B. Venus\", \"C. Earth\", \"D. Mars\"))\n",
    "\n",
    "answers = (\"C\", \"D\", \"A\", \"A\", \"B\")\n",
    "guesses = []\n",
    "score = 0 \n",
    "question_num = 0\n",
    "\n",
    "for question in questions:\n",
    "    print(\"------------------------------\")\n",
    "    print(question)\n",
    "    for option in options[question_num]:\n",
    "        print(option)\n",
    "    \n",
    "    guess = input(\"Enter A, B, C or D: \").upper()\n",
    "    guesses.append(guess)\n",
    "    print(\"-------------------------------\")\n",
    "    if guess == answers[question_num]:\n",
    "        score += 1\n",
    "        print(\"CORRECT !\")\n",
    "    else:\n",
    "        print(\"Incorrect\")\n",
    "        print(f\"{answers[question_num]} is the correct answer !\")\n",
    "    \n",
    "    question_num += 1\n",
    "\n",
    "print(\"-------------------------------\")\n",
    "print(\"---------- Results  -----------\")\n",
    "print(\"-------------------------------\")\n",
    "\n",
    "print(\"answers: \", end=\"\")\n",
    "for answer in answers:\n",
    "    print(answer, end =\" \")\n",
    "print()\n",
    "\n",
    "print(\"guesses: \", end=\"\")\n",
    "for guess in guesses:\n",
    "    print(guess, end= \" \")\n",
    "print()\n",
    "\n",
    "print(f\"Your total score is .... {score / len(guesses) * 100}/100 !\")"
   ]
  },
  {
   "cell_type": "markdown",
   "id": "09337eb1",
   "metadata": {},
   "source": [
    "### 25. Dictionary "
   ]
  },
  {
   "cell_type": "code",
   "execution_count": 223,
   "id": "36388043",
   "metadata": {},
   "outputs": [
    {
     "name": "stdout",
     "output_type": "stream",
     "text": [
      "not exists\n",
      "{'USA': 'Detroit', 'China': 'beijing', 'Russia': 'moscow', 'Australia': 'Canberra', 'Germany': 'Berlin'}\n",
      "beijing\n",
      "('Germany', 'Berlin')\n",
      "dict_keys(['USA', 'Russia', 'Australia'])\n",
      "USA Russia Australia \n",
      "Detroit moscow Canberra \n",
      "USA Detroit-----Russia moscow-----Australia Canberra-----\n",
      "False\n"
     ]
    }
   ],
   "source": [
    "capitals = {\"USA\" : \"washington dc\",\n",
    "            \"China\": \"beijing\", \n",
    "            \"Russia\": \"moscow\",\n",
    "            \"Australia\": \"Canberra\"}\n",
    "\n",
    "capitals.get(\"USA\")\n",
    "\n",
    "if capitals.get(\"Japan\") :      # return none\n",
    "    print(\"That captial exists\")\n",
    "else:\n",
    "    print(\"not exists\")\n",
    "\n",
    "capitals.update({\"Germany\" : \"Berlin\"})\n",
    "capitals.update({\"USA\" : \"Detroit\"})\n",
    "print(capitals)\n",
    "\n",
    "x = capitals.pop(\"China\")\n",
    "print(x)\n",
    "\n",
    "y = capitals.popitem()\n",
    "print(y)\n",
    "\n",
    "keys = capitals.keys()\n",
    "print(keys)\n",
    "\n",
    "for key in capitals.keys():\n",
    "    print(key, end=\" \")\n",
    "print()\n",
    "    \n",
    "for value in capitals.values():\n",
    "    print(value, end=\" \")\n",
    "print()    \n",
    "\n",
    "for key, value in capitals.items():\n",
    "    print(key, value, end= \"-----\")\n",
    "print()\n",
    "\n",
    "print(\"hello\" in capitals.keys())\n"
   ]
  },
  {
   "cell_type": "markdown",
   "id": "68919bc8",
   "metadata": {},
   "source": [
    "### 26. Movie food menu "
   ]
  },
  {
   "cell_type": "code",
   "execution_count": null,
   "id": "0f1bc266",
   "metadata": {},
   "outputs": [
    {
     "name": "stdout",
     "output_type": "stream",
     "text": [
      "------- Menu ------\n",
      "pizza     : $20.00\n",
      "hamburger : $8.00\n",
      "hotdog    : $3.45\n",
      "chips     : $3.12\n",
      "soda      : $3.00\n",
      "lemonade  : $4.25\n",
      "popcorn   : $8.88\n",
      "fries     : $6.70\n",
      "nuggets   : $5.60\n",
      "-------------------\n",
      "['pizza', 'nuggets', 'pizza', 'fries', 'popcorn']\n",
      "Your total is: $61.18\n"
     ]
    }
   ],
   "source": [
    "menu = {\"pizza\" : 20,\n",
    "        \"hamburger\" : 8,\n",
    "        \"hotdog\": 3.45,\n",
    "        \"chips\" : 3.12,\n",
    "        \"soda\": 3.00,\n",
    "        \"lemonade\" : 4.25,\n",
    "        \"popcorn\": 8.88,\n",
    "        \"fries\": 6.70,\n",
    "        \"nuggets\": 5.60\n",
    "        }\n",
    "\n",
    "cart = []\n",
    "total = 0\n",
    "\n",
    "print(\"------- Menu ------\")\n",
    "for key, value in menu.items():\n",
    "    print(f\"{key:10}: ${value:.2f}\")\n",
    "print(\"-------------------\")\n",
    "    \n",
    "while True:\n",
    "    food = input(\"Please select an item, q to quit\").lower()\n",
    "    if food == 'q':\n",
    "        break\n",
    "    elif menu.get(food) is not None:\n",
    "        cart.append(food)\n",
    "        \n",
    "print(cart)\n",
    "for food in cart:\n",
    "    total += menu.get(food)\n",
    "    \n",
    "print(f\"Your total is: ${total:.2f}\")"
   ]
  },
  {
   "cell_type": "markdown",
   "id": "f90e8fc4",
   "metadata": {},
   "source": [
    "### 27. random numbers"
   ]
  },
  {
   "cell_type": "code",
   "execution_count": 319,
   "id": "568a3220",
   "metadata": {},
   "outputs": [
    {
     "name": "stdout",
     "output_type": "stream",
     "text": [
      "9353.53\n",
      "option is : rock\n",
      "7533.65\n",
      "option is : papers\n",
      "351.58\n",
      "option is : scissors\n",
      "3241.69\n",
      "option is : papers\n",
      "2674.54\n",
      "option is : rock\n",
      "3177.34\n",
      "option is : scissors\n",
      "6034.06\n",
      "option is : rock\n",
      "4941.76\n",
      "option is : papers\n",
      "185.32\n",
      "option is : rock\n",
      "5193.02\n",
      "option is : papers\n",
      "['6', '7', '5', '3', '2', '4']\n"
     ]
    }
   ],
   "source": [
    "import random\n",
    "\n",
    "options = (\"rock\", \"papers\", \"scissors\")\n",
    "cards = [\"2\", \"3\", \"4\", \"5\", \"6\", \"7\"]\n",
    "\n",
    "for i in range (0, 10):\n",
    "    number = round(random.random() * 10000, 2)\n",
    "    option = random.choice(options)\n",
    "    print(f\"{number:.2f}\")\n",
    "    print(f\"option is : {option}\")\n",
    "\n",
    "\n",
    "random.shuffle(cards)\n",
    "print(cards)\n"
   ]
  },
  {
   "cell_type": "markdown",
   "id": "d2e16d09",
   "metadata": {},
   "source": [
    "### 28. number guessing game"
   ]
  },
  {
   "cell_type": "code",
   "execution_count": 4,
   "id": "cacded20",
   "metadata": {},
   "outputs": [
    {
     "name": "stdout",
     "output_type": "stream",
     "text": [
      "Python number guessing game\n",
      "Select a number between 1 and 100\n",
      "---------------------------------------------------------\n",
      "too low! try again\n",
      "too low! try again\n",
      "too high! try again\n",
      "You got the correct number 96!\n"
     ]
    }
   ],
   "source": [
    "import random\n",
    "\n",
    "lowest_num = 1\n",
    "highest_num = 100\n",
    "answer = random.randint(lowest_num, highest_num)\n",
    "guesses_count = 0\n",
    "is_running = True\n",
    "\n",
    "print(\"Python number guessing game\")\n",
    "print(f\"Select a number between {lowest_num} and {highest_num}\")\n",
    "print(\"---------------------------------------------------------\")\n",
    "\n",
    "while is_running:\n",
    "    guess = input(\"Enter your guess: \")\n",
    "    if guess.isdigit():\n",
    "        guess = int(guess)\n",
    "        guesses_count += 1\n",
    "        \n",
    "        if guess < lowest_num or guess > highest_num:\n",
    "            print(\"The number is out of range\")\n",
    "            print(f\"Please select a number between {lowest_num} and {highest_num}\")\n",
    "        elif guess < answer:\n",
    "            print(\"too low! try again\")\n",
    "        elif guess > answer:\n",
    "            print(\"too high! try again\")\n",
    "        else:\n",
    "            print(f\"You got the correct number {answer}!\")\n",
    "            break\n",
    "    else:\n",
    "        print(\"Invalid guess\")\n",
    "        print(f\"Select a number between {lowest_num} and {highest_num}\")"
   ]
  },
  {
   "cell_type": "markdown",
   "id": "9ba7d5e3",
   "metadata": {},
   "source": [
    "### 29. rock paper scissors"
   ]
  },
  {
   "cell_type": "code",
   "execution_count": 22,
   "id": "80526f66",
   "metadata": {},
   "outputs": [
    {
     "name": "stdout",
     "output_type": "stream",
     "text": [
      "Player: rock\n",
      "Computer: paper\n",
      "you lose!\n"
     ]
    }
   ],
   "source": [
    "import random\n",
    "\n",
    "options = (\"rock\", \"paper\", \"scissors\")\n",
    "game_on = \"y\"\n",
    "\n",
    "while game_on == \"y\":\n",
    "    \n",
    "    player = None\n",
    "    computer = random.choice(options)\n",
    "\n",
    "    while player not in options:\n",
    "        player = input(\"Enter a choice (rock, paper, scissors): \")\n",
    "\n",
    "    print(f\"Player: {player}\")\n",
    "    print(f\"Computer: {computer}\")\n",
    "\n",
    "    if player == computer:\n",
    "        print(\"It is a tie\")\n",
    "    elif player == \"rock\" and computer == \"scissors\":\n",
    "        print(\"you win\")\n",
    "    elif player == \"paper\" and computer == \"rock\":\n",
    "        print(\"you win\")\n",
    "    elif player == \"scissors\" and computer == \"paper\":\n",
    "        print(\"you win!\")\n",
    "    else:\n",
    "        print(\"you lose!\")\n",
    "        \n",
    "    game_on = input(\"Do you wanna continue? (y/n)\").lower()"
   ]
  },
  {
   "cell_type": "markdown",
   "id": "938c85f1",
   "metadata": {},
   "source": [
    "### 31 function"
   ]
  }
 ],
 "metadata": {
  "kernelspec": {
   "display_name": "python_practice",
   "language": "python",
   "name": "python3"
  },
  "language_info": {
   "codemirror_mode": {
    "name": "ipython",
    "version": 3
   },
   "file_extension": ".py",
   "mimetype": "text/x-python",
   "name": "python",
   "nbconvert_exporter": "python",
   "pygments_lexer": "ipython3",
   "version": "3.10.16"
  }
 },
 "nbformat": 4,
 "nbformat_minor": 5
}
