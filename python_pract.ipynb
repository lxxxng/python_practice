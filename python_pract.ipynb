{
 "cells": [
  {
   "cell_type": "markdown",
   "id": "f38aa2f9",
   "metadata": {},
   "source": [
    "### 2. Variables types"
   ]
  },
  {
   "cell_type": "code",
   "execution_count": 11,
   "id": "deb61264",
   "metadata": {},
   "outputs": [
    {
     "name": "stdout",
     "output_type": "stream",
     "text": [
      "hello my name is Lixing. my favourite food is pizza and my email is Lixing123@gmail.com.\n"
     ]
    }
   ],
   "source": [
    "first_name = \"Lixing\"\n",
    "food = \"pizza\"\n",
    "email = \"Lixing123@gmail.com\"\n",
    "\n",
    "print(f\"hello my name is {first_name}. my favourite food is {food} and my email is {email}.\")"
   ]
  },
  {
   "cell_type": "code",
   "execution_count": 12,
   "id": "963230be",
   "metadata": {},
   "outputs": [
    {
     "name": "stdout",
     "output_type": "stream",
     "text": [
      "the price of pizza is 100 dollars, my gpa is 4.0, and the distance between us is 5.5\n"
     ]
    }
   ],
   "source": [
    "price = 100\n",
    "gpa = 4.0\n",
    "distance = 5.5\n",
    "print(f\"the price of {food} is {price} dollars, my gpa is {gpa}, and the distance between us is {distance}\")"
   ]
  },
  {
   "cell_type": "code",
   "execution_count": null,
   "id": "80cdddd7",
   "metadata": {},
   "outputs": [
    {
     "name": "stdout",
     "output_type": "stream",
     "text": [
      "Are you a student?: True True pizza\n"
     ]
    }
   ],
   "source": [
    "is_student = True\n",
    "if is_student:\n",
    "    print(\"you are a student\")\n",
    "else:\n",
    "    print(\"you are not a student \")"
   ]
  },
  {
   "cell_type": "markdown",
   "id": "27a4b2af",
   "metadata": {},
   "source": [
    "### 3. Type casting"
   ]
  },
  {
   "cell_type": "code",
   "execution_count": 18,
   "id": "0aa5c65f",
   "metadata": {},
   "outputs": [
    {
     "name": "stdout",
     "output_type": "stream",
     "text": [
      "<class 'str'>\n",
      "<class 'int'>\n",
      "<class 'float'>\n",
      "<class 'bool'>\n"
     ]
    }
   ],
   "source": [
    "name = \"Lixing\"\n",
    "age = 25\n",
    "gpa = 3.2\n",
    "is_student = True\n",
    "\n",
    "print(type(name))\n",
    "print(type(age))\n",
    "print(type(gpa))\n",
    "print(type(is_student))"
   ]
  },
  {
   "cell_type": "code",
   "execution_count": 19,
   "id": "339fbe36",
   "metadata": {},
   "outputs": [
    {
     "name": "stdout",
     "output_type": "stream",
     "text": [
      "3\n"
     ]
    }
   ],
   "source": [
    "gpa = int(gpa)\n",
    "print(gpa)"
   ]
  },
  {
   "cell_type": "code",
   "execution_count": null,
   "id": "1ae40874",
   "metadata": {},
   "outputs": [
    {
     "name": "stdout",
     "output_type": "stream",
     "text": [
      "<class 'str'>\n"
     ]
    }
   ],
   "source": [
    "age = str(age)\n",
    "print(type(age))"
   ]
  },
  {
   "cell_type": "code",
   "execution_count": null,
   "id": "f3682ddb",
   "metadata": {},
   "outputs": [
    {
     "name": "stdout",
     "output_type": "stream",
     "text": [
      "True\n"
     ]
    }
   ],
   "source": [
    "# will be false if name is emtpy string\n",
    "name = bool(name)\n",
    "print(name)"
   ]
  },
  {
   "cell_type": "code",
   "execution_count": 22,
   "id": "76f25436",
   "metadata": {},
   "outputs": [
    {
     "name": "stdout",
     "output_type": "stream",
     "text": [
      "False\n"
     ]
    }
   ],
   "source": [
    "name = \"\"\n",
    "print(bool(name))"
   ]
  },
  {
   "cell_type": "markdown",
   "id": "0a092a5f",
   "metadata": {},
   "source": [
    "### 4. User input"
   ]
  },
  {
   "cell_type": "code",
   "execution_count": 24,
   "id": "a5a7a9ca",
   "metadata": {},
   "outputs": [
    {
     "name": "stdout",
     "output_type": "stream",
     "text": [
      "Hi i am lixing and i am 24 years old\n"
     ]
    }
   ],
   "source": [
    "name  = input(\"What is your name?\")\n",
    "age = input(\"how old are you\")\n",
    "\n",
    "print(f\"Hi i am {name} and i am {age} years old\")"
   ]
  },
  {
   "cell_type": "code",
   "execution_count": 26,
   "id": "c0ef1910",
   "metadata": {},
   "outputs": [
    {
     "name": "stdout",
     "output_type": "stream",
     "text": [
      "24242424\n"
     ]
    }
   ],
   "source": [
    "age += age\n",
    "print(age)"
   ]
  },
  {
   "cell_type": "code",
   "execution_count": null,
   "id": "d80932f9",
   "metadata": {},
   "outputs": [
    {
     "name": "stdout",
     "output_type": "stream",
     "text": [
      "the twice of your age is 50\n"
     ]
    }
   ],
   "source": [
    "age = int(input(\"how old are you? \"))\n",
    "\n",
    "age += age\n",
    "print(f\"the twice of your age is {age}\")"
   ]
  },
  {
   "cell_type": "code",
   "execution_count": null,
   "id": "7541fb68",
   "metadata": {},
   "outputs": [
    {
     "name": "stdout",
     "output_type": "stream",
     "text": [
      "The area is: 25.0cm square\n"
     ]
    }
   ],
   "source": [
    "# Exercise 1 -- Area calculation\n",
    "length = float(input(\"enter the length: \"))\n",
    "width = float(input(\"enter the width: \")) \n",
    "area = length * width\n",
    "\n",
    "print(f\"The area is: {area}cm square\")"
   ]
  },
  {
   "cell_type": "code",
   "execution_count": 33,
   "id": "eb23f709",
   "metadata": {},
   "outputs": [
    {
     "name": "stdout",
     "output_type": "stream",
     "text": [
      "You have bought 10 sushi, the total amount spent is 10.0\n"
     ]
    }
   ],
   "source": [
    "# Exercise 2 -- shopping cart program\n",
    "\n",
    "item = input(\"what item do you want to buy?\")\n",
    "price = float(input(\"what is the price?: \"))\n",
    "quantity = int(input(\"How many are you going to buy?: \"))\n",
    "total = price * quantity\n",
    "\n",
    "print(f\"You have bought {quantity} {item}, the total amount spent is {total}\")"
   ]
  },
  {
   "cell_type": "markdown",
   "id": "31c3b8f9",
   "metadata": {},
   "source": [
    "### 5. Madlibs game"
   ]
  },
  {
   "cell_type": "code",
   "execution_count": 35,
   "id": "d56099c0",
   "metadata": {},
   "outputs": [
    {
     "name": "stdout",
     "output_type": "stream",
     "text": [
      "today i went to to a expensive zoo.\n",
      "In an exhibit, I saw a zebra\n",
      "zebra was cute  and running around\n",
      "I was delightex!\n"
     ]
    }
   ],
   "source": [
    "adjective1 = input(\"Enter an adjective\")\n",
    "noun1 = input(\"Enter a noun (Person, place, thing): \")\n",
    "adjective2 = input(\"Enter an adjective (description): \")\n",
    "verb1 = input(\"Enter a verb ending with ing: \")\n",
    "adjective3 = input(\"Enter another adjective\")\n",
    "\n",
    "print(f\"today i went to to a {adjective1} zoo.\")\n",
    "print(f\"In an exhibit, I saw a {noun1}\")\n",
    "print(f\"{noun1} was {adjective2} and {verb1}\")\n",
    "print(f\"I was {adjective3}!\")"
   ]
  },
  {
   "cell_type": "markdown",
   "id": "980feea2",
   "metadata": {},
   "source": [
    "### 6. Math"
   ]
  },
  {
   "cell_type": "code",
   "execution_count": null,
   "id": "8783188e",
   "metadata": {},
   "outputs": [
    {
     "name": "stdout",
     "output_type": "stream",
     "text": [
      "22500.0\n"
     ]
    }
   ],
   "source": [
    "money = 100\n",
    "money += 2\n",
    "money -=2\n",
    "money *= 3\n",
    "money /= 2\n",
    "money **= 2\n",
    "money %= 17\n",
    "\n",
    "print(money)"
   ]
  },
  {
   "cell_type": "code",
   "execution_count": 52,
   "id": "3a562af3",
   "metadata": {},
   "outputs": [
    {
     "name": "stdout",
     "output_type": "stream",
     "text": [
      "4\n",
      "4\n",
      "64\n",
      "5\n",
      "-4\n"
     ]
    }
   ],
   "source": [
    "x = 3.74\n",
    "y = -4\n",
    "z = 5\n",
    "\n",
    "result = round(x)\n",
    "result2 = abs(y)\n",
    "result3 = pow(4, 3) # same as 4 ** 3\n",
    "result4 = max(x, y, z)\n",
    "result5 = min(x, y, z)\n",
    "\n",
    "print(result)\n",
    "print(result2)\n",
    "print(result3)\n",
    "print(result4)\n",
    "print(result5)"
   ]
  },
  {
   "cell_type": "code",
   "execution_count": 58,
   "id": "3eade579",
   "metadata": {},
   "outputs": [
    {
     "name": "stdout",
     "output_type": "stream",
     "text": [
      "3.141592653589793\n",
      "2.718281828459045\n",
      "2.0\n",
      "10\n",
      "9\n"
     ]
    }
   ],
   "source": [
    "import math\n",
    "\n",
    "x = 4\n",
    "\n",
    "print(math.pi)\n",
    "print(math.e)\n",
    "print(math.sqrt(x))\n",
    "\n",
    "y = 9.7\n",
    "\n",
    "print(math.ceil(y))\n",
    "print(math.floor(y))"
   ]
  },
  {
   "cell_type": "code",
   "execution_count": 71,
   "id": "3a8d8506",
   "metadata": {},
   "outputs": [
    {
     "name": "stdout",
     "output_type": "stream",
     "text": [
      "The circumference is 31.42 cm\n",
      "The area of the circle is: 78.54\n"
     ]
    }
   ],
   "source": [
    "import math\n",
    "\n",
    "radius = float(input(\"Enter a radius of a circle\"))\n",
    "\n",
    "circumference = 2 * math.pi * radius\n",
    "print(f\"The circumference is {round(circumference, 2)} cm\")\n",
    "\n",
    "area = math.pi * pow(radius, 2)\n",
    "print(f\"The area of the circle is: {round(area, 2)} cm square\")"
   ]
  },
  {
   "cell_type": "code",
   "execution_count": 73,
   "id": "3c2dc7af",
   "metadata": {},
   "outputs": [
    {
     "name": "stdout",
     "output_type": "stream",
     "text": [
      "Side C = 5.66\n"
     ]
    }
   ],
   "source": [
    "import math\n",
    "\n",
    "a = float(input(\"Enter side A: \"))\n",
    "b = float(input(\"Enter side B: \"))\n",
    "c =  math.sqrt(pow(a, 2) + pow(b, 2))\n",
    "print(f\"Side C = {round(c, 2)}\")\n"
   ]
  },
  {
   "cell_type": "markdown",
   "id": "afc2e7d0",
   "metadata": {},
   "source": [
    "### 7. if statements"
   ]
  },
  {
   "cell_type": "code",
   "execution_count": null,
   "id": "07ff6ff8",
   "metadata": {},
   "outputs": [
    {
     "name": "stdout",
     "output_type": "stream",
     "text": [
      "You are underage\n"
     ]
    }
   ],
   "source": [
    "age = int(input(\"Enter your age\"))\n",
    "\n",
    "if age > 21:\n",
    "    print(\"You are an adult\")\n",
    "elif age < 0:\n",
    "    print(\"You are not born\")\n",
    "else:\n",
    "    print(\"You are underage\")\n",
    "    \n"
   ]
  },
  {
   "cell_type": "code",
   "execution_count": 79,
   "id": "2f32a6b8",
   "metadata": {},
   "outputs": [
    {
     "name": "stdout",
     "output_type": "stream",
     "text": [
      "OK goodbye!\n"
     ]
    }
   ],
   "source": [
    "response = input(\"Would you like food (y/n) ?:\")\n",
    "\n",
    "if response == \"y\":\n",
    "    print(\"I'll get you some food!\")\n",
    "else:\n",
    "    print(\"OK goodbye!\")"
   ]
  },
  {
   "cell_type": "code",
   "execution_count": null,
   "id": "8f4d1ec3",
   "metadata": {},
   "outputs": [
    {
     "name": "stdout",
     "output_type": "stream",
     "text": [
      "Hello Lixing\n"
     ]
    }
   ],
   "source": [
    "name = input(\"Enter your name\")\n",
    "\n",
    "if name == \"\":\n",
    "    print(\"You did not type in your name\")\n",
    "else:\n",
    "    print(f\"Hello {name}\")"
   ]
  },
  {
   "cell_type": "code",
   "execution_count": 86,
   "id": "7ca1b4a7",
   "metadata": {},
   "outputs": [
    {
     "name": "stdout",
     "output_type": "stream",
     "text": [
      "True\n",
      "The item is for sale\n"
     ]
    }
   ],
   "source": [
    "for_sale = True\n",
    "\n",
    "print(for_sale == True)\n",
    "\n",
    "if for_sale == True:   \n",
    "    print(\"The item is for sale\")\n",
    "else:\n",
    "    print(\"This item is not for sale\")"
   ]
  },
  {
   "cell_type": "markdown",
   "id": "52cae78d",
   "metadata": {},
   "source": [
    "### python calculator"
   ]
  },
  {
   "cell_type": "code",
   "execution_count": 97,
   "id": "28a60c78",
   "metadata": {},
   "outputs": [
    {
     "name": "stdout",
     "output_type": "stream",
     "text": [
      "pizza is not a valid operator !!\n"
     ]
    }
   ],
   "source": [
    "operator = input(\"Enter an operator (+ - * /): \")\n",
    "num1 = int(input(\"Enter the first number\"))\n",
    "num2 = int(input(\"Enter the second number\"))\n",
    "result = 0 \n",
    "\n",
    "if operator == \"+\":\n",
    "    result = round(num1 + num2)\n",
    "    print(result)\n",
    "elif operator == \"-\":\n",
    "    result = round(num1 - num2)\n",
    "    print(result)\n",
    "elif operator == \"*\":\n",
    "    result = round(num1 * num2)\n",
    "    print(result)\n",
    "elif operator == \"/\":\n",
    "    result = round(num1 / num2)\n",
    "    print(result)\n",
    "else:\n",
    "    print(f\"{operator} is not a valid operator !!\")\n",
    "    \n"
   ]
  },
  {
   "cell_type": "code",
   "execution_count": null,
   "id": "ab013947",
   "metadata": {},
   "outputs": [],
   "source": [
    "## Python weight converter\n",
    "weight = float(input(\"Enter your weight: \"))\n",
    "unit = input(\"Kilograms or Pounds? (K or L): \")\n",
    "\n",
    "if unit == \"K\":\n",
    "    weight = weight * 2.205\n",
    "    unit = \"kg\"\n",
    "    print(f\"your weight is: {weight} {unit}\")\n",
    "elif unit == \"L\":\n",
    "    weight = weight / 2.205\n",
    "    unit = \"lbs\"\n",
    "    print(f\"your weight is: {weight} {unit}\")\n",
    "    "
   ]
  }
 ],
 "metadata": {
  "kernelspec": {
   "display_name": "python_practice",
   "language": "python",
   "name": "python3"
  },
  "language_info": {
   "codemirror_mode": {
    "name": "ipython",
    "version": 3
   },
   "file_extension": ".py",
   "mimetype": "text/x-python",
   "name": "python",
   "nbconvert_exporter": "python",
   "pygments_lexer": "ipython3",
   "version": "3.10.16"
  }
 },
 "nbformat": 4,
 "nbformat_minor": 5
}
