{
 "cells": [
  {
   "cell_type": "markdown",
   "id": "f38aa2f9",
   "metadata": {},
   "source": [
    "### 2. Variables types"
   ]
  },
  {
   "cell_type": "code",
   "execution_count": 11,
   "id": "deb61264",
   "metadata": {},
   "outputs": [
    {
     "name": "stdout",
     "output_type": "stream",
     "text": [
      "hello my name is Lixing. my favourite food is pizza and my email is Lixing123@gmail.com.\n"
     ]
    }
   ],
   "source": [
    "first_name = \"Lixing\"\n",
    "food = \"pizza\"\n",
    "email = \"Lixing123@gmail.com\"\n",
    "\n",
    "print(f\"hello my name is {first_name}. my favourite food is {food} and my email is {email}.\")"
   ]
  },
  {
   "cell_type": "code",
   "execution_count": 12,
   "id": "963230be",
   "metadata": {},
   "outputs": [
    {
     "name": "stdout",
     "output_type": "stream",
     "text": [
      "the price of pizza is 100 dollars, my gpa is 4.0, and the distance between us is 5.5\n"
     ]
    }
   ],
   "source": [
    "price = 100\n",
    "gpa = 4.0\n",
    "distance = 5.5\n",
    "print(f\"the price of {food} is {price} dollars, my gpa is {gpa}, and the distance between us is {distance}\")"
   ]
  },
  {
   "cell_type": "code",
   "execution_count": null,
   "id": "80cdddd7",
   "metadata": {},
   "outputs": [
    {
     "name": "stdout",
     "output_type": "stream",
     "text": [
      "Are you a student?: True True pizza\n"
     ]
    }
   ],
   "source": [
    "is_student = True\n",
    "if is_student:\n",
    "    print(\"you are a student\")\n",
    "else:\n",
    "    print(\"you are not a student \")"
   ]
  },
  {
   "cell_type": "markdown",
   "id": "27a4b2af",
   "metadata": {},
   "source": [
    "### 3. Type casting"
   ]
  },
  {
   "cell_type": "code",
   "execution_count": 18,
   "id": "0aa5c65f",
   "metadata": {},
   "outputs": [
    {
     "name": "stdout",
     "output_type": "stream",
     "text": [
      "<class 'str'>\n",
      "<class 'int'>\n",
      "<class 'float'>\n",
      "<class 'bool'>\n"
     ]
    }
   ],
   "source": [
    "name = \"Lixing\"\n",
    "age = 25\n",
    "gpa = 3.2\n",
    "is_student = True\n",
    "\n",
    "print(type(name))\n",
    "print(type(age))\n",
    "print(type(gpa))\n",
    "print(type(is_student))"
   ]
  },
  {
   "cell_type": "code",
   "execution_count": 19,
   "id": "339fbe36",
   "metadata": {},
   "outputs": [
    {
     "name": "stdout",
     "output_type": "stream",
     "text": [
      "3\n"
     ]
    }
   ],
   "source": [
    "gpa = int(gpa)\n",
    "print(gpa)"
   ]
  },
  {
   "cell_type": "code",
   "execution_count": null,
   "id": "1ae40874",
   "metadata": {},
   "outputs": [
    {
     "name": "stdout",
     "output_type": "stream",
     "text": [
      "<class 'str'>\n"
     ]
    }
   ],
   "source": [
    "age = str(age)\n",
    "print(type(age))"
   ]
  },
  {
   "cell_type": "code",
   "execution_count": null,
   "id": "f3682ddb",
   "metadata": {},
   "outputs": [
    {
     "name": "stdout",
     "output_type": "stream",
     "text": [
      "True\n"
     ]
    }
   ],
   "source": [
    "# will be false if name is emtpy string\n",
    "name = bool(name)\n",
    "print(name)"
   ]
  },
  {
   "cell_type": "code",
   "execution_count": 22,
   "id": "76f25436",
   "metadata": {},
   "outputs": [
    {
     "name": "stdout",
     "output_type": "stream",
     "text": [
      "False\n"
     ]
    }
   ],
   "source": [
    "name = \"\"\n",
    "print(bool(name))"
   ]
  },
  {
   "cell_type": "markdown",
   "id": "0a092a5f",
   "metadata": {},
   "source": [
    "### 4. User input"
   ]
  },
  {
   "cell_type": "code",
   "execution_count": 24,
   "id": "a5a7a9ca",
   "metadata": {},
   "outputs": [
    {
     "name": "stdout",
     "output_type": "stream",
     "text": [
      "Hi i am lixing and i am 24 years old\n"
     ]
    }
   ],
   "source": [
    "name  = input(\"What is your name?\")\n",
    "age = input(\"how old are you\")\n",
    "\n",
    "print(f\"Hi i am {name} and i am {age} years old\")"
   ]
  },
  {
   "cell_type": "code",
   "execution_count": 26,
   "id": "c0ef1910",
   "metadata": {},
   "outputs": [
    {
     "name": "stdout",
     "output_type": "stream",
     "text": [
      "24242424\n"
     ]
    }
   ],
   "source": [
    "age += age\n",
    "print(age)"
   ]
  },
  {
   "cell_type": "code",
   "execution_count": null,
   "id": "d80932f9",
   "metadata": {},
   "outputs": [
    {
     "name": "stdout",
     "output_type": "stream",
     "text": [
      "the twice of your age is 50\n"
     ]
    }
   ],
   "source": [
    "age = int(input(\"how old are you? \"))\n",
    "\n",
    "age += age\n",
    "print(f\"the twice of your age is {age}\")"
   ]
  },
  {
   "cell_type": "code",
   "execution_count": null,
   "id": "7541fb68",
   "metadata": {},
   "outputs": [
    {
     "name": "stdout",
     "output_type": "stream",
     "text": [
      "The area is: 25.0cm square\n"
     ]
    }
   ],
   "source": [
    "# Exercise 1 -- Area calculation\n",
    "length = float(input(\"enter the length: \"))\n",
    "width = float(input(\"enter the width: \")) \n",
    "area = length * width\n",
    "\n",
    "print(f\"The area is: {area}cm square\")"
   ]
  },
  {
   "cell_type": "code",
   "execution_count": 33,
   "id": "eb23f709",
   "metadata": {},
   "outputs": [
    {
     "name": "stdout",
     "output_type": "stream",
     "text": [
      "You have bought 10 sushi, the total amount spent is 10.0\n"
     ]
    }
   ],
   "source": [
    "# Exercise 2 -- shopping cart program\n",
    "\n",
    "item = input(\"what item do you want to buy?\")\n",
    "price = float(input(\"what is the price?: \"))\n",
    "quantity = int(input(\"How many are you going to buy?: \"))\n",
    "total = price * quantity\n",
    "\n",
    "print(f\"You have bought {quantity} {item}, the total amount spent is {total}\")"
   ]
  },
  {
   "cell_type": "markdown",
   "id": "31c3b8f9",
   "metadata": {},
   "source": [
    "### 5. Madlibs game"
   ]
  },
  {
   "cell_type": "code",
   "execution_count": 35,
   "id": "d56099c0",
   "metadata": {},
   "outputs": [
    {
     "name": "stdout",
     "output_type": "stream",
     "text": [
      "today i went to to a expensive zoo.\n",
      "In an exhibit, I saw a zebra\n",
      "zebra was cute  and running around\n",
      "I was delightex!\n"
     ]
    }
   ],
   "source": [
    "adjective1 = input(\"Enter an adjective\")\n",
    "noun1 = input(\"Enter a noun (Person, place, thing): \")\n",
    "adjective2 = input(\"Enter an adjective (description): \")\n",
    "verb1 = input(\"Enter a verb ending with ing: \")\n",
    "adjective3 = input(\"Enter another adjective\")\n",
    "\n",
    "print(f\"today i went to to a {adjective1} zoo.\")\n",
    "print(f\"In an exhibit, I saw a {noun1}\")\n",
    "print(f\"{noun1} was {adjective2} and {verb1}\")\n",
    "print(f\"I was {adjective3}!\")"
   ]
  },
  {
   "cell_type": "markdown",
   "id": "980feea2",
   "metadata": {},
   "source": [
    "### 6. Math"
   ]
  },
  {
   "cell_type": "code",
   "execution_count": null,
   "id": "8783188e",
   "metadata": {},
   "outputs": [
    {
     "name": "stdout",
     "output_type": "stream",
     "text": [
      "22500.0\n"
     ]
    }
   ],
   "source": [
    "money = 100\n",
    "money += 2\n",
    "money -=2\n",
    "money *= 3\n",
    "money /= 2\n",
    "money **= 2\n",
    "money %= 17\n",
    "\n",
    "print(money)"
   ]
  },
  {
   "cell_type": "code",
   "execution_count": 52,
   "id": "3a562af3",
   "metadata": {},
   "outputs": [
    {
     "name": "stdout",
     "output_type": "stream",
     "text": [
      "4\n",
      "4\n",
      "64\n",
      "5\n",
      "-4\n"
     ]
    }
   ],
   "source": [
    "x = 3.74\n",
    "y = -4\n",
    "z = 5\n",
    "\n",
    "result = round(x)\n",
    "result2 = abs(y)\n",
    "result3 = pow(4, 3) # same as 4 ** 3\n",
    "result4 = max(x, y, z)\n",
    "result5 = min(x, y, z)\n",
    "\n",
    "print(result)\n",
    "print(result2)\n",
    "print(result3)\n",
    "print(result4)\n",
    "print(result5)"
   ]
  },
  {
   "cell_type": "code",
   "execution_count": 58,
   "id": "3eade579",
   "metadata": {},
   "outputs": [
    {
     "name": "stdout",
     "output_type": "stream",
     "text": [
      "3.141592653589793\n",
      "2.718281828459045\n",
      "2.0\n",
      "10\n",
      "9\n"
     ]
    }
   ],
   "source": [
    "import math\n",
    "\n",
    "x = 4\n",
    "\n",
    "print(math.pi)\n",
    "print(math.e)\n",
    "print(math.sqrt(x))\n",
    "\n",
    "y = 9.7\n",
    "\n",
    "print(math.ceil(y))\n",
    "print(math.floor(y))"
   ]
  },
  {
   "cell_type": "code",
   "execution_count": 71,
   "id": "3a8d8506",
   "metadata": {},
   "outputs": [
    {
     "name": "stdout",
     "output_type": "stream",
     "text": [
      "The circumference is 31.42 cm\n",
      "The area of the circle is: 78.54\n"
     ]
    }
   ],
   "source": [
    "import math\n",
    "\n",
    "radius = float(input(\"Enter a radius of a circle\"))\n",
    "\n",
    "circumference = 2 * math.pi * radius\n",
    "print(f\"The circumference is {round(circumference, 2)} cm\")\n",
    "\n",
    "area = math.pi * pow(radius, 2)\n",
    "print(f\"The area of the circle is: {round(area, 2)} cm square\")"
   ]
  },
  {
   "cell_type": "code",
   "execution_count": 73,
   "id": "3c2dc7af",
   "metadata": {},
   "outputs": [
    {
     "name": "stdout",
     "output_type": "stream",
     "text": [
      "Side C = 5.66\n"
     ]
    }
   ],
   "source": [
    "import math\n",
    "\n",
    "a = float(input(\"Enter side A: \"))\n",
    "b = float(input(\"Enter side B: \"))\n",
    "c =  math.sqrt(pow(a, 2) + pow(b, 2))\n",
    "print(f\"Side C = {round(c, 2)}\")\n"
   ]
  },
  {
   "cell_type": "markdown",
   "id": "afc2e7d0",
   "metadata": {},
   "source": [
    "### 7. if statements"
   ]
  },
  {
   "cell_type": "code",
   "execution_count": null,
   "id": "07ff6ff8",
   "metadata": {},
   "outputs": [
    {
     "name": "stdout",
     "output_type": "stream",
     "text": [
      "You are underage\n"
     ]
    }
   ],
   "source": [
    "age = int(input(\"Enter your age\"))\n",
    "\n",
    "if age > 21:\n",
    "    print(\"You are an adult\")\n",
    "elif age < 0:\n",
    "    print(\"You are not born\")\n",
    "else:\n",
    "    print(\"You are underage\")\n",
    "    \n"
   ]
  },
  {
   "cell_type": "code",
   "execution_count": 79,
   "id": "2f32a6b8",
   "metadata": {},
   "outputs": [
    {
     "name": "stdout",
     "output_type": "stream",
     "text": [
      "OK goodbye!\n"
     ]
    }
   ],
   "source": [
    "response = input(\"Would you like food (y/n) ?:\")\n",
    "\n",
    "if response == \"y\":\n",
    "    print(\"I'll get you some food!\")\n",
    "else:\n",
    "    print(\"OK goodbye!\")"
   ]
  },
  {
   "cell_type": "code",
   "execution_count": null,
   "id": "8f4d1ec3",
   "metadata": {},
   "outputs": [
    {
     "name": "stdout",
     "output_type": "stream",
     "text": [
      "Hello Lixing\n"
     ]
    }
   ],
   "source": [
    "name = input(\"Enter your name\")\n",
    "\n",
    "if name == \"\":\n",
    "    print(\"You did not type in your name\")\n",
    "else:\n",
    "    print(f\"Hello {name}\")"
   ]
  },
  {
   "cell_type": "code",
   "execution_count": 86,
   "id": "7ca1b4a7",
   "metadata": {},
   "outputs": [
    {
     "name": "stdout",
     "output_type": "stream",
     "text": [
      "True\n",
      "The item is for sale\n"
     ]
    }
   ],
   "source": [
    "for_sale = True\n",
    "\n",
    "print(for_sale == True)\n",
    "\n",
    "if for_sale == True:   \n",
    "    print(\"The item is for sale\")\n",
    "else:\n",
    "    print(\"This item is not for sale\")"
   ]
  },
  {
   "cell_type": "markdown",
   "id": "52cae78d",
   "metadata": {},
   "source": [
    "### 8. python calculator"
   ]
  },
  {
   "cell_type": "code",
   "execution_count": 97,
   "id": "28a60c78",
   "metadata": {},
   "outputs": [
    {
     "name": "stdout",
     "output_type": "stream",
     "text": [
      "pizza is not a valid operator !!\n"
     ]
    }
   ],
   "source": [
    "operator = input(\"Enter an operator (+ - * /): \")\n",
    "num1 = int(input(\"Enter the first number\"))\n",
    "num2 = int(input(\"Enter the second number\"))\n",
    "result = 0 \n",
    "\n",
    "if operator == \"+\":\n",
    "    result = round(num1 + num2)\n",
    "    print(result)\n",
    "elif operator == \"-\":\n",
    "    result = round(num1 - num2)\n",
    "    print(result)\n",
    "elif operator == \"*\":\n",
    "    result = round(num1 * num2)\n",
    "    print(result)\n",
    "elif operator == \"/\":\n",
    "    result = round(num1 / num2)\n",
    "    print(result)\n",
    "else:\n",
    "    print(f\"{operator} is not a valid operator !!\")\n",
    "    \n"
   ]
  },
  {
   "cell_type": "markdown",
   "metadata": {},
   "source": [
    "### 9. Weight converter"
   ]
  },
  {
   "cell_type": "code",
   "execution_count": null,
   "id": "ab013947",
   "metadata": {},
   "outputs": [
    {
     "name": "stdout",
     "output_type": "stream",
     "text": [
      "your weight is: 132.3 kg\n"
     ]
    }
   ],
   "source": [
    "## Python weight converter\n",
    "weight = float(input(\"Enter your weight: \"))\n",
    "unit = input(\"Kilograms or Pounds? (K or L): \")\n",
    "\n",
    "if unit == \"K\":\n",
    "    weight = weight * 2.205\n",
    "    unit = \"lbs\"\n",
    "    print(f\"your weight is: {weight} {unit}\")\n",
    "elif unit == \"L\":\n",
    "    weight = weight / 2.205\n",
    "    unit = \"kg\"\n",
    "    print(f\"your weight is: {weight} {unit}\")\n",
    "else: \n",
    "    print(\"invalid unit\")\n",
    "    "
   ]
  },
  {
   "cell_type": "markdown",
   "id": "0b3442f3",
   "metadata": {},
   "source": [
    "### 10. Temperature conversion"
   ]
  },
  {
   "cell_type": "code",
   "execution_count": 4,
   "id": "bb096721",
   "metadata": {},
   "outputs": [
    {
     "name": "stdout",
     "output_type": "stream",
     "text": [
      "The temperature in Farenheit is 50.0 farenheit\n"
     ]
    }
   ],
   "source": [
    "unit = input(\"Temp in Celcius or Fabrenheit (C/F)\")\n",
    "temp = float(input(\"What is the current temperature?\"))\n",
    "\n",
    "if unit == \"C\":\n",
    "    temp = round((9 * temp) / 5 + 32, 1)\n",
    "    print(f\"The temperature in Farenheit is {temp} farenheit\")\n",
    "elif unit == \"F\":\n",
    "    temp = round((temp - 32) * 5 / 9, 1)\n",
    "    print(f\"THe temp in Celcius is {temp} deg celcius\")\n",
    "else:\n",
    "    print(f\"{unit} is not valid\")"
   ]
  },
  {
   "cell_type": "markdown",
   "id": "249cc063",
   "metadata": {},
   "source": [
    "### 11. Logical operators"
   ]
  },
  {
   "cell_type": "code",
   "execution_count": 5,
   "id": "af308856",
   "metadata": {},
   "outputs": [
    {
     "name": "stdout",
     "output_type": "stream",
     "text": [
      "The outdoor event is still scheduled\n"
     ]
    }
   ],
   "source": [
    "temp = 25\n",
    "is_raining = False\n",
    "\n",
    "if temp > 35 or temp < 0 or is_raining:\n",
    "    print(\"The outdoor event is cancelled\")\n",
    "else:\n",
    "    print(\"The outdoor event is still scheduled\")"
   ]
  },
  {
   "cell_type": "code",
   "execution_count": null,
   "id": "3229fa11",
   "metadata": {},
   "outputs": [],
   "source": [
    "temp = 30\n",
    "is_sunny = True\n",
    "\n",
    "if temp >= 28 and is_sunny:\n",
    "    print(\"It is hot outside\")\n",
    "    print(\"It is sunny\")\n",
    "elif temp <= 0 and is_sunny:\n",
    "    print(\"It is cold outside\")\n",
    "    print(\"It is sunny\")\n",
    "elif 28 > temp > 0 and is_sunny:\n",
    "    print(\"It is warm outside\")\n",
    "    print(\"It is sunny\")\n",
    "elif temp >= 28 and not is_sunny:\n",
    "    print(\"it is hot outside\")\n",
    "    print(\"It is cloudy\")\n",
    "elif temp <= 0 and not is_sunny:\n",
    "    print(\"it is hot outside\")\n",
    "    print(\"It is cloudy\")\n",
    "elif 28 > temp > 0 and not is_sunny:\n",
    "    print(\"it is warm outside\")\n",
    "    print(\"It is cloudy\")\n"
   ]
  },
  {
   "cell_type": "markdown",
   "id": "10982170",
   "metadata": {},
   "source": [
    "### 12. Conditional expressions/ ternary operator "
   ]
  },
  {
   "cell_type": "code",
   "execution_count": 20,
   "id": "ee33167c",
   "metadata": {},
   "outputs": [
    {
     "name": "stdout",
     "output_type": "stream",
     "text": [
      "Positive\n",
      "Odd\n",
      "10\n",
      "5\n",
      "Adult\n",
      "hot\n",
      "Full access\n"
     ]
    }
   ],
   "source": [
    "num1 = 5\n",
    "num2 = 10\n",
    "age = 25\n",
    "temperature = 30\n",
    "role = \"admin\"\n",
    "\n",
    "print(\"Positive\" if num1 > 0 else \"Negative\")\n",
    "is_even = \"Even\" if num1 * 2 == 0 else \"Odd\"\n",
    "print(is_even)\n",
    "\n",
    "max_num = num1 if num1 > num2 else num2\n",
    "min_num = num1 if num1 < num2 else num2\n",
    "\n",
    "print(max_num)\n",
    "print(min_num)\n",
    "\n",
    "status = \"Adult\" if age > 21 else \"child\"\n",
    "print(status)\n",
    "\n",
    "weather = \"hot\" if temperature > 28 else \"cold\"\n",
    "print(weather)\n",
    "\n",
    "access_level = \"Full access\" if role == \"admin\" else \"limited access\"\n",
    "print(access_level)"
   ]
  },
  {
   "cell_type": "markdown",
   "id": "6adeb80f",
   "metadata": {},
   "source": [
    "### 13. String methods"
   ]
  },
  {
   "cell_type": "code",
   "execution_count": 45,
   "id": "a64ce3b3",
   "metadata": {},
   "outputs": [
    {
     "name": "stdout",
     "output_type": "stream",
     "text": [
      "False\n",
      "True\n",
      "5\n",
      "Lixing\n",
      "LIXING\n",
      "lixing\n",
      "False\n",
      "True\n"
     ]
    }
   ],
   "source": [
    "name = input(\"Enter your full name\")\n",
    "result = len(name)\n",
    "result2 = name.find(\"in\")\n",
    "result3 = name.rfind(\"g\")      # finding last occurence\n",
    "name2 = name.capitalize()      #Capitalize first char\n",
    "name3 = name.upper()\n",
    "name4 = name3.lower()\n",
    "\n",
    "result = name.isdigit()        # if string only has digits... dont need to typecast\n",
    "result2 = name.isalpha()        # cannot contain space\n",
    "\n",
    "print(result)\n",
    "print(result2)\n",
    "print(result3)\n",
    "\n",
    "print(name2)\n",
    "print(name3)\n",
    "print(name4)\n",
    "\n",
    "print(result)\n",
    "print(result2)"
   ]
  },
  {
   "cell_type": "code",
   "execution_count": 51,
   "id": "9a3c7429",
   "metadata": {},
   "outputs": [
    {
     "name": "stdout",
     "output_type": "stream",
     "text": [
      "2\n",
      "123=123=123\n"
     ]
    }
   ],
   "source": [
    "phone_number = input(\"Enter phone number\")\n",
    "result = phone_number.count(\"-\")\n",
    "result2 = phone_number.replace(\"-\", \"=\")\n",
    "\n",
    "print(result)\n",
    "print(result2)"
   ]
  },
  {
   "cell_type": "markdown",
   "id": "134bdf9b",
   "metadata": {},
   "source": [
    "### Enter a username"
   ]
  },
  {
   "cell_type": "code",
   "execution_count": null,
   "id": "cc0d94b6",
   "metadata": {},
   "outputs": [
    {
     "name": "stdout",
     "output_type": "stream",
     "text": [
      "username cannot contain space\n"
     ]
    }
   ],
   "source": [
    "username = input(\"Enter a username\")\n",
    "\n",
    "if len(username) > 12:\n",
    "    print(\"Username cannot be more than 12 characters\")\n",
    "elif username.find(\" \") != -1:\n",
    "    print(\"username cannot contain space\")\n",
    "elif not username.isalpha():\n",
    "    print(\"Your username cannot contain numbers\")\n",
    "else:\n",
    "    print(f\"Welcome {username}\")"
   ]
  },
  {
   "cell_type": "markdown",
   "id": "6c7f9736",
   "metadata": {},
   "source": [
    "### 14. String indexing"
   ]
  },
  {
   "cell_type": "code",
   "execution_count": 92,
   "id": "f23c2c15",
   "metadata": {},
   "outputs": [
    {
     "name": "stdout",
     "output_type": "stream",
     "text": [
      "4\n",
      "123-\n",
      "123-\n",
      "456\n",
      "456-789\n",
      "9\n",
      "134679\n",
      "-789\n",
      "987-654-321\n",
      "54-321\n"
     ]
    }
   ],
   "source": [
    "###  [start:end:step]\n",
    "\n",
    "credit_number = \"123-456-789\"\n",
    "print(credit_number[4])\n",
    "print(credit_number[0: 4])  #ending step is exclusive\n",
    "print(credit_number[:4])    # assume start is 0    \n",
    "print(credit_number[4:7])\n",
    "print(credit_number[4:])    # assume until this end\n",
    "print(credit_number[-1])    # start from back... -1\n",
    "print(credit_number[::2])   # skip 2 char\n",
    "\n",
    "last_3_digits = credit_number[-4:]\n",
    "print(last_3_digits)\n",
    "\n",
    "reverse_credit_number = credit_number[::-1]   \n",
    "reverse_subset = credit_number[5::-1]     # to reverse subset... start must be greater than end\n",
    "print(reverse_credit_number)\n",
    "print(reverse_subset)"
   ]
  },
  {
   "cell_type": "markdown",
   "id": "100951ba",
   "metadata": {},
   "source": [
    "### 15 format specifier"
   ]
  },
  {
   "cell_type": "code",
   "execution_count": null,
   "id": "3b3eb3e4",
   "metadata": {},
   "outputs": [
    {
     "name": "stdout",
     "output_type": "stream",
     "text": [
      "Price 1 is 3.14\n",
      "Price 2 is -987.65\n",
      "Price 3 is 12.34\n",
      "Price 1 is       3.14\n",
      "Price 2 is    -987.65\n",
      "Price 3 is      12.34\n",
      "Price 1 is 3.14      \n",
      "Price 2 is -987.65   \n",
      "Price 3 is 12.34     \n",
      "Price 1 is    3.14   \n",
      "Price 2 is -987.65000\n",
      "Price 3 is   12.34   \n",
      "Price 1 is      +3.14\n",
      "Price 2 is   -987.650\n",
      "Price 3 is  +12.34000\n",
      "Price 1 is  3.14159\n",
      "Price 2 is -987.65\n",
      "Price 3 is  12.34\n",
      "Price 4 is +10,000,000.99\n"
     ]
    }
   ],
   "source": [
    "price1 = 3.14159\n",
    "price2 = -987.65\n",
    "price3 = 12.34\n",
    "price4 = 10000000.987654\n",
    "\n",
    "print(f\"Price 1 is {price1:.2f}\")\n",
    "print(f\"Price 2 is {price2:.2f}\")\n",
    "print(f\"Price 3 is {price3:.2f}\")\n",
    "\n",
    "# right justify\n",
    "print(f\"Price 1 is {price1:10.2f}\")\n",
    "print(f\"Price 2 is {price2:10}\")\n",
    "print(f\"Price 3 is {price3:10}\")\n",
    "\n",
    "# left justify \n",
    "print(f\"Price 1 is {price1:<10.2f}\")\n",
    "print(f\"Price 2 is {price2:<10}\")\n",
    "print(f\"Price 3 is {price3:<10}\")\n",
    "\n",
    "# center justify\n",
    "print(f\"Price 1 is {price1:^10.2f}\")\n",
    "print(f\"Price 2 is {price2:^10.5f}\")\n",
    "print(f\"Price 3 is {price3:^10}\")\n",
    "\n",
    "\n",
    "# adding plus or negative signs\n",
    "print(f\"Price 1 is {price1:+10.2f}\")\n",
    "print(f\"Price 2 is {price2:+10.3f}\")\n",
    "print(f\"Price 3 is {price3:+10.5f}\")\n",
    "\n",
    "# only a space\n",
    "print(f\"Price 1 is {price1: }\")\n",
    "print(f\"Price 2 is {price2: }\")\n",
    "print(f\"Price 3 is {price3: }\")\n",
    "\n",
    "\n",
    "print(f\"Price 4 is {price4:+,.2f}\")\n",
    "\n"
   ]
  },
  {
   "cell_type": "markdown",
   "id": "4490a793",
   "metadata": {},
   "source": [
    "### 16. while loops"
   ]
  },
  {
   "cell_type": "code",
   "execution_count": null,
   "id": "16853ccb",
   "metadata": {},
   "outputs": [
    {
     "name": "stdout",
     "output_type": "stream",
     "text": [
      "Hello 123\n"
     ]
    },
    {
     "data": {
      "text/plain": [
       "str"
      ]
     },
     "execution_count": 144,
     "metadata": {},
     "output_type": "execute_result"
    }
   ],
   "source": [
    "name = input(\"Enter your name\")\n",
    "\n",
    "while name == \"\":\n",
    "    print(\"You did not enter your name \")\n",
    "    name = input(\"Enter your name\")\n",
    "\n",
    "print(f\"Hello {name}\")"
   ]
  },
  {
   "cell_type": "code",
   "execution_count": 8,
   "id": "adacbfb5",
   "metadata": {},
   "outputs": [
    {
     "name": "stdout",
     "output_type": "stream",
     "text": [
      "age cannot be negative\n",
      "your age is 123\n"
     ]
    }
   ],
   "source": [
    "age = int(input(\"Enter your age\"))\n",
    "\n",
    "while age < 0 :\n",
    "    print(\"age cannot be negative\")\n",
    "    age = int(input(\"Enter your age\"))\n",
    "    \n",
    "print(f\"your age is {age}\")"
   ]
  },
  {
   "cell_type": "code",
   "execution_count": null,
   "id": "ff07816a",
   "metadata": {},
   "outputs": [
    {
     "name": "stdout",
     "output_type": "stream",
     "text": [
      "you like pizza\n",
      "you like james\n",
      "you like lily\n",
      "you like \n",
      "you like \n",
      "bye\n"
     ]
    }
   ],
   "source": [
    "food = input(\"Enter your favourite food\")\n",
    "\n",
    "while not food == \"q\":\n",
    "    print(f\"you like {food}\")\n",
    "    food = input(\"Enter another food you like (press q to quit): \")\n",
    "    \n",
    "print(\"bye\")\n",
    "\n"
   ]
  },
  {
   "cell_type": "code",
   "execution_count": 15,
   "id": "afcd7fa3",
   "metadata": {},
   "outputs": [
    {
     "name": "stdout",
     "output_type": "stream",
     "text": [
      "123 is not valid\n",
      "123 is not valid\n",
      "12312312312312 is not valid\n",
      "your number is 2\n"
     ]
    }
   ],
   "source": [
    "num = int(input(\"Enter number between 1-10:\" ))\n",
    "\n",
    "while num <1 or num > 10:\n",
    "    print(f\"{num } is not valid\")\n",
    "    num = int(input(\"must be in between 1-10\"))\n",
    "    \n",
    "print(f\"your number is {num}\")"
   ]
  },
  {
   "cell_type": "markdown",
   "id": "b7a16585",
   "metadata": {},
   "source": [
    "### 17. compound interest calculator"
   ]
  },
  {
   "cell_type": "code",
   "execution_count": 11,
   "id": "3a1c5497",
   "metadata": {},
   "outputs": [
    {
     "name": "stdout",
     "output_type": "stream",
     "text": [
      "Balance after 1 years: $1.01\n"
     ]
    }
   ],
   "source": [
    "principle = 0\n",
    "rate = 0\n",
    "time = 0 \n",
    "\n",
    "while True:\n",
    "    principle = float(input(\"Enter the principle amount\"))\n",
    "    if principle < 0:\n",
    "        print(\"Principle cant be less than  0 \")\n",
    "    else:\n",
    "        break\n",
    "        \n",
    "        \n",
    "while True:\n",
    "    rate = float(input(\"Enter interest rate: \"))\n",
    "    if rate < 0:\n",
    "        print(\"INterest rate cant be less than0\")\n",
    "    else:\n",
    "        break\n",
    "        \n",
    "while True:\n",
    "    time = int(input(\"Enter time in years\"))\n",
    "    if time < 0:\n",
    "        print(\"time cannot be less than  0\")\n",
    "    else:\n",
    "        break\n",
    "        \n",
    "total = principle * pow((1 + rate /100), time)\n",
    "print(f\"Balance after {time} years: ${total:.2f}\")"
   ]
  },
  {
   "cell_type": "markdown",
   "id": "b9aefd21",
   "metadata": {},
   "source": [
    "### 18. for loop "
   ]
  },
  {
   "cell_type": "code",
   "execution_count": 21,
   "id": "f267b633",
   "metadata": {},
   "outputs": [
    {
     "name": "stdout",
     "output_type": "stream",
     "text": [
      "9\n",
      "7\n",
      "5\n",
      "3\n",
      "1\n",
      "Happy new year\n"
     ]
    }
   ],
   "source": [
    "for x in reversed(range(1, 11, 2)):\n",
    "    print(x)\n",
    "print(\"Happy new year\")"
   ]
  },
  {
   "cell_type": "code",
   "execution_count": 15,
   "id": "7738d871",
   "metadata": {},
   "outputs": [
    {
     "name": "stdout",
     "output_type": "stream",
     "text": [
      "1\n",
      "2\n",
      "3\n",
      "-\n",
      "4\n",
      "5\n",
      "6\n",
      "-\n",
      "7\n",
      "8\n",
      "9\n"
     ]
    }
   ],
   "source": [
    "credit_card = '123-456-789'\n",
    "for x in credit_card:\n",
    "    print(x)"
   ]
  },
  {
   "cell_type": "code",
   "execution_count": 17,
   "id": "9c479cd4",
   "metadata": {},
   "outputs": [
    {
     "name": "stdout",
     "output_type": "stream",
     "text": [
      "1\n",
      "2\n",
      "3\n",
      "4\n",
      "5\n",
      "6\n",
      "7\n",
      "8\n",
      "9\n",
      "10\n",
      "11\n",
      "12\n",
      "14\n",
      "15\n",
      "16\n",
      "17\n",
      "18\n",
      "19\n",
      "20\n"
     ]
    }
   ],
   "source": [
    "for x in range(1, 21):\n",
    "    if x == 13:\n",
    "        continue\n",
    "    print(x)"
   ]
  },
  {
   "cell_type": "code",
   "execution_count": 18,
   "id": "60e05b32",
   "metadata": {},
   "outputs": [
    {
     "name": "stdout",
     "output_type": "stream",
     "text": [
      "1\n",
      "2\n",
      "3\n",
      "4\n",
      "5\n",
      "6\n",
      "7\n",
      "8\n",
      "9\n",
      "10\n",
      "11\n",
      "12\n"
     ]
    }
   ],
   "source": [
    "for x in range(1, 21):\n",
    "    if x == 13:\n",
    "        break\n",
    "    print(x)"
   ]
  },
  {
   "cell_type": "markdown",
   "id": "8c1558a6",
   "metadata": {},
   "source": [
    "### 19. countdown timer"
   ]
  },
  {
   "cell_type": "code",
   "execution_count": 25,
   "id": "cb10449c",
   "metadata": {},
   "outputs": [
    {
     "name": "stdout",
     "output_type": "stream",
     "text": [
      "0\n",
      "1\n",
      "2\n",
      "times up\n"
     ]
    }
   ],
   "source": [
    "import time\n",
    "\n",
    "my_time = int(input(\"Enter the time in seconds: \"))\n",
    "\n",
    "for x in range(0, my_time):\n",
    "    print(x)\n",
    "    time.sleep(1)\n",
    "    \n",
    "print(\"times up\")"
   ]
  },
  {
   "cell_type": "code",
   "execution_count": null,
   "id": "986a906a",
   "metadata": {},
   "outputs": [],
   "source": [
    "for x in range(3600, 0, -1):          ### can also use reversed()\n",
    "    seconds = x % 60\n",
    "    minutes = int(x / 60) % 60\n",
    "    hours = int(x/3600)\n",
    "    \n",
    "    print(f\"{hours:02}:{minutes:02}:{seconds:02}\")        ## display 2 digits, pad it with 0 \n",
    "    time.sleep(1)\n",
    "    \n",
    "print(\"times up\")"
   ]
  },
  {
   "cell_type": "markdown",
   "id": "1cd27c69",
   "metadata": {},
   "source": [
    "### 20. nested loop"
   ]
  },
  {
   "cell_type": "code",
   "execution_count": null,
   "id": "8dcb43dd",
   "metadata": {},
   "outputs": [
    {
     "name": "stdout",
     "output_type": "stream",
     "text": [
      "123456789\n",
      "123456789\n",
      "123456789\n"
     ]
    }
   ],
   "source": [
    "for x in range(0, 3):\n",
    "    for y in range(1, 10):\n",
    "        print(x, end=\"\")\n",
    "    print()"
   ]
  },
  {
   "cell_type": "code",
   "execution_count": 56,
   "id": "571acd23",
   "metadata": {},
   "outputs": [
    {
     "name": "stdout",
     "output_type": "stream",
     "text": [
      "*******\n",
      "*******\n",
      "*******\n"
     ]
    }
   ],
   "source": [
    "rows = int(input(\"Enter number of rows\"))\n",
    "columns = int(input(\"Enter number of columns\"))\n",
    "symbol = input(\"Enter a symbol\")\n",
    "\n",
    "for i in range(0, rows):\n",
    "    for k in range(0, columns):\n",
    "        print(symbol, end=\"\")\n",
    "    print()"
   ]
  },
  {
   "cell_type": "markdown",
   "id": "bb64644a",
   "metadata": {},
   "source": [
    "### 21. list set tuple\n",
    "\n",
    "collection = single 'variable' that stores multiple values\n",
    "1. list = [] ordered and changable. Duplicates OK\n",
    "2. set = {} unordered and immutable. No Duplicates. Can add and remove.\n",
    "3. Tuple = () ordered, unchangeable. Duplicates OK. Faster. CANNOT ADD OR REMOVE elements.. can concantenate/slice but must assign to new varibale"
   ]
  },
  {
   "cell_type": "code",
   "execution_count": 115,
   "id": "1330d421",
   "metadata": {},
   "outputs": [
    {
     "name": "stdout",
     "output_type": "stream",
     "text": [
      "['coconut']\n",
      "apple\n",
      "orange\n",
      "banana\n",
      "coconut\n",
      "['pineapple', 'orange', 'banana', 'coconut']\n",
      "['pineapple', 'orange', 'banana', 'coconut', 'strawberry']\n",
      "['orange', 'banana', 'coconut', 'strawberry']\n",
      "['orange', 'banana', 'kiwi', 'coconut', 'strawberry']\n",
      "['banana', 'coconut', 'kiwi', 'orange', 'strawberry']\n",
      "['strawberry', 'orange', 'kiwi', 'coconut', 'banana']\n",
      "banana\n"
     ]
    }
   ],
   "source": [
    "fruits = [\"apple\", \"orange\", \"banana\", \"coconut\"]\n",
    "\n",
    "fruits2 = fruits[4:2:-1]\n",
    "print(fruits2)\n",
    "\n",
    "for fruit in fruits:\n",
    "    print(fruit)\n",
    "    \n",
    "len(fruits)\n",
    "\n",
    "\"apple\" in fruits\n",
    "\n",
    "fruits[0] = \"pineapple\"\n",
    "print(fruits)\n",
    "\n",
    "fruits.append(\"strawberry\")\n",
    "print(fruits)\n",
    "\n",
    "fruits.remove(\"pineapple\")\n",
    "print(fruits)\n",
    "\n",
    "fruits.insert(2, \"kiwi\")\n",
    "print(fruits)\n",
    "\n",
    "fruits.sort()\n",
    "print(fruits)\n",
    "\n",
    "fruits.reverse()\n",
    "print(fruits)\n",
    "\n",
    "# fruits.clear()\n",
    "fruits.index(\"kiwi\")\n",
    "\n",
    "fruits.count(\"banana\")\n",
    "\n",
    "x = fruits.pop()\n",
    "print(x)"
   ]
  },
  {
   "cell_type": "code",
   "execution_count": 121,
   "id": "0ad16223",
   "metadata": {},
   "outputs": [
    {
     "name": "stdout",
     "output_type": "stream",
     "text": [
      "{'coconut', 'apple'}\n",
      "False\n",
      "{'kiwi', 'coconut', 'apple'}\n",
      "{'kiwi', 'apple'}\n",
      "kiwi\n"
     ]
    }
   ],
   "source": [
    "fruits_set = {\"apple\", \"coconut\", \"coconut\", \"coconut\"}\n",
    "print(fruits_set)\n",
    "\n",
    "print(\"pineapple\" in fruits_set)\n",
    "\n",
    "fruits_set.add(\"kiwi\")\n",
    "print(fruits_set)\n",
    "\n",
    "fruits_set.remove(\"coconut\")\n",
    "print(fruits_set)\n",
    "\n",
    "x = fruits_set.pop()       # not sure which will pop because unordered\n",
    "print(x)\n",
    "\n",
    "## print(fruits_set[0])    error because unordered"
   ]
  },
  {
   "cell_type": "code",
   "execution_count": 137,
   "id": "bb6bcb93",
   "metadata": {},
   "outputs": [
    {
     "name": "stdout",
     "output_type": "stream",
     "text": [
      "1\n",
      "1\n"
     ]
    }
   ],
   "source": [
    "fruits = (\"apple\", \"banana\", \"orange\")\n",
    "print(fruits.index(\"banana\"))\n",
    "print(fruits.count(\"banana\"))"
   ]
  },
  {
   "cell_type": "markdown",
   "id": "dee64d52",
   "metadata": {},
   "source": [
    "### 22. Shopping cart program"
   ]
  },
  {
   "cell_type": "code",
   "execution_count": 170,
   "id": "1d32a806",
   "metadata": {},
   "outputs": [
    {
     "name": "stdout",
     "output_type": "stream",
     "text": [
      "--- Your cart ---\n",
      "pizza      $20.00\n",
      "hotdog     $5.99\n",
      "burger     $7.00\n",
      "--------------\n",
      "Your total is: $ 32.99\n"
     ]
    }
   ],
   "source": [
    "foods = []\n",
    "prices = []\n",
    "total = 0\n",
    "\n",
    "while True:\n",
    "    food = input(\"Enter a food to buy, press 'q' to quit: \")\n",
    "    if food.lower() == \"q\":\n",
    "        break\n",
    "    else:\n",
    "        price = float(input(\"Enter the price of {food}: $\"))\n",
    "        foods.append(food)\n",
    "        prices.append(price)\n",
    "        \n",
    "for price in prices:\n",
    "    total += price\n",
    "        \n",
    "print(\"--- Your cart ---\")\n",
    "\n",
    "for i in range(0, len(foods)):\n",
    "    print(f\"{foods[i]:<10}\", end=\" \")\n",
    "    print(f\"${prices[i]:.2f}\")\n",
    "\n",
    "print('--------------')\n",
    "print (\"Your total is: $\", total)\n",
    "    "
   ]
  },
  {
   "cell_type": "markdown",
   "id": "72302233",
   "metadata": {},
   "source": [
    "### 23 2D collections"
   ]
  },
  {
   "cell_type": "code",
   "execution_count": 185,
   "id": "f34c39a7",
   "metadata": {},
   "outputs": [
    {
     "name": "stdout",
     "output_type": "stream",
     "text": [
      "[['apple', 'coconut', 'banana'], ['celery', 'carrots', 'potatoes'], ['chicken', 'fish', 'turkey']]\n",
      "[['apple', 'banana'], ['celery', 'carrot', 'potato'], ['chicken', 'fish', 'duck']]\n",
      "apple, banana, \n",
      "celery, carrot, potato, \n",
      "chicken, fish, duck, \n"
     ]
    }
   ],
   "source": [
    "fruits = [\"apple\", \"coconut\", \"banana\"]\n",
    "vegetables = [\"celery\", \"carrots\", \"potatoes\"]\n",
    "meats = [\"chicken\", \"fish\", \"turkey\"]\n",
    "\n",
    "groceries = [fruits, vegetables, meats]\n",
    "\n",
    "print(groceries)\n",
    "groceries[0][0]\n",
    "\n",
    "\n",
    "groceries = [[\"apple\", \"banana\"],\n",
    "             [\"celery\", \"carrot\", \"potato\"],\n",
    "             [\"chicken\", \"fish\", \"duck\"]]\n",
    "print(groceries)\n",
    "\n",
    "for food_type in groceries:\n",
    "    for item in food_type:\n",
    "        print(item, end=\", \")\n",
    "    print()"
   ]
  },
  {
   "cell_type": "code",
   "execution_count": 189,
   "id": "b8a93db3",
   "metadata": {},
   "outputs": [
    {
     "name": "stdout",
     "output_type": "stream",
     "text": [
      "1 2 3 \n",
      "4 5 6 \n",
      "7 8 9 \n",
      "* 0 # \n"
     ]
    }
   ],
   "source": [
    "numpad = ((1, 2, 3), \n",
    "          (4, 5, 6),\n",
    "          (7, 8, 9),\n",
    "          (\"*\", 0, \"#\")\n",
    "          )\n",
    "\n",
    "for row in numpad:\n",
    "    for num in row:\n",
    "        print(num, end=\" \")\n",
    "    print()"
   ]
  },
  {
   "cell_type": "markdown",
   "id": "d9752f13",
   "metadata": {},
   "source": [
    "### 24. quiz game"
   ]
  },
  {
   "cell_type": "code",
   "execution_count": null,
   "id": "2c726ff3",
   "metadata": {},
   "outputs": [
    {
     "name": "stdout",
     "output_type": "stream",
     "text": [
      "------------------------------\n",
      "How many elemnts in periodic table?: \n",
      "A. 116\n",
      "B. 117\n",
      "C. 118\n",
      "D. 119\n",
      "-------------------------------\n",
      "Incorrect\n",
      "C is the correct answer !\n",
      "------------------------------\n",
      "Which animal lays the largest eggs?: \n",
      "A. Whale\n",
      "B. Crodocile\n",
      "C. Elephant\n",
      "D. Ostrich\n",
      "-------------------------------\n",
      "Incorrect\n",
      "D is the correct answer !\n",
      "------------------------------\n",
      "WHat is the most abundant gas in earth's atmosphere?: \n",
      "A. Nitrogen\n",
      "B. Oxygen\n",
      "C. CO2\n",
      "D. Hydrogen\n",
      "-------------------------------\n",
      "CORRECT !\n",
      "------------------------------\n",
      "how many bones are there in the human body?: \n",
      "A. 206\n",
      "B. 208 \n",
      "C. 207\n",
      "D. 209\n",
      "-------------------------------\n",
      "CORRECT !\n",
      "------------------------------\n",
      "Which planet in the solar system in the hottest?: \n",
      "A. Mercury\n",
      "B. Venus\n",
      "C. Earth\n",
      "D. Mars\n",
      "-------------------------------\n",
      "Incorrect\n",
      "B is the correct answer !\n",
      "-------------------------------\n",
      "---------- Results  -----------\n",
      "-------------------------------\n",
      "answers: C D A A B \n",
      "guesses: A A A A A \n",
      "Your total score is .... 40.0 /100 !\n"
     ]
    }
   ],
   "source": [
    "questions = (\"How many elemnts in periodic table?: \",\n",
    "            \"Which animal lays the largest eggs?: \",\n",
    "            \"WHat is the most abundant gas in earth's atmosphere?: \",\n",
    "            \"how many bones are there in the human body?: \",\n",
    "            \"Which planet in the solar system in the hottest?: \")\n",
    "\n",
    "options = ((\"A. 116\", \"B. 117\", \"C. 118\", \"D. 119\"),\n",
    "            (\"A. Whale\", \"B. Crodocile\", \"C. Elephant\", \"D. Ostrich\"),\n",
    "            (\"A. Nitrogen\", \"B. Oxygen\", \"C. CO2\", \"D. Hydrogen\"),\n",
    "            (\"A. 206\", \"B. 208 \", \"C. 207\", \"D. 209\"),\n",
    "            (\"A. Mercury\", \"B. Venus\", \"C. Earth\", \"D. Mars\"))\n",
    "\n",
    "answers = (\"C\", \"D\", \"A\", \"A\", \"B\")\n",
    "guesses = []\n",
    "score = 0 \n",
    "question_num = 0\n",
    "\n",
    "for question in questions:\n",
    "    print(\"------------------------------\")\n",
    "    print(question)\n",
    "    for option in options[question_num]:\n",
    "        print(option)\n",
    "    \n",
    "    guess = input(\"Enter A, B, C or D: \").upper()\n",
    "    guesses.append(guess)\n",
    "    print(\"-------------------------------\")\n",
    "    if guess == answers[question_num]:\n",
    "        score += 1\n",
    "        print(\"CORRECT !\")\n",
    "    else:\n",
    "        print(\"Incorrect\")\n",
    "        print(f\"{answers[question_num]} is the correct answer !\")\n",
    "    \n",
    "    question_num += 1\n",
    "\n",
    "print(\"-------------------------------\")\n",
    "print(\"---------- Results  -----------\")\n",
    "print(\"-------------------------------\")\n",
    "\n",
    "print(\"answers: \", end=\"\")\n",
    "for answer in answers:\n",
    "    print(answer, end =\" \")\n",
    "print()\n",
    "\n",
    "print(\"guesses: \", end=\"\")\n",
    "for guess in guesses:\n",
    "    print(guess, end= \" \")\n",
    "print()\n",
    "\n",
    "print(f\"Your total score is .... {score / len(guesses) * 100}/100 !\")"
   ]
  },
  {
   "cell_type": "markdown",
   "id": "09337eb1",
   "metadata": {},
   "source": [
    "### 25. Dictionary "
   ]
  },
  {
   "cell_type": "code",
   "execution_count": 223,
   "id": "36388043",
   "metadata": {},
   "outputs": [
    {
     "name": "stdout",
     "output_type": "stream",
     "text": [
      "not exists\n",
      "{'USA': 'Detroit', 'China': 'beijing', 'Russia': 'moscow', 'Australia': 'Canberra', 'Germany': 'Berlin'}\n",
      "beijing\n",
      "('Germany', 'Berlin')\n",
      "dict_keys(['USA', 'Russia', 'Australia'])\n",
      "USA Russia Australia \n",
      "Detroit moscow Canberra \n",
      "USA Detroit-----Russia moscow-----Australia Canberra-----\n",
      "False\n"
     ]
    }
   ],
   "source": [
    "capitals = {\"USA\" : \"washington dc\",\n",
    "            \"China\": \"beijing\", \n",
    "            \"Russia\": \"moscow\",\n",
    "            \"Australia\": \"Canberra\"}\n",
    "\n",
    "capitals.get(\"USA\")\n",
    "\n",
    "if capitals.get(\"Japan\") :      # return none\n",
    "    print(\"That captial exists\")\n",
    "else:\n",
    "    print(\"not exists\")\n",
    "\n",
    "capitals.update({\"Germany\" : \"Berlin\"})\n",
    "capitals.update({\"USA\" : \"Detroit\"})\n",
    "print(capitals)\n",
    "\n",
    "x = capitals.pop(\"China\")\n",
    "print(x)\n",
    "\n",
    "y = capitals.popitem()\n",
    "print(y)\n",
    "\n",
    "keys = capitals.keys()\n",
    "print(keys)\n",
    "\n",
    "for key in capitals.keys():\n",
    "    print(key, end=\" \")\n",
    "print()\n",
    "    \n",
    "for value in capitals.values():\n",
    "    print(value, end=\" \")\n",
    "print()    \n",
    "\n",
    "for key, value in capitals.items():\n",
    "    print(key, value, end= \"-----\")\n",
    "print()\n",
    "\n",
    "print(\"hello\" in capitals.keys())\n"
   ]
  },
  {
   "cell_type": "markdown",
   "id": "68919bc8",
   "metadata": {},
   "source": [
    "### 26. Movie food menu "
   ]
  },
  {
   "cell_type": "code",
   "execution_count": null,
   "id": "0f1bc266",
   "metadata": {},
   "outputs": [
    {
     "name": "stdout",
     "output_type": "stream",
     "text": [
      "------- Menu ------\n",
      "pizza     : $20.00\n",
      "hamburger : $8.00\n",
      "hotdog    : $3.45\n",
      "chips     : $3.12\n",
      "soda      : $3.00\n",
      "lemonade  : $4.25\n",
      "popcorn   : $8.88\n",
      "fries     : $6.70\n",
      "nuggets   : $5.60\n",
      "-------------------\n",
      "['pizza', 'nuggets', 'pizza', 'fries', 'popcorn']\n",
      "Your total is: $61.18\n"
     ]
    }
   ],
   "source": [
    "menu = {\"pizza\" : 20,\n",
    "        \"hamburger\" : 8,\n",
    "        \"hotdog\": 3.45,\n",
    "        \"chips\" : 3.12,\n",
    "        \"soda\": 3.00,\n",
    "        \"lemonade\" : 4.25,\n",
    "        \"popcorn\": 8.88,\n",
    "        \"fries\": 6.70,\n",
    "        \"nuggets\": 5.60\n",
    "        }\n",
    "\n",
    "cart = []\n",
    "total = 0\n",
    "\n",
    "print(\"------- Menu ------\")\n",
    "for key, value in menu.items():\n",
    "    print(f\"{key:10}: ${value:.2f}\")\n",
    "print(\"-------------------\")\n",
    "    \n",
    "while True:\n",
    "    food = input(\"Please select an item, q to quit\").lower()\n",
    "    if food == 'q':\n",
    "        break\n",
    "    elif menu.get(food) is not None:\n",
    "        cart.append(food)\n",
    "        \n",
    "print(cart)\n",
    "for food in cart:\n",
    "    total += menu.get(food)\n",
    "    \n",
    "print(f\"Your total is: ${total:.2f}\")"
   ]
  },
  {
   "cell_type": "markdown",
   "id": "f90e8fc4",
   "metadata": {},
   "source": [
    "### 27. random numbers"
   ]
  },
  {
   "cell_type": "code",
   "execution_count": 319,
   "id": "568a3220",
   "metadata": {},
   "outputs": [
    {
     "name": "stdout",
     "output_type": "stream",
     "text": [
      "9353.53\n",
      "option is : rock\n",
      "7533.65\n",
      "option is : papers\n",
      "351.58\n",
      "option is : scissors\n",
      "3241.69\n",
      "option is : papers\n",
      "2674.54\n",
      "option is : rock\n",
      "3177.34\n",
      "option is : scissors\n",
      "6034.06\n",
      "option is : rock\n",
      "4941.76\n",
      "option is : papers\n",
      "185.32\n",
      "option is : rock\n",
      "5193.02\n",
      "option is : papers\n",
      "['6', '7', '5', '3', '2', '4']\n"
     ]
    }
   ],
   "source": [
    "import random\n",
    "\n",
    "options = (\"rock\", \"papers\", \"scissors\")\n",
    "cards = [\"2\", \"3\", \"4\", \"5\", \"6\", \"7\"]\n",
    "\n",
    "for i in range (0, 10):\n",
    "    number = round(random.random() * 10000, 2)\n",
    "    option = random.choice(options)\n",
    "    print(f\"{number:.2f}\")\n",
    "    print(f\"option is : {option}\")\n",
    "\n",
    "\n",
    "random.shuffle(cards)\n",
    "print(cards)\n"
   ]
  },
  {
   "cell_type": "markdown",
   "id": "d2e16d09",
   "metadata": {},
   "source": [
    "### 28. number guessing game"
   ]
  },
  {
   "cell_type": "code",
   "execution_count": 4,
   "id": "cacded20",
   "metadata": {},
   "outputs": [
    {
     "name": "stdout",
     "output_type": "stream",
     "text": [
      "Python number guessing game\n",
      "Select a number between 1 and 100\n",
      "---------------------------------------------------------\n",
      "too low! try again\n",
      "too low! try again\n",
      "too high! try again\n",
      "You got the correct number 96!\n"
     ]
    }
   ],
   "source": [
    "import random\n",
    "\n",
    "lowest_num = 1\n",
    "highest_num = 100\n",
    "answer = random.randint(lowest_num, highest_num)\n",
    "guesses_count = 0\n",
    "is_running = True\n",
    "\n",
    "print(\"Python number guessing game\")\n",
    "print(f\"Select a number between {lowest_num} and {highest_num}\")\n",
    "print(\"---------------------------------------------------------\")\n",
    "\n",
    "while is_running:\n",
    "    guess = input(\"Enter your guess: \")\n",
    "    if guess.isdigit():\n",
    "        guess = int(guess)\n",
    "        guesses_count += 1\n",
    "        \n",
    "        if guess < lowest_num or guess > highest_num:\n",
    "            print(\"The number is out of range\")\n",
    "            print(f\"Please select a number between {lowest_num} and {highest_num}\")\n",
    "        elif guess < answer:\n",
    "            print(\"too low! try again\")\n",
    "        elif guess > answer:\n",
    "            print(\"too high! try again\")\n",
    "        else:\n",
    "            print(f\"You got the correct number {answer}!\")\n",
    "            break\n",
    "    else:\n",
    "        print(\"Invalid guess\")\n",
    "        print(f\"Select a number between {lowest_num} and {highest_num}\")"
   ]
  },
  {
   "cell_type": "markdown",
   "id": "9ba7d5e3",
   "metadata": {},
   "source": [
    "### 29. rock paper scissors"
   ]
  },
  {
   "cell_type": "code",
   "execution_count": 22,
   "id": "80526f66",
   "metadata": {},
   "outputs": [
    {
     "name": "stdout",
     "output_type": "stream",
     "text": [
      "Player: rock\n",
      "Computer: paper\n",
      "you lose!\n"
     ]
    }
   ],
   "source": [
    "import random\n",
    "\n",
    "options = (\"rock\", \"paper\", \"scissors\")\n",
    "game_on = \"y\"\n",
    "\n",
    "while game_on == \"y\":\n",
    "    \n",
    "    player = None\n",
    "    computer = random.choice(options)\n",
    "\n",
    "    while player not in options:\n",
    "        player = input(\"Enter a choice (rock, paper, scissors): \")\n",
    "\n",
    "    print(f\"Player: {player}\")\n",
    "    print(f\"Computer: {computer}\")\n",
    "\n",
    "    if player == computer:\n",
    "        print(\"It is a tie\")\n",
    "    elif player == \"rock\" and computer == \"scissors\":\n",
    "        print(\"you win\")\n",
    "    elif player == \"paper\" and computer == \"rock\":\n",
    "        print(\"you win\")\n",
    "    elif player == \"scissors\" and computer == \"paper\":\n",
    "        print(\"you win!\")\n",
    "    else:\n",
    "        print(\"you lose!\")\n",
    "        \n",
    "    game_on = input(\"Do you wanna continue? (y/n)\").lower()"
   ]
  },
  {
   "cell_type": "markdown",
   "id": "938c85f1",
   "metadata": {},
   "source": [
    "### 31 function"
   ]
  },
  {
   "cell_type": "code",
   "execution_count": 28,
   "id": "5dd11097",
   "metadata": {},
   "outputs": [
    {
     "name": "stdout",
     "output_type": "stream",
     "text": [
      "happy birthday Lixing\n",
      "You are 20 years old\n",
      "HAHAHHA\n"
     ]
    }
   ],
   "source": [
    "def happy_bday(name, age):\n",
    "    print(f\"happy birthday {name}\")\n",
    "    print(f\"You are {age} years old\")\n",
    "    print(\"HAHAHHA\")\n",
    "    \n",
    "\n",
    "happy_bday(\"Lixing\", 20)"
   ]
  },
  {
   "cell_type": "code",
   "execution_count": 31,
   "id": "40d3ef71",
   "metadata": {},
   "outputs": [
    {
     "name": "stdout",
     "output_type": "stream",
     "text": [
      "hello Lixing\n",
      "your bill of $1000.46 is due on 01/01\n"
     ]
    }
   ],
   "source": [
    "def display_invoice(username, amount, due_date):\n",
    "    print(f\"hello {username}\")\n",
    "    print(f'your bill of ${amount:.2f} is due on {due_date}')\n",
    "    \n",
    "display_invoice(\"Lixing\", 1000.456, \"01/01\")"
   ]
  },
  {
   "cell_type": "code",
   "execution_count": 35,
   "id": "e53b8d2f",
   "metadata": {},
   "outputs": [
    {
     "name": "stdout",
     "output_type": "stream",
     "text": [
      "9\n",
      "27\n"
     ]
    }
   ],
   "source": [
    "def add(x, y):\n",
    "    z = x + y\n",
    "    return z\n",
    "\n",
    "def multiply(x, y):\n",
    "    z = x * y\n",
    "    return z\n",
    "\n",
    "print(add(4,5))\n",
    "print(multiply(9, 3))"
   ]
  },
  {
   "cell_type": "code",
   "execution_count": 38,
   "id": "6984a56b",
   "metadata": {},
   "outputs": [
    {
     "name": "stdout",
     "output_type": "stream",
     "text": [
      "Lixng Wu\n"
     ]
    }
   ],
   "source": [
    "def create_name(first, last):\n",
    "    first = first.capitalize()\n",
    "    last = last.capitalize()\n",
    "    return first + \" \" + last\n",
    "\n",
    "full_name = create_name(\"lixng\", \"wu\")\n",
    "print(full_name)"
   ]
  },
  {
   "cell_type": "markdown",
   "id": "f51438a8",
   "metadata": {},
   "source": [
    "### 32 default arguments"
   ]
  },
  {
   "cell_type": "code",
   "execution_count": 44,
   "id": "231e1ff1",
   "metadata": {},
   "outputs": [
    {
     "name": "stdout",
     "output_type": "stream",
     "text": [
      "525.0\n"
     ]
    }
   ],
   "source": [
    "def net_price(list_price=99, discount = 0, tax = 0.05):     # default arg must start from behind\n",
    "    return list_price * (1 - discount) * (1 + tax)\n",
    "\n",
    "print(net_price(500))"
   ]
  },
  {
   "cell_type": "code",
   "execution_count": null,
   "id": "8b2788ca",
   "metadata": {},
   "outputs": [
    {
     "name": "stdout",
     "output_type": "stream",
     "text": [
      "5\n",
      "4\n",
      "3\n",
      "2\n",
      "1\n",
      "0\n",
      "done!\n"
     ]
    }
   ],
   "source": [
    "import time\n",
    "\n",
    "def count(start, end):\n",
    "    for x in range(end, start, -1):\n",
    "        print(x)\n",
    "        time.sleep(1)\n",
    "    print(\"done!\")\n",
    "\n",
    "count(0, 5)"
   ]
  },
  {
   "cell_type": "markdown",
   "id": "6689be78",
   "metadata": {},
   "source": [
    "### 33. keyword argument"
   ]
  },
  {
   "cell_type": "code",
   "execution_count": 58,
   "id": "8ad5cbcd",
   "metadata": {},
   "outputs": [
    {
     "name": "stdout",
     "output_type": "stream",
     "text": [
      "hello mr lixing wu\n"
     ]
    }
   ],
   "source": [
    "def hello(greeting, title, first, last):\n",
    "    print(f\"{greeting} {title} {first} {last}\")\n",
    "\n",
    "hello(last=\"wu\", greeting=\"hello\", first=\"lixing\",  title=\"mr\")   # order doesnt matter when using keyword arguments"
   ]
  },
  {
   "cell_type": "code",
   "execution_count": 63,
   "id": "943373eb",
   "metadata": {},
   "outputs": [
    {
     "name": "stdout",
     "output_type": "stream",
     "text": [
      "1 2 3 4 5 6 7 8 9 10 \n",
      "1,2,3\n"
     ]
    }
   ],
   "source": [
    "for x in range(1, 11):\n",
    "    print(x, end=\" \")   # end is also a keyword arg\n",
    "print()\n",
    "    \n",
    "print(\"1\", \"2\", \"3\", sep=\",\")"
   ]
  },
  {
   "cell_type": "code",
   "execution_count": 66,
   "id": "ed236d93",
   "metadata": {},
   "outputs": [
    {
     "name": "stdout",
     "output_type": "stream",
     "text": [
      "1-123-456-7890\n"
     ]
    }
   ],
   "source": [
    "def get_phone(country, area, first, last):\n",
    "    return f\"{country}-{area}-{first}-{last}\"\n",
    "\n",
    "phone_num = get_phone(country = 1, area=123, first=456, last= 7890)\n",
    "print(phone_num)"
   ]
  },
  {
   "cell_type": "markdown",
   "id": "776843ab",
   "metadata": {},
   "source": [
    "### 34. arbitraray arguments (args, kwargs)"
   ]
  },
  {
   "cell_type": "code",
   "execution_count": null,
   "id": "5bf1cf38",
   "metadata": {},
   "outputs": [
    {
     "name": "stdout",
     "output_type": "stream",
     "text": [
      "6\n"
     ]
    }
   ],
   "source": [
    "def add(*args):     # can name it smth else\n",
    "    total = 0\n",
    "    for x in args:\n",
    "        total += x\n",
    "    \n",
    "    return total\n",
    "        \n",
    "\n",
    "print(add(1, 2, 3))"
   ]
  },
  {
   "cell_type": "code",
   "execution_count": 90,
   "id": "2d909c09",
   "metadata": {},
   "outputs": [
    {
     "name": "stdout",
     "output_type": "stream",
     "text": [
      "Lixing vin yo bro \n",
      "this is a\n",
      "this is b\n"
     ]
    }
   ],
   "source": [
    "def display_name(a, *names, b):\n",
    "    for i in names:\n",
    "        print(i, end=\" \")\n",
    "    print()\n",
    "    print(a)\n",
    "    print(b)\n",
    "\n",
    "display_name(\"this is a\", \"Lixing\", \"vin\", 'yo', 'bro', b='this is b')"
   ]
  },
  {
   "cell_type": "code",
   "execution_count": 103,
   "id": "e8dede5b",
   "metadata": {},
   "outputs": [
    {
     "name": "stdout",
     "output_type": "stream",
     "text": [
      "123 woodlands singapore nil 123123 \n",
      "street city state zip \n",
      "street : 123 woodlands***city : singapore***state : nil***zip : 123123***"
     ]
    }
   ],
   "source": [
    "def print_address(**kwargs):\n",
    "    for value in kwargs.values():\n",
    "        print(value, end=\" \")\n",
    "    print()\n",
    "        \n",
    "    for key in kwargs.keys():\n",
    "        print(key, end= \" \" )\n",
    "    print()\n",
    "        \n",
    "    for key, value in kwargs.items():\n",
    "        print(key, \":\", value, end=\"***\")\n",
    "\n",
    "print_address(street=\"123 woodlands\", city=\"singapore\", state=\"nil\", zip=\"123123\")"
   ]
  },
  {
   "cell_type": "code",
   "execution_count": null,
   "id": "89f24cce",
   "metadata": {},
   "outputs": [
    {
     "name": "stdout",
     "output_type": "stream",
     "text": [
      "Dr. spongebob square pants \n",
      "First name is: lixing\n",
      "Last name is: wu\n",
      "Hobby is: basketball\n"
     ]
    }
   ],
   "source": [
    "def shipping_label(*args, **kwargs):        ## kwarg must follow positional arg\n",
    "    for i in args:\n",
    "        print(i, end= \" \")\n",
    "    print()\n",
    "    \n",
    "    if \"hobby\" in kwargs:\n",
    "        print(f\"Hobby is: {kwargs.get('hobby')}\")\n",
    "        \n",
    "    print(f\"First name is: {kwargs.get('fname')}\")\n",
    "    print(f\"Last name is: {kwargs.get('lastname')}\")\n",
    "\n",
    "shipping_label(\"Dr.\", \"spongebob\", \"square\", \"pants\",\n",
    "               fname=\"lixing\",\n",
    "               lastname=\"wu\",\n",
    "               hobby=\"basketball\")\n"
   ]
  },
  {
   "cell_type": "markdown",
   "id": "f01985d6",
   "metadata": {},
   "source": [
    "### 35. iterables\n",
    "objects/collection that can return its elements one at a time"
   ]
  },
  {
   "cell_type": "code",
   "execution_count": null,
   "id": "e36976be",
   "metadata": {},
   "outputs": [],
   "source": [
    "numbers = [1, 2, 3, 4, 5]\n",
    "\n",
    "for num in numbers:\n",
    "    print(num)"
   ]
  },
  {
   "cell_type": "code",
   "execution_count": 120,
   "id": "9c794a01",
   "metadata": {},
   "outputs": [
    {
     "name": "stdout",
     "output_type": "stream",
     "text": [
      "coconut\n",
      "banana\n",
      "apple\n"
     ]
    }
   ],
   "source": [
    "fruits = {\"apple\", \"banana\", \"coconut\"}\n",
    "\n",
    "for item in fruits:\n",
    "    print(item)"
   ]
  },
  {
   "cell_type": "code",
   "execution_count": 119,
   "id": "c226c86b",
   "metadata": {},
   "outputs": [
    {
     "name": "stdout",
     "output_type": "stream",
     "text": [
      "L i x i n g "
     ]
    }
   ],
   "source": [
    "name = \"Lixing\"\n",
    "for char in name:\n",
    "    print(char, end=\" \")"
   ]
  },
  {
   "cell_type": "code",
   "execution_count": null,
   "id": "45aedb5d",
   "metadata": {},
   "outputs": [
    {
     "name": "stdout",
     "output_type": "stream",
     "text": [
      "A B C \n",
      "A B C \n",
      "1 2 3 \n",
      "A 1---------B 2---------C 3---------"
     ]
    }
   ],
   "source": [
    "dictionary = {\"A\": 1, \"B\":2, \"C\":3}\n",
    "\n",
    "for key in dictionary:\n",
    "    print(key, end=\" \")\n",
    "print()\n",
    "    \n",
    "for key in dictionary.keys():\n",
    "    print(key, end=\" \")\n",
    "print()\n",
    "\n",
    "for value in dictionary.values():\n",
    "    print(value, end=\" \")\n",
    "print()\n",
    "\n",
    "for key, value in dictionary.items():\n",
    "    print(key, value, end=\"---------\")\n",
    "    \n"
   ]
  },
  {
   "cell_type": "markdown",
   "id": "53cfecb3",
   "metadata": {},
   "source": [
    "### 36 membership operators"
   ]
  },
  {
   "cell_type": "code",
   "execution_count": 130,
   "id": "bd0a9250",
   "metadata": {},
   "outputs": [
    {
     "name": "stdout",
     "output_type": "stream",
     "text": [
      "There is a A\n"
     ]
    }
   ],
   "source": [
    "word = \"AApple\"\n",
    "\n",
    "letter = input(\"guess a letter in the secre word\")\n",
    "\n",
    "if letter in word:\n",
    "    print(f\"There is a {letter}\")\n",
    "else:\n",
    "    print(f\"{letter} was not found\")"
   ]
  },
  {
   "cell_type": "code",
   "execution_count": 132,
   "id": "5fd4c8f2",
   "metadata": {},
   "outputs": [
    {
     "name": "stdout",
     "output_type": "stream",
     "text": [
      "sandy is a student\n"
     ]
    }
   ],
   "source": [
    "students = {\"sponge bob\", \"patrick\", \"sandy\"}\n",
    "\n",
    "student = input(\"Enter the name of a student\")\n",
    "\n",
    "if student in students:\n",
    "    print(f\"{student} is a student\")\n",
    "else:\n",
    "    print(f\"{student} is not a student\")"
   ]
  },
  {
   "cell_type": "code",
   "execution_count": null,
   "id": "e4172be4",
   "metadata": {},
   "outputs": [
    {
     "name": "stdout",
     "output_type": "stream",
     "text": [
      " is not registered\n",
      "{'sandy': 'A', 'spongebob': 'B', 'patrick': 'C', 'Lixing': 'D'}\n"
     ]
    }
   ],
   "source": [
    "grades = {\"sandy\" : 'A', \n",
    "          \"spongebob\" : \"B\", \n",
    "          \"patrick\": \"C\"}\n",
    "\n",
    "student = input(\"Enter a name of a student: \")\n",
    "\n",
    "if student in grades:\n",
    "    print(f\"{student} has scored a {grades[student]}\")\n",
    "else:\n",
    "    print(f\"{student} is not registered\")\n",
    "    \n",
    "\n"
   ]
  },
  {
   "cell_type": "code",
   "execution_count": null,
   "id": "8f0ad7de",
   "metadata": {},
   "outputs": [
    {
     "name": "stdout",
     "output_type": "stream",
     "text": [
      "{'sandy': 'A', 'spongebob': 'B', 'patrick': 'C', 'Lixing': 'D'}\n",
      "{'sandy': 'A', 'spongebob': 'B', 'patrick': 'C', 'Lixing': 'A'}\n"
     ]
    }
   ],
   "source": [
    "grades = {\"sandy\" : 'A', \n",
    "          \"spongebob\" : \"B\", \n",
    "          \"patrick\": \"C\"}\n",
    "\n",
    "\n",
    "\n",
    "grades[\"Lixing\"] = 'D'\n",
    "print(grades)\n",
    "\n",
    "grades[\"Lixing\"] = 'A'\n",
    "print(grades)"
   ]
  },
  {
   "cell_type": "code",
   "execution_count": 151,
   "id": "5a6a2f36",
   "metadata": {},
   "outputs": [
    {
     "name": "stdout",
     "output_type": "stream",
     "text": [
      "valid email\n"
     ]
    }
   ],
   "source": [
    "email = \"wlxwulixing@gmail.com\"\n",
    "\n",
    "if \"@\" in email and \".\" in email:\n",
    "    print(\"valid email\")\n",
    "else:\n",
    "    print(\"invalid email\")"
   ]
  },
  {
   "cell_type": "markdown",
   "id": "25749b9a",
   "metadata": {},
   "source": [
    "### 37. list comprehension"
   ]
  },
  {
   "cell_type": "code",
   "execution_count": null,
   "id": "d3b16b0a",
   "metadata": {},
   "outputs": [
    {
     "name": "stdout",
     "output_type": "stream",
     "text": [
      "[2, 4, 6, 8, 10, 12, 14, 16, 18, 20]\n",
      "[2, 4, 6, 8, 10, 12, 14, 16, 18, 20, 2, 4, 6, 8, 10, 12, 14, 16, 18, 20]\n"
     ]
    }
   ],
   "source": [
    "# normal list\n",
    "doubles = []\n",
    "for x in range(1, 11):\n",
    "    doubles.append(x * 2)\n",
    "    \n",
    "print(doubles)\n"
   ]
  },
  {
   "cell_type": "code",
   "execution_count": 161,
   "id": "65321402",
   "metadata": {},
   "outputs": [
    {
     "name": "stdout",
     "output_type": "stream",
     "text": [
      "[2, 4, 6, 8, 10, 12, 14, 16, 18, 20]\n",
      "[3, 6, 9, 12, 15, 18, 21, 24, 27, 30]\n",
      "[1, 4, 9, 16, 25, 36, 49, 64, 81, 100]\n"
     ]
    }
   ],
   "source": [
    "##  doubles = [expression for x in range(1, 11)]\n",
    "\n",
    "doubles = [x * 2 for x in range(1, 11)]\n",
    "print(doubles)\n",
    "\n",
    "triples = [y * 3 for y in range(1, 11)]\n",
    "print(triples)\n",
    "\n",
    "squares = [z ** 2 for z in range(1, 11)]\n",
    "print(squares)"
   ]
  },
  {
   "cell_type": "code",
   "execution_count": 172,
   "id": "6e26c378",
   "metadata": {},
   "outputs": [
    {
     "name": "stdout",
     "output_type": "stream",
     "text": [
      "['APPLE', 'KIWI', 'PEACH', 'BANANA']\n",
      "['a', 'k', 'p', 'b']\n"
     ]
    }
   ],
   "source": [
    "fruits = [\"apple\", \"kiwi\", \"peach\", \"banana\"]\n",
    "fruit = [fruit.upper() for fruit in fruits]\n",
    "fruit_character = [fruit[0] for fruit in fruits]\n",
    "print(fruit)\n",
    "print(fruit_character)"
   ]
  },
  {
   "cell_type": "code",
   "execution_count": 187,
   "id": "75bbcf08",
   "metadata": {},
   "outputs": [
    {
     "name": "stdout",
     "output_type": "stream",
     "text": [
      "[1, 3, 5, 6]\n",
      "[-2, -4]\n",
      "[-2, -4, 6]\n",
      "[1, 3, 5]\n"
     ]
    }
   ],
   "source": [
    "numbers = [1, -2, 3, -4, 5, 6]\n",
    "positive_nums = [num for num in numbers if num > 0 ]\n",
    "negative_nums = [num for num in numbers if num < 0]\n",
    "even_numbers = [num for num in numbers if num % 2 == 0]\n",
    "odd_numbers = [num for num in numbers if num % 2 != 0]\n",
    "print(positive_nums)\n",
    "print(negative_nums)\n",
    "print(even_numbers)\n",
    "print(odd_numbers)"
   ]
  },
  {
   "cell_type": "code",
   "execution_count": 190,
   "id": "f92787fe",
   "metadata": {},
   "outputs": [
    {
     "name": "stdout",
     "output_type": "stream",
     "text": [
      "[85, 78, 90]\n"
     ]
    }
   ],
   "source": [
    "grades = [85, 78, 37, 50, 90, 50]\n",
    "passing_grades = [x for x in grades if x >= 60 ]\n",
    "print(passing_grades)"
   ]
  },
  {
   "cell_type": "markdown",
   "id": "91707570",
   "metadata": {},
   "source": [
    "### 38. match-case statement (switch)"
   ]
  },
  {
   "cell_type": "code",
   "execution_count": 194,
   "id": "3a2c0340",
   "metadata": {},
   "outputs": [
    {
     "name": "stdout",
     "output_type": "stream",
     "text": [
      "it is not valid day\n"
     ]
    }
   ],
   "source": [
    "def day_of_week(day):\n",
    "    match day:\n",
    "        case 1:\n",
    "            return \"It is Monday\"\n",
    "        case 2:\n",
    "            return \"It is Tuesday\"\n",
    "        case 3:\n",
    "            return 'It is Wed'\n",
    "        case 4:\n",
    "            return 'it is thurs'\n",
    "        case 5:\n",
    "            return \"it is friday\"\n",
    "        case 6:\n",
    "            return \"it is sat\"\n",
    "        case 7:\n",
    "            return \"it is sun\"\n",
    "        case _: \n",
    "            return \"it is not valid day\"\n",
    "\n",
    "print(day_of_week(10))"
   ]
  },
  {
   "cell_type": "code",
   "execution_count": 196,
   "id": "8a70fce4",
   "metadata": {},
   "outputs": [
    {
     "name": "stdout",
     "output_type": "stream",
     "text": [
      "True\n"
     ]
    }
   ],
   "source": [
    "def is_weekend(day):\n",
    "    match day:\n",
    "        case \"Saturday\" | \"Sunday\":\n",
    "            return True\n",
    "        case \"Monday\" | \"Tuesday\" | \"Wednesday\" | \"Thursday\" | \"Friday\":\n",
    "            return False\n",
    "        case _:\n",
    "            return False\n",
    "        \n",
    "print(is_weekend(\"Saturday\"))\n",
    "        "
   ]
  },
  {
   "cell_type": "markdown",
   "id": "4b0b25e7",
   "metadata": {},
   "source": [
    "### 39. Module"
   ]
  },
  {
   "cell_type": "code",
   "execution_count": 199,
   "id": "5d06fb51",
   "metadata": {},
   "outputs": [
    {
     "name": "stdout",
     "output_type": "stream",
     "text": [
      "3.141592653589793\n"
     ]
    }
   ],
   "source": [
    "import math\n",
    "# from math import e, be careful not to declare a variable named e... else will overwrite\n",
    "\n",
    "print(math.pi)"
   ]
  },
  {
   "cell_type": "code",
   "execution_count": 202,
   "id": "2f8bef83",
   "metadata": {},
   "outputs": [
    {
     "name": "stdout",
     "output_type": "stream",
     "text": [
      "3.14159\n",
      "9\n",
      "27\n",
      "18.849539999999998\n",
      "28.27431\n"
     ]
    }
   ],
   "source": [
    "import example \n",
    "\n",
    "result = example.pi\n",
    "result2 = example.square(3)\n",
    "result3 = example.cube(3)\n",
    "result4 = example.circumference(3)\n",
    "result5 = example.area(3)\n",
    "\n",
    "print(result)\n",
    "print(result2)\n",
    "print(result3)\n",
    "print(result4)\n",
    "print(result5)"
   ]
  },
  {
   "cell_type": "markdown",
   "id": "c11fb136",
   "metadata": {},
   "source": [
    "### 40. Scope resolution\n",
    "\n",
    "variable scope = where a variable is visible and accessible\n",
    "scope resolution = (LEGB) Local --> Enclosed --> Global --> Built in "
   ]
  },
  {
   "cell_type": "code",
   "execution_count": 216,
   "id": "b1547b22",
   "metadata": {},
   "outputs": [
    {
     "name": "stdout",
     "output_type": "stream",
     "text": [
      "2.718281828459045\n",
      "changed value\n",
      "2\n"
     ]
    }
   ],
   "source": [
    "from math import e\n",
    "\n",
    "print(e)\n",
    "\n",
    "x = 3\n",
    "e = \"changed value\"\n",
    "\n",
    "print(e)\n",
    "\n",
    "def func1():\n",
    "    x = 1\n",
    "    \n",
    "    def func2():\n",
    "        x = 2\n",
    "        print(x)\n",
    "        \n",
    "    func2()\n",
    "    \n",
    "func1()\n"
   ]
  },
  {
   "cell_type": "markdown",
   "id": "24d09b01",
   "metadata": {},
   "source": [
    "### 41. if name == main"
   ]
  },
  {
   "cell_type": "code",
   "execution_count": 218,
   "id": "74610d1a",
   "metadata": {},
   "outputs": [
    {
     "name": "stdout",
     "output_type": "stream",
     "text": [
      "hello\n",
      "__main__\n"
     ]
    }
   ],
   "source": [
    "def main():\n",
    "    print(\"hello\")\n",
    "\n",
    "if __name__ == '__main__':\n",
    "    main()\n",
    "    \n",
    "print(__name__)"
   ]
  },
  {
   "cell_type": "markdown",
   "id": "2ea5abc1",
   "metadata": {},
   "source": [
    "### 42. banking program"
   ]
  },
  {
   "cell_type": "code",
   "execution_count": 252,
   "id": "26338f7e",
   "metadata": {},
   "outputs": [
    {
     "name": "stdout",
     "output_type": "stream",
     "text": [
      "----------------------------\n",
      "Banking program\n",
      "1. Show balance\n",
      "2. Deposit\n",
      "3. Withdraw\n",
      "4. Exit\n",
      "----------------------------\n",
      "Your balance is 1000.00\n",
      "----------------------------\n",
      "Banking program\n",
      "1. Show balance\n",
      "2. Deposit\n",
      "3. Withdraw\n",
      "4. Exit\n",
      "----------------------------\n",
      "Amount entered: 200.0\n",
      "Your remaining balance is 1200.00\n",
      "----------------------------\n",
      "Banking program\n",
      "1. Show balance\n",
      "2. Deposit\n",
      "3. Withdraw\n",
      "4. Exit\n",
      "----------------------------\n",
      "Withdrawal successful. Your remaining balance is 1000.00\n",
      "----------------------------\n",
      "Banking program\n",
      "1. Show balance\n",
      "2. Deposit\n",
      "3. Withdraw\n",
      "4. Exit\n",
      "----------------------------\n",
      "Have a nice day\n"
     ]
    }
   ],
   "source": [
    "def show_balance():\n",
    "    print(f\"Your balance is {balance:.2f}\")\n",
    "\n",
    "def deposit():\n",
    "    global balance\n",
    "    amount = input(\"Enter an amount to be deposited: \")\n",
    "\n",
    "    # Try to convert the input to a float\n",
    "    try:\n",
    "        amount = float(amount)  # Convert the input to a float\n",
    "        amount = round(amount, 2)  # Round to 2 decimal places\n",
    "        \n",
    "        # Debugging: Print the amount entered\n",
    "        print(f\"Amount entered: {amount}\")\n",
    "        \n",
    "        # Handle valid positive amounts (deposit)\n",
    "        if amount > 0:\n",
    "            balance += amount\n",
    "            print(f\"Your remaining balance is {balance:.2f}\")\n",
    "        elif amount < 0:\n",
    "            print(\"Invalid amount: Deposits must be positive.\")\n",
    "        else:\n",
    "            print(\"Not a valid amount. Amount cannot be zero.\")\n",
    "\n",
    "    except ValueError:\n",
    "        # Handle invalid input (non-numeric input)\n",
    "        print(\"Not a valid number. Please enter a valid number.\")\n",
    "\n",
    "def withdraw(balance):\n",
    "    amount = float(input(\"Enter amount to be withdrawn: \"))\n",
    "    \n",
    "    if amount > balance:\n",
    "        print(\"Not sufficient funds.\")\n",
    "        return balance\n",
    "    elif amount < 0:\n",
    "        print(\"Amount cannot be less than 0.\")\n",
    "        return balance\n",
    "    else:\n",
    "        balance -= amount\n",
    "        print(f\"Withdrawal successful. Your remaining balance is {balance:.2f}\")\n",
    "        return balance\n",
    "\n",
    "def main():\n",
    "    global balance\n",
    "    balance = 1000\n",
    "    is_running = True\n",
    "\n",
    "    while is_running:\n",
    "        print(\"----------------------------\")\n",
    "        print(\"Banking program\")\n",
    "        print(\"1. Show balance\")\n",
    "        print(\"2. Deposit\")\n",
    "        print(\"3. Withdraw\")\n",
    "        print(\"4. Exit\")\n",
    "        print(\"----------------------------\")\n",
    "        \n",
    "        choice = input(\"Enter your choice (1-4): \")\n",
    "        if choice == '1':\n",
    "            show_balance()\n",
    "        elif choice == '2':\n",
    "            deposit()\n",
    "        elif choice == '3':\n",
    "            balance = withdraw(balance)  # Pass and update balance\n",
    "        elif choice == '4':\n",
    "            is_running = False\n",
    "        else:\n",
    "            print(\"Invalid choice\")\n",
    "            \n",
    "    print(\"Have a nice day\")\n",
    "\n",
    "if __name__ == '__main__':\n",
    "    main()\n"
   ]
  },
  {
   "cell_type": "markdown",
   "id": "ee56aa2b",
   "metadata": {},
   "source": [
    "### 43. python slot machine"
   ]
  },
  {
   "cell_type": "code",
   "execution_count": 269,
   "id": "6f355aca",
   "metadata": {},
   "outputs": [
    {
     "name": "stdout",
     "output_type": "stream",
     "text": [
      "*******************************\n",
      "Welcome to python slots\n",
      "Symbols: 🍒 🍉 🍋 🔔 ⭐\n",
      "*************************************\n",
      "current balance: $100\n",
      "Spinning....\n",
      "\n",
      "*****************\n",
      "⭐ | 🍉 | ⭐\n",
      "*****************\n",
      "Sorry you lost this round\n",
      "*************************************\n",
      "current balance: $99\n",
      "Spinning....\n",
      "\n",
      "*****************\n",
      "🔔 | 🔔 | 🍒\n",
      "*****************\n",
      "Sorry you lost this round\n",
      "*************************************\n",
      "current balance: $98\n",
      "Spinning....\n",
      "\n",
      "*****************\n",
      "⭐ | 🍉 | 🍒\n",
      "*****************\n",
      "Sorry you lost this round\n",
      "*************************************\n",
      "current balance: $97\n",
      "Spinning....\n",
      "\n",
      "*****************\n",
      "🍋 | 🍉 | ⭐\n",
      "*****************\n",
      "Sorry you lost this round\n",
      "*************************************\n",
      "current balance: $96\n",
      "Spinning....\n",
      "\n",
      "*****************\n",
      "🔔 | ⭐ | 🍋\n",
      "*****************\n",
      "Sorry you lost this round\n",
      "*************************************\n",
      "current balance: $95\n",
      "Spinning....\n",
      "\n",
      "*****************\n",
      "🔔 | 🍉 | 🍋\n",
      "*****************\n",
      "Sorry you lost this round\n",
      "*************************************\n",
      "current balance: $94\n",
      "Spinning....\n",
      "\n",
      "*****************\n",
      "🍒 | 🍋 | ⭐\n",
      "*****************\n",
      "Sorry you lost this round\n",
      "*************************************\n",
      "current balance: $93\n",
      "Spinning....\n",
      "\n",
      "*****************\n",
      "⭐ | 🔔 | 🍒\n",
      "*****************\n",
      "Sorry you lost this round\n",
      "*************************************\n",
      "current balance: $92\n",
      "Spinning....\n",
      "\n",
      "*****************\n",
      "🍒 | 🍋 | 🍋\n",
      "*****************\n",
      "Sorry you lost this round\n",
      "*************************************\n",
      "current balance: $91\n",
      "Spinning....\n",
      "\n",
      "*****************\n",
      "🍒 | 🍉 | ⭐\n",
      "*****************\n",
      "Sorry you lost this round\n",
      "*************************************\n",
      "current balance: $90\n",
      "Spinning....\n",
      "\n",
      "*****************\n",
      "⭐ | 🍉 | 🍋\n",
      "*****************\n",
      "Sorry you lost this round\n",
      "*************************************\n",
      "current balance: $89\n",
      "Spinning....\n",
      "\n",
      "*****************\n",
      "🍒 | 🔔 | 🍉\n",
      "*****************\n",
      "Sorry you lost this round\n",
      "*************************************\n",
      "current balance: $88\n",
      "Spinning....\n",
      "\n",
      "*****************\n",
      "🔔 | 🍉 | 🍋\n",
      "*****************\n",
      "Sorry you lost this round\n",
      "*************************************\n",
      "current balance: $87\n",
      "Spinning....\n",
      "\n",
      "*****************\n",
      "🍋 | 🍉 | 🍒\n",
      "*****************\n",
      "Sorry you lost this round\n",
      "*************************************\n",
      "current balance: $86\n",
      "Spinning....\n",
      "\n",
      "*****************\n",
      "⭐ | 🔔 | ⭐\n",
      "*****************\n",
      "Sorry you lost this round\n",
      "*************************************\n",
      "current balance: $85\n",
      "Spinning....\n",
      "\n",
      "*****************\n",
      "🍒 | 🍒 | 🍒\n",
      "*****************\n",
      "You won $3\n",
      "*************************************\n",
      "current balance: $87\n",
      "Spinning....\n",
      "\n",
      "*****************\n",
      "🍋 | 🍉 | 🍉\n",
      "*****************\n",
      "Sorry you lost this round\n",
      "*************************************\n",
      "current balance: $86\n",
      "Spinning....\n",
      "\n",
      "*****************\n",
      "🔔 | ⭐ | 🍉\n",
      "*****************\n",
      "Sorry you lost this round\n",
      "*************************************\n",
      "current balance: $85\n",
      "Spinning....\n",
      "\n",
      "*****************\n",
      "🍒 | 🍋 | 🍋\n",
      "*****************\n",
      "Sorry you lost this round\n",
      "*************************************\n",
      "current balance: $84\n",
      "Spinning....\n",
      "\n",
      "*****************\n",
      "🍋 | 🍋 | 🍒\n",
      "*****************\n",
      "Sorry you lost this round\n",
      "*************************************\n",
      "current balance: $83\n",
      "Spinning....\n",
      "\n",
      "*****************\n",
      "🍉 | 🍋 | 🍒\n",
      "*****************\n",
      "Sorry you lost this round\n",
      "*************************************\n",
      "current balance: $82\n",
      "Spinning....\n",
      "\n",
      "*****************\n",
      "🍒 | 🍋 | ⭐\n",
      "*****************\n",
      "Sorry you lost this round\n",
      "*************************************\n",
      "current balance: $81\n",
      "Spinning....\n",
      "\n",
      "*****************\n",
      "🍋 | 🍒 | ⭐\n",
      "*****************\n",
      "Sorry you lost this round\n",
      "*************************************\n",
      "current balance: $80\n",
      "Spinning....\n",
      "\n",
      "*****************\n",
      "🔔 | 🍒 | ⭐\n",
      "*****************\n",
      "Sorry you lost this round\n",
      "*************************************\n",
      "current balance: $79\n",
      "Spinning....\n",
      "\n",
      "*****************\n",
      "🍒 | 🍉 | ⭐\n",
      "*****************\n",
      "Sorry you lost this round\n",
      "*************************************\n",
      "current balance: $78\n",
      "Spinning....\n",
      "\n",
      "*****************\n",
      "🍋 | ⭐ | 🍉\n",
      "*****************\n",
      "Sorry you lost this round\n",
      "*************************************\n",
      "current balance: $77\n",
      "Spinning....\n",
      "\n",
      "*****************\n",
      "🍋 | 🍒 | 🔔\n",
      "*****************\n",
      "Sorry you lost this round\n",
      "*************************************\n",
      "current balance: $76\n",
      "Spinning....\n",
      "\n",
      "*****************\n",
      "🔔 | 🍉 | 🍒\n",
      "*****************\n",
      "Sorry you lost this round\n",
      "*************************************\n",
      "current balance: $75\n",
      "Spinning....\n",
      "\n",
      "*****************\n",
      "🍒 | 🍉 | 🍋\n",
      "*****************\n",
      "Sorry you lost this round\n",
      "*************************************\n",
      "current balance: $74\n",
      "Spinning....\n",
      "\n",
      "*****************\n",
      "🔔 | 🔔 | 🔔\n",
      "*****************\n",
      "You won $10\n",
      "*************************************\n",
      "current balance: $83\n",
      "Spinning....\n",
      "\n",
      "*****************\n",
      "🍋 | ⭐ | 🍋\n",
      "*****************\n",
      "Sorry you lost this round\n",
      "*************************************\n",
      "current balance: $82\n",
      "Spinning....\n",
      "\n",
      "*****************\n",
      "🍒 | ⭐ | 🔔\n",
      "*****************\n",
      "Sorry you lost this round\n",
      "*************************************\n",
      "current balance: $81\n",
      "Spinning....\n",
      "\n",
      "*****************\n",
      "🍒 | 🍋 | 🍉\n",
      "*****************\n",
      "Sorry you lost this round\n",
      "*************************************\n",
      "current balance: $80\n",
      "Spinning....\n",
      "\n",
      "*****************\n",
      "⭐ | 🔔 | 🔔\n",
      "*****************\n",
      "Sorry you lost this round\n",
      "*************************************\n",
      "current balance: $79\n",
      "Spinning....\n",
      "\n",
      "*****************\n",
      "🍒 | 🔔 | 🍒\n",
      "*****************\n",
      "Sorry you lost this round\n",
      "*************************************\n",
      "current balance: $78\n",
      "Spinning....\n",
      "\n",
      "*****************\n",
      "🍒 | 🔔 | 🍋\n",
      "*****************\n",
      "Sorry you lost this round\n",
      "*************************************\n",
      "current balance: $77\n",
      "Spinning....\n",
      "\n",
      "*****************\n",
      "⭐ | 🔔 | 🍒\n",
      "*****************\n",
      "Sorry you lost this round\n",
      "*************************************\n",
      "current balance: $76\n",
      "Spinning....\n",
      "\n",
      "*****************\n",
      "🍋 | 🍒 | 🍒\n",
      "*****************\n",
      "Sorry you lost this round\n",
      "*************************************\n",
      "current balance: $75\n",
      "Spinning....\n",
      "\n",
      "*****************\n",
      "🍉 | 🍒 | 🍋\n",
      "*****************\n",
      "Sorry you lost this round\n",
      "*************************************\n",
      "current balance: $74\n",
      "Spinning....\n",
      "\n",
      "*****************\n",
      "⭐ | ⭐ | 🔔\n",
      "*****************\n",
      "Sorry you lost this round\n",
      "*************************************\n",
      "current balance: $73\n",
      "Spinning....\n",
      "\n",
      "*****************\n",
      "🍉 | ⭐ | 🍉\n",
      "*****************\n",
      "Sorry you lost this round\n",
      "*************************************\n",
      "current balance: $72\n",
      "Spinning....\n",
      "\n",
      "*****************\n",
      "🍉 | 🍉 | ⭐\n",
      "*****************\n",
      "Sorry you lost this round\n",
      "*************************************\n",
      "current balance: $71\n",
      "Spinning....\n",
      "\n",
      "*****************\n",
      "🍋 | 🔔 | 🍋\n",
      "*****************\n",
      "Sorry you lost this round\n",
      "*************************************\n",
      "current balance: $70\n",
      "Spinning....\n",
      "\n",
      "*****************\n",
      "🍒 | 🍉 | 🔔\n",
      "*****************\n",
      "Sorry you lost this round\n",
      "*************************************\n",
      "current balance: $69\n",
      "Spinning....\n",
      "\n",
      "*****************\n",
      "🍒 | 🔔 | 🍉\n",
      "*****************\n",
      "Sorry you lost this round\n",
      "*************************************\n",
      "current balance: $68\n",
      "Spinning....\n",
      "\n",
      "*****************\n",
      "🍋 | ⭐ | 🔔\n",
      "*****************\n",
      "Sorry you lost this round\n",
      "*************************************\n",
      "current balance: $67\n",
      "Spinning....\n",
      "\n",
      "*****************\n",
      "🍋 | ⭐ | ⭐\n",
      "*****************\n",
      "Sorry you lost this round\n",
      "*************************************\n",
      "current balance: $66\n",
      "Spinning....\n",
      "\n",
      "*****************\n",
      "🍒 | 🔔 | 🍉\n",
      "*****************\n",
      "Sorry you lost this round\n",
      "*************************************\n",
      "current balance: $65\n",
      "Spinning....\n",
      "\n",
      "*****************\n",
      "🍒 | 🍋 | 🔔\n",
      "*****************\n",
      "Sorry you lost this round\n",
      "*************************************\n",
      "current balance: $64\n",
      "Spinning....\n",
      "\n",
      "*****************\n",
      "⭐ | 🔔 | ⭐\n",
      "*****************\n",
      "Sorry you lost this round\n",
      "*************************************\n",
      "current balance: $63\n",
      "Spinning....\n",
      "\n",
      "*****************\n",
      "🔔 | 🍉 | 🍉\n",
      "*****************\n",
      "Sorry you lost this round\n",
      "*************************************\n",
      "current balance: $62\n",
      "Spinning....\n",
      "\n",
      "*****************\n",
      "🔔 | ⭐ | ⭐\n",
      "*****************\n",
      "Sorry you lost this round\n",
      "*************************************\n",
      "current balance: $61\n",
      "Spinning....\n",
      "\n",
      "*****************\n",
      "⭐ | 🔔 | 🍒\n",
      "*****************\n",
      "Sorry you lost this round\n",
      "*************************************\n",
      "current balance: $60\n",
      "Spinning....\n",
      "\n",
      "*****************\n",
      "🍋 | 🍒 | ⭐\n",
      "*****************\n",
      "Sorry you lost this round\n",
      "*************************************\n",
      "current balance: $59\n",
      "Spinning....\n",
      "\n",
      "*****************\n",
      "🍋 | 🔔 | 🍋\n",
      "*****************\n",
      "Sorry you lost this round\n",
      "*************************************\n",
      "current balance: $58\n",
      "Spinning....\n",
      "\n",
      "*****************\n",
      "⭐ | 🍋 | 🔔\n",
      "*****************\n",
      "Sorry you lost this round\n",
      "*************************************\n",
      "current balance: $57\n",
      "Spinning....\n",
      "\n",
      "*****************\n",
      "🍒 | 🍋 | 🔔\n",
      "*****************\n",
      "Sorry you lost this round\n",
      "*************************************\n",
      "current balance: $56\n",
      "Please enter a valid number\n",
      "*************************************\n",
      "current balance: $56\n",
      "Spinning....\n",
      "\n",
      "*****************\n",
      "🔔 | 🍒 | ⭐\n",
      "*****************\n",
      "Sorry you lost this round\n",
      "*************************************\n",
      "current balance: $55\n",
      "Spinning....\n",
      "\n",
      "*****************\n",
      "⭐ | ⭐ | 🍋\n",
      "*****************\n",
      "Sorry you lost this round\n",
      "*************************************\n",
      "current balance: $54\n",
      "Spinning....\n",
      "\n",
      "*****************\n",
      "🍒 | 🍉 | 🍉\n",
      "*****************\n",
      "Sorry you lost this round\n",
      "*************************************\n",
      "current balance: $53\n",
      "Spinning....\n",
      "\n",
      "*****************\n",
      "⭐ | 🍉 | 🔔\n",
      "*****************\n",
      "Sorry you lost this round\n",
      "*************************************\n",
      "current balance: $52\n",
      "Spinning....\n",
      "\n",
      "*****************\n",
      "🍋 | 🍒 | 🍋\n",
      "*****************\n",
      "Sorry you lost this round\n",
      "*************************************\n",
      "current balance: $51\n",
      "Spinning....\n",
      "\n",
      "*****************\n",
      "⭐ | 🍉 | 🍒\n",
      "*****************\n",
      "Sorry you lost this round\n",
      "*************************************\n",
      "current balance: $50\n",
      "Spinning....\n",
      "\n",
      "*****************\n",
      "🍒 | 🍉 | ⭐\n",
      "*****************\n",
      "Sorry you lost this round\n",
      "*************************************\n",
      "current balance: $49\n",
      "Spinning....\n",
      "\n",
      "*****************\n",
      "🍋 | 🔔 | ⭐\n",
      "*****************\n",
      "Sorry you lost this round\n",
      "*************************************\n",
      "current balance: $48\n",
      "Spinning....\n",
      "\n",
      "*****************\n",
      "⭐ | 🍉 | 🍉\n",
      "*****************\n",
      "Sorry you lost this round\n",
      "*************************************\n",
      "current balance: $47\n",
      "Spinning....\n",
      "\n",
      "*****************\n",
      "🍒 | 🍋 | 🍋\n",
      "*****************\n",
      "Sorry you lost this round\n",
      "*************************************\n",
      "current balance: $46\n",
      "Spinning....\n",
      "\n",
      "*****************\n",
      "🍋 | ⭐ | 🍋\n",
      "*****************\n",
      "Sorry you lost this round\n",
      "*************************************\n",
      "current balance: $45\n",
      "Spinning....\n",
      "\n",
      "*****************\n",
      "🔔 | 🍋 | 🍉\n",
      "*****************\n",
      "Sorry you lost this round\n",
      "*************************************\n",
      "current balance: $44\n",
      "Spinning....\n",
      "\n",
      "*****************\n",
      "🍋 | 🍋 | 🔔\n",
      "*****************\n",
      "Sorry you lost this round\n",
      "*************************************\n",
      "current balance: $43\n",
      "Spinning....\n",
      "\n",
      "*****************\n",
      "🍉 | 🍋 | 🍋\n",
      "*****************\n",
      "Sorry you lost this round\n",
      "*************************************\n",
      "current balance: $42\n",
      "Spinning....\n",
      "\n",
      "*****************\n",
      "🍒 | 🍒 | 🔔\n",
      "*****************\n",
      "Sorry you lost this round\n",
      "*************************************\n",
      "current balance: $41\n",
      "Spinning....\n",
      "\n",
      "*****************\n",
      "🍉 | 🔔 | ⭐\n",
      "*****************\n",
      "Sorry you lost this round\n",
      "*************************************\n",
      "current balance: $40\n",
      "Spinning....\n",
      "\n",
      "*****************\n",
      "🔔 | 🍉 | 🍒\n",
      "*****************\n",
      "Sorry you lost this round\n",
      "*************************************\n",
      "current balance: $39\n",
      "Spinning....\n",
      "\n",
      "*****************\n",
      "🍋 | 🍉 | 🔔\n",
      "*****************\n",
      "Sorry you lost this round\n",
      "*************************************\n",
      "current balance: $38\n",
      "Spinning....\n",
      "\n",
      "*****************\n",
      "🍉 | ⭐ | ⭐\n",
      "*****************\n",
      "Sorry you lost this round\n",
      "*************************************\n",
      "current balance: $37\n",
      "Spinning....\n",
      "\n",
      "*****************\n",
      "⭐ | 🍉 | ⭐\n",
      "*****************\n",
      "Sorry you lost this round\n",
      "*************************************\n",
      "current balance: $36\n",
      "Spinning....\n",
      "\n",
      "*****************\n",
      "⭐ | 🔔 | 🍒\n",
      "*****************\n",
      "Sorry you lost this round\n",
      "*************************************\n",
      "current balance: $35\n",
      "Spinning....\n",
      "\n",
      "*****************\n",
      "🍉 | ⭐ | 🍒\n",
      "*****************\n",
      "Sorry you lost this round\n",
      "*************************************\n",
      "current balance: $34\n",
      "Spinning....\n",
      "\n",
      "*****************\n",
      "🍒 | 🍒 | 🍋\n",
      "*****************\n",
      "Sorry you lost this round\n",
      "*************************************\n",
      "current balance: $33\n",
      "Spinning....\n",
      "\n",
      "*****************\n",
      "⭐ | 🔔 | 🍋\n",
      "*****************\n",
      "Sorry you lost this round\n",
      "*************************************\n",
      "current balance: $32\n",
      "Spinning....\n",
      "\n",
      "*****************\n",
      "🔔 | 🍋 | 🍋\n",
      "*****************\n",
      "Sorry you lost this round\n",
      "*************************************\n",
      "current balance: $31\n",
      "Spinning....\n",
      "\n",
      "*****************\n",
      "🍒 | 🔔 | 🍒\n",
      "*****************\n",
      "Sorry you lost this round\n",
      "*************************************\n",
      "current balance: $20\n",
      "Please enter a valid number\n",
      "*************************************\n",
      "current balance: $20\n",
      "Spinning....\n",
      "\n",
      "*****************\n",
      "🍋 | 🍋 | 🍉\n",
      "*****************\n",
      "Sorry you lost this round\n",
      "*************************************\n",
      "current balance: $19\n",
      "Spinning....\n",
      "\n",
      "*****************\n",
      "🍉 | 🍉 | 🔔\n",
      "*****************\n",
      "Sorry you lost this round\n",
      "*************************************\n",
      "current balance: $18\n",
      "Spinning....\n",
      "\n",
      "*****************\n",
      "🍒 | 🔔 | 🔔\n",
      "*****************\n",
      "Sorry you lost this round\n",
      "*************************************\n",
      "current balance: $17\n",
      "Spinning....\n",
      "\n",
      "*****************\n",
      "🍉 | 🍋 | 🍒\n",
      "*****************\n",
      "Sorry you lost this round\n",
      "*************************************\n",
      "current balance: $16\n",
      "Spinning....\n",
      "\n",
      "*****************\n",
      "⭐ | 🔔 | 🍉\n",
      "*****************\n",
      "Sorry you lost this round\n",
      "*************************************\n",
      "current balance: $15\n",
      "Spinning....\n",
      "\n",
      "*****************\n",
      "🔔 | 🍉 | ⭐\n",
      "*****************\n",
      "Sorry you lost this round\n",
      "*************************************\n",
      "current balance: $14\n",
      "Spinning....\n",
      "\n",
      "*****************\n",
      "🔔 | 🔔 | 🍒\n",
      "*****************\n",
      "Sorry you lost this round\n",
      "*************************************\n",
      "current balance: $13\n",
      "Spinning....\n",
      "\n",
      "*****************\n",
      "⭐ | 🍋 | 🔔\n",
      "*****************\n",
      "Sorry you lost this round\n",
      "*************************************\n",
      "current balance: $12\n",
      "Spinning....\n",
      "\n",
      "*****************\n",
      "🍋 | 🔔 | ⭐\n",
      "*****************\n",
      "Sorry you lost this round\n",
      "*************************************\n",
      "current balance: $11\n",
      "Spinning....\n",
      "\n",
      "*****************\n",
      "🍋 | ⭐ | 🔔\n",
      "*****************\n",
      "Sorry you lost this round\n",
      "*************************************\n",
      "current balance: $10\n",
      "Spinning....\n",
      "\n",
      "*****************\n",
      "🍋 | 🍉 | 🍒\n",
      "*****************\n",
      "Sorry you lost this round\n",
      "*************************************\n",
      "current balance: $9\n",
      "Spinning....\n",
      "\n",
      "*****************\n",
      "⭐ | 🔔 | 🍒\n",
      "*****************\n",
      "Sorry you lost this round\n",
      "*************************************\n",
      "current balance: $8\n",
      "Spinning....\n",
      "\n",
      "*****************\n",
      "🍒 | 🔔 | 🍒\n",
      "*****************\n",
      "Sorry you lost this round\n",
      "*************************************\n",
      "current balance: $7\n",
      "Spinning....\n",
      "\n",
      "*****************\n",
      "🍒 | 🍋 | 🍋\n",
      "*****************\n",
      "Sorry you lost this round\n",
      "*************************************\n",
      "current balance: $6\n",
      "Spinning....\n",
      "\n",
      "*****************\n",
      "🍒 | 🍉 | ⭐\n",
      "*****************\n",
      "Sorry you lost this round\n",
      "*************************************\n",
      "current balance: $5\n",
      "Spinning....\n",
      "\n",
      "*****************\n",
      "🔔 | 🔔 | 🔔\n",
      "*****************\n",
      "You won $10\n",
      "*************************************\n",
      "current balance: $14\n",
      "Spinning....\n",
      "\n",
      "*****************\n",
      "⭐ | 🔔 | 🍋\n",
      "*****************\n",
      "Sorry you lost this round\n",
      "*************************************\n",
      "current balance: $13\n",
      "Spinning....\n",
      "\n",
      "*****************\n",
      "🍒 | 🔔 | 🔔\n",
      "*****************\n",
      "Sorry you lost this round\n",
      "*************************************\n",
      "current balance: $12\n",
      "Spinning....\n",
      "\n",
      "*****************\n",
      "⭐ | 🍋 | 🔔\n",
      "*****************\n",
      "Sorry you lost this round\n",
      "*************************************\n",
      "current balance: $11\n",
      "Spinning....\n",
      "\n",
      "*****************\n",
      "🔔 | 🔔 | 🔔\n",
      "*****************\n",
      "You won $10\n",
      "*************************************\n",
      "current balance: $20\n",
      "Spinning....\n",
      "\n",
      "*****************\n",
      "🍋 | 🔔 | 🍒\n",
      "*****************\n",
      "Sorry you lost this round\n",
      "*************************************\n",
      "current balance: $19\n",
      "Spinning....\n",
      "\n",
      "*****************\n",
      "⭐ | 🍒 | 🍉\n",
      "*****************\n",
      "Sorry you lost this round\n",
      "*************************************\n",
      "current balance: $18\n",
      "Spinning....\n",
      "\n",
      "*****************\n",
      "🔔 | 🍉 | 🔔\n",
      "*****************\n",
      "Sorry you lost this round\n",
      "*************************************\n",
      "current balance: $17\n",
      "Spinning....\n",
      "\n",
      "*****************\n",
      "🔔 | 🔔 | 🍒\n",
      "*****************\n",
      "Sorry you lost this round\n",
      "*************************************\n",
      "current balance: $16\n",
      "Spinning....\n",
      "\n",
      "*****************\n",
      "⭐ | 🍋 | 🍋\n",
      "*****************\n",
      "Sorry you lost this round\n",
      "*************************************\n",
      "current balance: $15\n",
      "Spinning....\n",
      "\n",
      "*****************\n",
      "🍋 | 🍉 | 🍋\n",
      "*****************\n",
      "Sorry you lost this round\n",
      "*************************************\n",
      "current balance: $14\n",
      "Spinning....\n",
      "\n",
      "*****************\n",
      "🔔 | ⭐ | 🍉\n",
      "*****************\n",
      "Sorry you lost this round\n",
      "*************************************\n",
      "current balance: $13\n",
      "Spinning....\n",
      "\n",
      "*****************\n",
      "🍒 | 🔔 | 🍋\n",
      "*****************\n",
      "Sorry you lost this round\n",
      "*************************************\n",
      "current balance: $12\n",
      "Spinning....\n",
      "\n",
      "*****************\n",
      "🍒 | 🍋 | ⭐\n",
      "*****************\n",
      "Sorry you lost this round\n",
      "*************************************\n",
      "current balance: $11\n",
      "Spinning....\n",
      "\n",
      "*****************\n",
      "🔔 | 🍋 | 🍋\n",
      "*****************\n",
      "Sorry you lost this round\n",
      "*************************************\n",
      "current balance: $10\n",
      "Spinning....\n",
      "\n",
      "*****************\n",
      "🍉 | 🍉 | 🍋\n",
      "*****************\n",
      "Sorry you lost this round\n",
      "*************************************\n",
      "current balance: $9\n",
      "Spinning....\n",
      "\n",
      "*****************\n",
      "🔔 | 🍉 | 🍉\n",
      "*****************\n",
      "Sorry you lost this round\n",
      "*************************************\n",
      "current balance: $8\n",
      "Spinning....\n",
      "\n",
      "*****************\n",
      "🔔 | 🍋 | 🔔\n",
      "*****************\n",
      "Sorry you lost this round\n",
      "*************************************\n",
      "current balance: $7\n",
      "Spinning....\n",
      "\n",
      "*****************\n",
      "🍋 | ⭐ | ⭐\n",
      "*****************\n",
      "Sorry you lost this round\n",
      "*************************************\n",
      "current balance: $6\n",
      "Spinning....\n",
      "\n",
      "*****************\n",
      "🍒 | ⭐ | 🍉\n",
      "*****************\n",
      "Sorry you lost this round\n",
      "*************************************\n",
      "current balance: $5\n",
      "Spinning....\n",
      "\n",
      "*****************\n",
      "🍉 | 🍒 | 🍋\n",
      "*****************\n",
      "Sorry you lost this round\n",
      "*************************************\n",
      "current balance: $4\n",
      "Spinning....\n",
      "\n",
      "*****************\n",
      "🔔 | ⭐ | ⭐\n",
      "*****************\n",
      "Sorry you lost this round\n",
      "*************************************\n",
      "current balance: $3\n",
      "Spinning....\n",
      "\n",
      "*****************\n",
      "🍒 | 🍋 | 🍋\n",
      "*****************\n",
      "Sorry you lost this round\n",
      "*************************************\n",
      "current balance: $2\n",
      "Spinning....\n",
      "\n",
      "*****************\n",
      "🍋 | 🔔 | 🍒\n",
      "*****************\n",
      "Sorry you lost this round\n",
      "*************************************\n",
      "current balance: $1\n",
      "Insufficient funds\n",
      "*************************************\n",
      "current balance: $1\n",
      "Spinning....\n",
      "\n",
      "*****************\n",
      "⭐ | 🍋 | 🍒\n",
      "*****************\n",
      "Sorry you lost this round\n"
     ]
    }
   ],
   "source": [
    "import random\n",
    "\n",
    "def spin_row():\n",
    "    symbols = ['🍒', '🍉', '🍋', '🔔', '⭐']      # type emoji using windows + ; \n",
    "    \n",
    "    results = [random.choice(symbols) for i in range(3)]\n",
    "    return results\n",
    "    \n",
    "        \n",
    "\n",
    "def print_row(row):\n",
    "    print(\"*****************\")\n",
    "    print(\" | \".join(row))\n",
    "    print(\"*****************\")\n",
    "    \n",
    "def get_payout(row, bet):\n",
    "    \n",
    "    # jackpot = len(set(row)) == 1\n",
    "    \n",
    "    if row[0] == row[1] == row[2]:\n",
    "        if row[0] == '🍒' :\n",
    "            return bet * 3\n",
    "        if row[0] == '🍉' :\n",
    "            return bet * 4\n",
    "        if row[0] == '🍋' :\n",
    "            return bet * 5\n",
    "        if row[0] == '🔔' :\n",
    "            return bet * 10\n",
    "        if row[0] == '⭐' :\n",
    "            return bet * 20\n",
    "            \n",
    "    return 0\n",
    "    \n",
    "\n",
    "def main():\n",
    "    balance = 100\n",
    "    game_on = True\n",
    "    \n",
    "    print(\"*******************************\")\n",
    "    print(\"Welcome to python slots\")\n",
    "    print(\"Symbols: 🍒 🍉 🍋 🔔 ⭐\")\n",
    "    \n",
    "    while balance > 0 and game_on:\n",
    "        \n",
    "        print(\"*************************************\")\n",
    "        print(f\"current balance: ${balance}\")\n",
    "        \n",
    "        bet = input(\"Place your bet amount, (press q to quit): \")\n",
    "        \n",
    "        if bet.lower() == 'q':\n",
    "            game_on == False\n",
    "            break\n",
    "        \n",
    "        if not bet.isdigit():\n",
    "            print(\"Please enter a valid number\")\n",
    "            continue\n",
    "        \n",
    "        bet = int(bet)\n",
    "        if bet > balance:\n",
    "            \n",
    "            print(\"Insufficient funds\")\n",
    "            continue\n",
    "        \n",
    "        if bet <= 0:\n",
    "            print(\"Bet must be more than 0\")\n",
    "            continue\n",
    "        \n",
    "        balance -= bet\n",
    "        \n",
    "        row = spin_row()\n",
    "        print(\"Spinning....\\n\")\n",
    "        print_row(row)\n",
    "        \n",
    "        payout = get_payout(row, bet)\n",
    "        \n",
    "        if payout > 0:\n",
    "            print(f\"You won ${payout}\")\n",
    "        else: \n",
    "            print(\"Sorry you lost this round\")\n",
    "        \n",
    "        balance += payout\n",
    "\n",
    "if __name__ == '__main__':\n",
    "    main()"
   ]
  },
  {
   "cell_type": "markdown",
   "id": "cd8f021b",
   "metadata": {},
   "source": [
    "### 44. encryption game"
   ]
  },
  {
   "cell_type": "code",
   "execution_count": 278,
   "id": "4893c340",
   "metadata": {},
   "outputs": [
    {
     "name": "stdout",
     "output_type": "stream",
     "text": [
      "chars: [' ', '!', '\"', '#', '$', '%', '&', \"'\", '(', ')', '*', '+', ',', '-', '.', '/', ':', ';', '<', '=', '>', '?', '@', '[', '\\\\', ']', '^', '_', '`', '{', '|', '}', '~', '0', '1', '2', '3', '4', '5', '6', '7', '8', '9', 'a', 'b', 'c', 'd', 'e', 'f', 'g', 'h', 'i', 'j', 'k', 'l', 'm', 'n', 'o', 'p', 'q', 'r', 's', 't', 'u', 'v', 'w', 'x', 'y', 'z', 'A', 'B', 'C', 'D', 'E', 'F', 'G', 'H', 'I', 'J', 'K', 'L', 'M', 'N', 'O', 'P', 'Q', 'R', 'S', 'T', 'U', 'V', 'W', 'X', 'Y', 'Z']\n",
      "key  : ['|', '4', '0', '\"', 'm', 'K', '8', '1', 'L', 'D', 'd', '.', 'x', ']', 'N', 'Q', 'z', 'W', 'f', ':', ';', 'S', '9', 'w', 'B', 'P', ')', 'j', 'V', '}', 'E', ' ', '+', '{', 'O', '@', 'n', 'u', '~', '^', 'Z', '!', 'c', '$', 'I', 'J', '`', 'e', 'G', '-', 'R', \"'\", 'g', 'A', '>', 'T', 'i', 'C', 'h', 'F', 'v', '&', 'l', 'b', '7', 's', 'H', 't', '5', '\\\\', '#', '3', 'k', 'y', '*', '?', '_', 'X', '(', 'U', 'Y', '/', 'r', 'o', ',', 'q', '6', 'a', '<', '=', '[', '%', 'p', '2', 'M']\n",
      "original message: hello there\n",
      "encrypted message: Re>>C|lReve\n",
      "encrypted message: Re>>C|lReve\n",
      "original message: hello there\n"
     ]
    }
   ],
   "source": [
    "import random\n",
    "import string\n",
    "\n",
    "chars = \" \" + string.punctuation + string.digits + string.ascii_letters\n",
    "chars = list(chars)\n",
    "\n",
    "key = chars.copy()\n",
    "random.shuffle(key)\n",
    "\n",
    "print(f\"chars: {chars}\")\n",
    "print(f\"key  : {key}\")\n",
    "\n",
    "# encrypt\n",
    "plain_text = input(\"Enter a message to encrypt: \")\n",
    "cipher_text = \"\"\n",
    "\n",
    "for letter in plain_text:\n",
    "    index = chars.index(letter)\n",
    "    cipher_text += key[index]\n",
    "    \n",
    "print(f\"original message: {plain_text}\")\n",
    "print(f\"encrypted message: {cipher_text}\")\n",
    "\n",
    "# decrypt \n",
    "cipher_text = input(\"enter a message to decrypt\")\n",
    "plain_text = \"\"\n",
    "\n",
    "for letter in cipher_text:\n",
    "    index = key.index(letter)\n",
    "    plain_text += chars[index]\n",
    "\n",
    "print(f\"encrypted message: {cipher_text}\")\n",
    "print(f\"original message: {plain_text}\")\n",
    "\n"
   ]
  },
  {
   "cell_type": "markdown",
   "id": "188b9b3b",
   "metadata": {},
   "source": [
    "### 45. Hangman game"
   ]
  },
  {
   "cell_type": "code",
   "execution_count": 3,
   "id": "786c69c2",
   "metadata": {},
   "outputs": [
    {
     "name": "stdout",
     "output_type": "stream",
     "text": [
      "\n",
      "        ---------\n",
      "        |       |\n",
      "                |\n",
      "                |\n",
      "                |\n",
      "                |\n",
      "                |\n",
      "        -----------\n",
      "    \n",
      "_ _ _ _ _ _ _\n"
     ]
    },
    {
     "name": "stdout",
     "output_type": "stream",
     "text": [
      "\n",
      "        ---------\n",
      "        |       |\n",
      "        O       |\n",
      "                |\n",
      "                |\n",
      "                |\n",
      "                |\n",
      "        -----------\n",
      "    \n",
      "_ _ _ _ _ _ _\n",
      "\n",
      "        ---------\n",
      "        |       |\n",
      "        O       |\n",
      "        |       |\n",
      "                |\n",
      "                |\n",
      "                |\n",
      "        -----------\n",
      "    \n",
      "_ _ _ _ _ _ _\n",
      "\n",
      "        ---------\n",
      "        |       |\n",
      "        O       |\n",
      "        |       |\n",
      "                |\n",
      "                |\n",
      "                |\n",
      "        -----------\n",
      "    \n",
      "_ _ _ _ _ _ e\n",
      "\n",
      "        ---------\n",
      "        |       |\n",
      "        O       |\n",
      "        |       |\n",
      "                |\n",
      "                |\n",
      "                |\n",
      "        -----------\n",
      "    \n",
      "_ _ _ a _ _ e\n",
      "\n",
      "        ---------\n",
      "        |       |\n",
      "        O       |\n",
      "        |       |\n",
      "                |\n",
      "                |\n",
      "                |\n",
      "        -----------\n",
      "    \n",
      "_ i _ a _ _ e\n",
      "\n",
      "        ---------\n",
      "        |       |\n",
      "        O       |\n",
      "       /|       |\n",
      "                |\n",
      "                |\n",
      "                |\n",
      "        -----------\n",
      "    \n",
      "_ i _ a _ _ e\n",
      "\n",
      "        ---------\n",
      "        |       |\n",
      "        O       |\n",
      "       /|\\      |\n",
      "                |\n",
      "                |\n",
      "                |\n",
      "        -----------\n",
      "    \n",
      "_ i _ a _ _ e\n",
      "\n",
      "        ---------\n",
      "        |       |\n",
      "        O       |\n",
      "       /|\\      |\n",
      "       /        |\n",
      "                |\n",
      "                |\n",
      "        -----------\n",
      "    \n",
      "_ i _ a _ _ e\n",
      "l is already guessed\n",
      "\n",
      "        ---------\n",
      "        |       |\n",
      "        O       |\n",
      "       /|\\      |\n",
      "       /        |\n",
      "                |\n",
      "                |\n",
      "        -----------\n",
      "    \n",
      "_ i _ a _ _ e\n",
      "\n",
      "        ---------\n",
      "        |       |\n",
      "        O       |\n",
      "       /|\\      |\n",
      "       / \\      |\n",
      "                |\n",
      "                |\n",
      "        -----------\n",
      "    \n",
      "g i r a f f e\n",
      "You lost!\n"
     ]
    }
   ],
   "source": [
    "import random\n",
    "from hangman_words_45 import words\n",
    "\n",
    "hangman_art = {\n",
    "    0: '''\n",
    "        ---------\n",
    "        |       |\n",
    "                |\n",
    "                |\n",
    "                |\n",
    "                |\n",
    "                |\n",
    "        -----------\n",
    "    ''',\n",
    "    1: '''\n",
    "        ---------\n",
    "        |       |\n",
    "        O       |\n",
    "                |\n",
    "                |\n",
    "                |\n",
    "                |\n",
    "        -----------\n",
    "    ''',\n",
    "    2: '''\n",
    "        ---------\n",
    "        |       |\n",
    "        O       |\n",
    "        |       |\n",
    "                |\n",
    "                |\n",
    "                |\n",
    "        -----------\n",
    "    ''',\n",
    "    3: '''\n",
    "        ---------\n",
    "        |       |\n",
    "        O       |\n",
    "       /|       |\n",
    "                |\n",
    "                |\n",
    "                |\n",
    "        -----------\n",
    "    ''',\n",
    "    4: '''\n",
    "        ---------\n",
    "        |       |\n",
    "        O       |\n",
    "       /|\\      |\n",
    "                |\n",
    "                |\n",
    "                |\n",
    "        -----------\n",
    "    ''',\n",
    "    5: '''\n",
    "        ---------\n",
    "        |       |\n",
    "        O       |\n",
    "       /|\\      |\n",
    "       /        |\n",
    "                |\n",
    "                |\n",
    "        -----------\n",
    "    ''',\n",
    "    6: '''\n",
    "        ---------\n",
    "        |       |\n",
    "        O       |\n",
    "       /|\\      |\n",
    "       / \\      |\n",
    "                |\n",
    "                |\n",
    "        -----------\n",
    "    '''\n",
    "}\n",
    "\n",
    "def display_man(wrong_guesses):\n",
    "    print(hangman_art[wrong_guesses])\n",
    "\n",
    "def display_hint(hint):\n",
    "    print(\" \".join(hint))\n",
    "\n",
    "def display_answer(answer):\n",
    "    print(\" \".join(answer))\n",
    "\n",
    "def main():\n",
    "    answer = random.choice(words)\n",
    "\n",
    "    hint = [\"_\"] * len(answer)\n",
    "    wrong_guesses = 0\n",
    "    guessed_letters = set()\n",
    "    is_running = True\n",
    "    \n",
    "    while is_running:\n",
    "        display_man(wrong_guesses)\n",
    "        display_hint(hint)\n",
    "        \n",
    "        guess = input(\"Enter a letter\").lower()\n",
    "        \n",
    "        if len(guess) != 1 or not guess.isalpha():\n",
    "            print(\"invalid input\")\n",
    "            continue\n",
    "        \n",
    "        if guess in guessed_letters:\n",
    "            print(f\"{guess} is already guessed\")\n",
    "            continue\n",
    "        \n",
    "        guessed_letters.add(guess)\n",
    "        \n",
    "        if guess in answer:\n",
    "            for i in range(len(answer)):\n",
    "                if answer[i] == guess:\n",
    "                    hint[i] = guess\n",
    "        else:\n",
    "            wrong_guesses += 1\n",
    "            \n",
    "        if \"_\" not in hint:\n",
    "            display_man(wrong_guesses)\n",
    "            display_answer(answer)\n",
    "            print(\"You win !\")\n",
    "            is_running = False\n",
    "        elif wrong_guesses >= len(hangman_art) -1 :\n",
    "            display_man(wrong_guesses)\n",
    "            display_answer(answer)\n",
    "            print(\"You lost!\")\n",
    "            is_running = False\n",
    "    \n",
    "            \n",
    "                \n",
    "if __name__ == \"__main__\":\n",
    "    main()    \n"
   ]
  },
  {
   "cell_type": "markdown",
   "id": "aec80981",
   "metadata": {},
   "source": [
    "### 46. python oop"
   ]
  },
  {
   "cell_type": "code",
   "execution_count": 9,
   "id": "e5a98259",
   "metadata": {},
   "outputs": [
    {
     "name": "stdout",
     "output_type": "stream",
     "text": [
      "Mustang\n",
      "2024\n",
      "red\n",
      "False\n",
      "2024 red Mustang\n",
      "2025 blue Ferrari\n",
      "2026 yellow Charger\n"
     ]
    }
   ],
   "source": [
    "class Car:\n",
    "    def __init__(self, model, year, color, for_sale):\n",
    "        self.model = model\n",
    "        self.year = year\n",
    "        self.color = color\n",
    "        self.for_sale = for_sale\n",
    "        \n",
    "    def drive(self):\n",
    "        print(f\"you drive the {self.color} {self.model}\")\n",
    "        \n",
    "    def stop(self):\n",
    "        print(f\"you stopped driving the {self.color} {self.model}\")\n",
    "        \n",
    "    def describe(self):\n",
    "        print(f\"{self.year} {self.color} {self.model}\")\n",
    "\n",
    "car1 = Car(\"Mustang\", 2024, \"red\", False) \n",
    "car2 = Car(\"Ferrari\", 2025, \"blue\", True)\n",
    "car3 = Car(\"Charger\", 2026, \"yellow\", True)\n",
    "\n",
    "# Print the details for each car\n",
    "print(car1.model)       \n",
    "print(car1.year)\n",
    "print(car1.color)\n",
    "print(car1.for_sale)\n",
    "\n",
    "car1.describe()\n",
    "car2.describe()\n",
    "car3.describe()"
   ]
  },
  {
   "cell_type": "markdown",
   "id": "7f9d3138",
   "metadata": {},
   "source": [
    "### 47. class variables/ static variables"
   ]
  },
  {
   "cell_type": "code",
   "execution_count": 14,
   "id": "a01ebff3",
   "metadata": {},
   "outputs": [
    {
     "name": "stdout",
     "output_type": "stream",
     "text": [
      "Spongbob\n",
      "Patrick\n",
      "2024\n",
      "2024\n",
      "2024\n",
      "3\n"
     ]
    }
   ],
   "source": [
    "class Student:\n",
    "    \n",
    "    class_year = 2024\n",
    "    num_students = 0\n",
    "    \n",
    "    def __init__(self, name, age):\n",
    "        self.name = name\n",
    "        self.age = age\n",
    "        Student.num_students += 1\n",
    "\n",
    "student1 = Student(\"Spongbob\", 30)\n",
    "student2 = Student(\"Patrick\", 24)\n",
    "student3 = Student(\"Sandy\", 20)\n",
    "\n",
    "print(student1.name)\n",
    "print(student2.name)\n",
    "\n",
    "print(student1.class_year)\n",
    "print(student2.class_year)\n",
    "print(Student.class_year)   # better to do this, more explicit\n",
    "print(Student.num_students)"
   ]
  },
  {
   "cell_type": "markdown",
   "id": "111c53ca",
   "metadata": {},
   "source": [
    "### 48. inheritance"
   ]
  },
  {
   "cell_type": "code",
   "execution_count": null,
   "id": "d1889c96",
   "metadata": {},
   "outputs": [
    {
     "name": "stdout",
     "output_type": "stream",
     "text": [
      "Scooby is eating\n",
      "Scooby is sleeping\n",
      "wolf\n",
      "eek\n"
     ]
    }
   ],
   "source": [
    "class Animal:\n",
    "    def __init__(self, name):\n",
    "        self.name = name\n",
    "        self.is_alive = True\n",
    "        \n",
    "    def eat(self):\n",
    "        print(f\"{self.name} is eating\")\n",
    "        \n",
    "    def sleep(self):\n",
    "        print(f\"{self.name} is sleeping\")\n",
    "\n",
    "class Dog(Animal):\n",
    "    def speak(self):\n",
    "        print(\"wolf\")\n",
    "\n",
    "class Cat(Animal):\n",
    "    def speak(self):\n",
    "        print(\"meow\")\n",
    "\n",
    "class Mouse(Animal):\n",
    "    def speak(self):\n",
    "        print(\"eek\")\n",
    "\n",
    "dog = Dog(\"Scooby\")\n",
    "cat = Cat(\"mimi\")\n",
    "mouse = Mouse(\"cheow\")\n",
    "\n",
    "dog.eat()\n",
    "dog.sleep()\n",
    "dog.speak()\n",
    "mouse.speak()"
   ]
  },
  {
   "cell_type": "markdown",
   "id": "ed69f058",
   "metadata": {},
   "source": [
    "### 49. multiple inheritance"
   ]
  },
  {
   "cell_type": "code",
   "execution_count": 34,
   "id": "e55d3eed",
   "metadata": {},
   "outputs": [
    {
     "name": "stdout",
     "output_type": "stream",
     "text": [
      "This Rabbit is fleeing\n",
      "This fish is hunting\n",
      "This fish is fleeing\n",
      "This Rabbit is eating\n",
      "This Rabbit is sleeping\n"
     ]
    }
   ],
   "source": [
    "class Animal:\n",
    "    def __init__(self, name):\n",
    "        self.name = name\n",
    "    \n",
    "    def eat(self):\n",
    "        print(f\"This {self.name} is eating\")\n",
    "        \n",
    "    def sleep(self):\n",
    "        print(f\"This {self.name} is sleeping\")\n",
    "        \n",
    "class Prey(Animal):\n",
    "    def flee(self):\n",
    "        print(f\"This {self.name} is fleeing\")\n",
    "\n",
    "class Predator(Animal):\n",
    "    def hunt(self):\n",
    "        print(f\"This {self.name} is hunting\")\n",
    "\n",
    "class Rabbit(Prey):\n",
    "    pass\n",
    "\n",
    "class Hawk(Predator):\n",
    "    pass\n",
    "\n",
    "class Fish(Prey, Predator):\n",
    "    pass\n",
    "\n",
    "rabbit = Rabbit(rabbit.__class__.__name__)\n",
    "hawk = Hawk(\"hawk\")\n",
    "fish = Fish(\"fish\")\n",
    "\n",
    "rabbit.flee()\n",
    "fish.hunt()\n",
    "fish.flee()\n",
    "rabbit.eat()\n",
    "rabbit.sleep()"
   ]
  },
  {
   "cell_type": "markdown",
   "id": "0cc20dd1",
   "metadata": {},
   "source": [
    "### 50. super()"
   ]
  },
  {
   "cell_type": "code",
   "execution_count": 58,
   "id": "6a826b34",
   "metadata": {},
   "outputs": [
    {
     "name": "stdout",
     "output_type": "stream",
     "text": [
      "It is blue and not filled \n",
      "It is a square and area of 25\n",
      "--------------------------------\n",
      "It is red and filled \n",
      "It is a circle with a area of 78.5\n",
      "--------------------------------\n",
      "It is yellow and filled \n",
      "It is a triangle and area of 20.0\n",
      "--------------------------------\n"
     ]
    }
   ],
   "source": [
    "\n",
    "class Shape:\n",
    "    def __init__(self, color, filled):\n",
    "        self.color = color\n",
    "        self.filled = filled\n",
    "        \n",
    "    def describe(self):\n",
    "        print(f\"It is {self.color} and {'filled' if self.filled else 'not filled'} \")\n",
    "\n",
    "class Circle(Shape):\n",
    "    def __init__(self, color, filled, radius):\n",
    "        super().__init__(color, filled)\n",
    "        self.radius = radius\n",
    "    \n",
    "    ## overriding \n",
    "    def describe(self):\n",
    "        super().describe()\n",
    "        print(f\"It is a circle with a area of {3.14 * self.radius ** 2}\")\n",
    "        \n",
    "\n",
    "class Square(Shape):\n",
    "    def __init__(self, color, filled, width):\n",
    "        Shape.__init__(self, color, filled)     # can do this but need 'self' also\n",
    "        self.width = width\n",
    "        \n",
    "    def describe(self):\n",
    "        super().describe()\n",
    "        print(f\"It is a square and area of {self.width * self.width}\")\n",
    "\n",
    "class Triangle(Shape):\n",
    "    def __init__(self, color, filled, width, height):\n",
    "        super().__init__(color, filled)\n",
    "        self.width = width\n",
    "        self.height = height\n",
    "    \n",
    "    def describe(self):\n",
    "        super().describe()\n",
    "        print(f\"It is a triangle and area of {0.5 * self.width * self.height}\")\n",
    "        \n",
    "        \n",
    "circle = Circle(color=\"red\", filled=True, radius=5)\n",
    "square = Square(color=\"blue\", filled=False, width=5)\n",
    "triangle = Triangle(color=\"yellow\", filled=True, width=5, height=8)\n",
    "\n",
    "\n",
    "square.describe()\n",
    "print(\"--------------------------------\")\n",
    "circle.describe()\n",
    "print(\"--------------------------------\")\n",
    "triangle.describe()\n",
    "print(\"--------------------------------\")\n"
   ]
  },
  {
   "cell_type": "markdown",
   "id": "509adf94",
   "metadata": {},
   "source": [
    "### 51. Polymorphism\n",
    "poly = Many\n",
    "morphe = Form\n",
    "\n",
    "Two ways to achieve:\n",
    "1. inheritance: an object is trated of the same type as a parent class\n",
    "2. duck typing = object must have necessary attributes/methods"
   ]
  },
  {
   "cell_type": "code",
   "execution_count": null,
   "id": "d71a0b06",
   "metadata": {},
   "outputs": [
    {
     "name": "stdout",
     "output_type": "stream",
     "text": [
      "50.24\n",
      "25\n",
      "21.0\n",
      "153.86\n"
     ]
    }
   ],
   "source": [
    "from abc import ABC, abstractmethod\n",
    "\n",
    "class Shape(ABC):\n",
    "    \n",
    "    @abstractmethod\n",
    "    def area(self):\n",
    "        pass\n",
    "\n",
    "class Circle(Shape):\n",
    "    def __init__(self, radius):\n",
    "        self.radius = radius\n",
    "        \n",
    "    def area(self):\n",
    "        return 3.14 * self.radius ** 2\n",
    "\n",
    "class Square(Shape):\n",
    "    def __init__(self, width):\n",
    "        self.width = width\n",
    "        \n",
    "    def area(self):\n",
    "        return self.width * self.width\n",
    "\n",
    "class Triangle(Shape):\n",
    "    def __init__(self, width, height):\n",
    "        self.width = width\n",
    "        self.height = height\n",
    "        \n",
    "    def area(self):\n",
    "        return 0.5 * self.width * self.height\n",
    "    \n",
    "class Pizza(Circle):\n",
    "    def __init__(self, topping, radius):\n",
    "        super().__init__(radius)\n",
    "        self.topping = topping\n",
    "        \n",
    "        \n",
    "        \n",
    "\n",
    "shapes = [Circle(4), Square(5), Triangle(6, 7), Pizza(\"Pepperoni\", 7)]   ## each of these has 2 forms, a shape & a circle, a shape & a square, a shape & a triangle\n",
    "\n",
    "for shape in shapes:\n",
    "    print(shape.area())"
   ]
  },
  {
   "cell_type": "markdown",
   "id": "11c8bda2",
   "metadata": {},
   "source": [
    "### 52. Duck typing\n",
    "\n",
    "obejcts must have min necessary attributes/methods\n",
    "if it looks like a duck and quacks like a duck, it is a duck"
   ]
  },
  {
   "cell_type": "code",
   "execution_count": null,
   "id": "a4fadb52",
   "metadata": {},
   "outputs": [
    {
     "name": "stdout",
     "output_type": "stream",
     "text": [
      "Wolff\n",
      "True\n",
      "meow\n",
      "True\n",
      "honk!\n",
      "False\n"
     ]
    }
   ],
   "source": [
    "class Animal:\n",
    "    alive = True\n",
    "    \n",
    "class Dog(Animal):\n",
    "    def speak(self):\n",
    "        print(\"Wolff\")\n",
    "        \n",
    "class Cat(Animal):\n",
    "    def speak(self):\n",
    "        print(\"meow\")\n",
    "\n",
    "class Car:\n",
    "    alive = False\n",
    "    def speak(self):\n",
    "        print(\"honk!\")\n",
    "        \n",
    "animals = [Dog(), Cat(), Car()] # car meet minimal attributes/methods to be considered animal\n",
    "\n",
    "for animal in animals:\n",
    "    animal.speak()\n",
    "    print(animal.alive)"
   ]
  },
  {
   "cell_type": "markdown",
   "id": "be24c160",
   "metadata": {},
   "source": [
    "### 53. static methods"
   ]
  },
  {
   "cell_type": "code",
   "execution_count": 77,
   "id": "c262e284",
   "metadata": {},
   "outputs": [
    {
     "name": "stdout",
     "output_type": "stream",
     "text": [
      "False\n",
      "John = Manager\n",
      "Lixing = Cashier\n",
      "Spongebob = Cook\n"
     ]
    }
   ],
   "source": [
    "class Employee:\n",
    "    def __init__(self, name, position):\n",
    "        self.name = name\n",
    "        self.position = position\n",
    "        \n",
    "    def get_info(self):\n",
    "        return f\"{self.name} = {self.position}\"\n",
    "    \n",
    "    @staticmethod\n",
    "    def is_valid_position(position):\n",
    "        valid_positions = [\"Manager\", \"Cashier\", \"Cook\", \"Janitor\"]\n",
    "        return position in valid_positions\n",
    "    \n",
    "e1 = Employee(\"John\", \"Manager\")\n",
    "e2 = Employee(\"Lixing\", \"Cashier\")\n",
    "e3 = Employee(\"Spongebob\", \"Cook\")\n",
    "\n",
    "print(Employee.is_valid_position(\"Rocket Scientist\"))\n",
    "print(e1.get_info())\n",
    "print(e2.get_info())\n",
    "print(e3.get_info())\n"
   ]
  },
  {
   "cell_type": "markdown",
   "id": "1fa31f75",
   "metadata": {},
   "source": [
    "### 54 class methods\n"
   ]
  },
  {
   "cell_type": "code",
   "execution_count": null,
   "id": "60ce609c",
   "metadata": {},
   "outputs": [
    {
     "name": "stdout",
     "output_type": "stream",
     "text": [
      "Total no. of students: 3\n",
      "Average GPA: 3.17\n"
     ]
    }
   ],
   "source": [
    "class Student:\n",
    "    count = 0\n",
    "    total_gpa = 0\n",
    "    \n",
    "    def __init__(self, name, gpa):\n",
    "        self.name = name\n",
    "        self.gpa = gpa\n",
    "        Student.count += 1\n",
    "        Student.total_gpa += gpa\n",
    "        \n",
    "    # Instance method\n",
    "    def get_info(self):\n",
    "        return f\"{self.name} {self.gpa}\"\n",
    "    \n",
    "    @classmethod\n",
    "    def get_count(cls):\n",
    "        return f\"Total no. of students: {cls.count}\"\n",
    "    \n",
    "    @classmethod\n",
    "    def get_average_gpa(cls):\n",
    "        if cls.count == 0:\n",
    "            return 0\n",
    "        else:\n",
    "            return f\"Average GPA: {cls.total_gpa / cls.count:.2f}\"  # static methods need to use className\n",
    "\n",
    "# Creating instances of Student\n",
    "s1 = Student(\"Lixing\", 3.2)\n",
    "s2 = Student(\"Patrick\", 3.5)\n",
    "s3 = Student(\"Sandy\", 2.8)\n",
    "\n",
    "# Output the total count and average GPA\n",
    "print(Student.get_count()) \n",
    "print(Student.get_average_gpa())  \n"
   ]
  },
  {
   "cell_type": "markdown",
   "id": "59bf3d1c",
   "metadata": {},
   "source": [
    "### 55. Magic methods/dunder methods\n",
    "python's built in operations"
   ]
  },
  {
   "cell_type": "code",
   "execution_count": 117,
   "id": "b570805d",
   "metadata": {},
   "outputs": [
    {
     "name": "stdout",
     "output_type": "stream",
     "text": [
      "'the hobbit' by Jrr tolkien\n",
      "'Harry potter and stone' by Jk rowling\n",
      "'The lion, with and wardrobe' by CS Lewish\n",
      "True\n",
      "False\n",
      "True\n",
      "total pages in Harry potter and stone and The lion, with and wardrobe is 396\n",
      "True\n",
      "310\n"
     ]
    }
   ],
   "source": [
    "import copy \n",
    "\n",
    "class Book:\n",
    "    def __init__(self, title, author, num_pages):\n",
    "        self.title = title\n",
    "        self.author = author\n",
    "        self.num_pages = num_pages\n",
    "        \n",
    "    def __str__(self):\n",
    "        return f\"'{self.title}' by {self.author}\"\n",
    "    \n",
    "    def __eq__(self, other):\n",
    "        return self.title == other.title and \\\n",
    "                self.author == other.author and \\\n",
    "                self.num_pages == other.num_pages\n",
    "    \n",
    "    def __lt__(self, other):\n",
    "        return self.num_pages < other.num_pages\n",
    "    \n",
    "    def __gt__(self, other):\n",
    "        return self.num_pages > other.num_pages\n",
    "    \n",
    "    def __add__(self, other):\n",
    "        return f\"total pages in {self.title} and {other.title} is {self.num_pages + other.num_pages}\"\n",
    "    \n",
    "    def __contains__(self, keyword):\n",
    "        return keyword in self.title or keyword in self.author\n",
    "    \n",
    "    def __getitem__(self, key):\n",
    "        if key == \"title\":\n",
    "            return self.title\n",
    "        elif key == \"author\":\n",
    "            return self.author\n",
    "        elif key == \"num_pages\":\n",
    "            return self.num_pages\n",
    "        else:\n",
    "            return f\"key {key} was not found\"\n",
    "            \n",
    "\n",
    "        \n",
    "book1 = Book(\"the hobbit\", \"Jrr tolkien\", 310)\n",
    "book2 = Book(\"Harry potter and stone\", \"Jk rowling\", 224)\n",
    "book3 = Book(\"The lion, with and wardrobe\", \"CS Lewish\", 172)\n",
    "book4 = copy.copy(book3)\n",
    "\n",
    "print(book1)\n",
    "print(book2)\n",
    "print(book3)\n",
    "\n",
    "print(book3 == book4)\n",
    "print(book2 < book3)\n",
    "print(book2 > book3)\n",
    "\n",
    "print(book2 + book3)\n",
    "print(\"rowling\" in book2)\n",
    "\n",
    "print(book1[\"num_pages\"])"
   ]
  },
  {
   "cell_type": "markdown",
   "id": "0b2f9022",
   "metadata": {},
   "source": [
    "### 56. Property decorator"
   ]
  },
  {
   "cell_type": "code",
   "execution_count": 5,
   "id": "f2532bf0",
   "metadata": {},
   "outputs": [
    {
     "name": "stdout",
     "output_type": "stream",
     "text": [
      "100.0 cm\n",
      "200.0 cm\n",
      "width has been deleted!\n",
      "height has been deleted!\n"
     ]
    }
   ],
   "source": [
    "class Rectangle:\n",
    "    def __init__(self, width, height):\n",
    "        self._width = width\n",
    "        self._height = height\n",
    "    \n",
    "    @property\n",
    "    def width(self):\n",
    "        return f\"{self._width:.1f} cm\"\n",
    "    \n",
    "    @property\n",
    "    def height(self):\n",
    "        return f\"{self._height:.1f} cm\"\n",
    "    \n",
    "    @width.setter\n",
    "    def width(self, new_width):\n",
    "        if new_width > 0:\n",
    "            self._width = new_width\n",
    "        else:\n",
    "            print(\"width must be > 0\")\n",
    "            \n",
    "    @height.setter\n",
    "    def height(self, new_height):\n",
    "        if new_height > 0:\n",
    "            self._height = new_height\n",
    "        else:\n",
    "            print(\"height must be > 0\")\n",
    "            \n",
    "    @width.deleter\n",
    "    def width(self):\n",
    "        del self._width\n",
    "        print(\"width has been deleted!\")\n",
    "        \n",
    "    @height.deleter\n",
    "    def height(self):\n",
    "        del self._height\n",
    "        print(\"height has been deleted!\")\n",
    "        \n",
    "rectangle = Rectangle(3, 4)\n",
    "rectangle.width = 100\n",
    "rectangle.height = 200\n",
    "\n",
    "print(rectangle.width)  # can call the variable without using the method name\n",
    "print(rectangle.height)\n",
    "\n",
    "del rectangle.width\n",
    "del rectangle.height\n"
   ]
  },
  {
   "cell_type": "markdown",
   "id": "530ab88d",
   "metadata": {},
   "source": [
    "### 57. decorators"
   ]
  },
  {
   "cell_type": "code",
   "execution_count": null,
   "id": "7fb2f135",
   "metadata": {},
   "outputs": [
    {
     "name": "stdout",
     "output_type": "stream",
     "text": [
      "You and fudge\n",
      "Add sprinkles\n",
      "Here is your Vanilla ice cream\n"
     ]
    }
   ],
   "source": [
    "def add_sprinkles(func):\n",
    "    def wrapper(*args, **kwargs):   ## passing arg to get_ice_cream must have args and kwargs\n",
    "        print(\"Add sprinkles\")\n",
    "        func(*args, **kwargs)\n",
    "    return wrapper\n",
    "\n",
    "def add_fudge(func):\n",
    "    def wrapper(*args, **kwargs):\n",
    "        print(\"You and fudge\")\n",
    "        func(*args, **kwargs)\n",
    "    return wrapper\n",
    "\n",
    "@add_fudge\n",
    "@add_sprinkles\n",
    "def get_ice_cream(flavor):\n",
    "    print(f\"Here is your {flavor} ice cream\")\n",
    "    \n",
    "get_ice_cream(\"Vanilla\")"
   ]
  },
  {
   "cell_type": "markdown",
   "id": "82980bdb",
   "metadata": {},
   "source": [
    "### 58. exception handling"
   ]
  },
  {
   "cell_type": "code",
   "execution_count": 20,
   "id": "409a746d",
   "metadata": {},
   "outputs": [
    {
     "name": "stdout",
     "output_type": "stream",
     "text": [
      "Enter only numbers !\n",
      "Do some clean ups!\n"
     ]
    }
   ],
   "source": [
    "try:\n",
    "    number = int(input(\"Enter a number:\"))\n",
    "    print(1 / number)\n",
    "except ZeroDivisionError:\n",
    "    print(\"Cannot divide by 0\")\n",
    "except ValueError:\n",
    "    print(\"Enter only numbers !\")\n",
    "except Exception:\n",
    "    print(\"Something went wrong!\")\n",
    "finally:\n",
    "    print(\"Do some clean ups!\")"
   ]
  },
  {
   "cell_type": "code",
   "execution_count": null,
   "id": "c7847b28",
   "metadata": {},
   "outputs": [],
   "source": []
  }
 ],
 "metadata": {
  "kernelspec": {
   "display_name": "python_practice",
   "language": "python",
   "name": "python3"
  },
  "language_info": {
   "codemirror_mode": {
    "name": "ipython",
    "version": 3
   },
   "file_extension": ".py",
   "mimetype": "text/x-python",
   "name": "python",
   "nbconvert_exporter": "python",
   "pygments_lexer": "ipython3",
   "version": "3.10.16"
  }
 },
 "nbformat": 4,
 "nbformat_minor": 5
}
